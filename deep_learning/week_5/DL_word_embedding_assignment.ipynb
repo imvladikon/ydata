{
  "nbformat": 4,
  "nbformat_minor": 0,
  "metadata": {
    "accelerator": "GPU",
    "colab": {
      "name": "DL_word_embedding_assignment_solved_final.ipynb",
      "provenance": [],
      "collapsed_sections": [],
      "toc_visible": true
    },
    "kernelspec": {
      "display_name": "Python 3",
      "language": "python",
      "name": "python3"
    },
    "language_info": {
      "codemirror_mode": {
        "name": "ipython",
        "version": 3
      },
      "file_extension": ".py",
      "mimetype": "text/x-python",
      "name": "python",
      "nbconvert_exporter": "python",
      "pygments_lexer": "ipython3",
      "version": "3.8.3"
    },
    "widgets": {
      "application/vnd.jupyter.widget-state+json": {
        "c395fa1560344eda8a7463f645f9b84f": {
          "model_module": "@jupyter-widgets/controls",
          "model_name": "HBoxModel",
          "state": {
            "_view_name": "HBoxView",
            "_dom_classes": [],
            "_model_name": "HBoxModel",
            "_view_module": "@jupyter-widgets/controls",
            "_model_module_version": "1.5.0",
            "_view_count": null,
            "_view_module_version": "1.5.0",
            "box_style": "",
            "layout": "IPY_MODEL_1e4ed569175d4fcca293b56d0e1013a8",
            "_model_module": "@jupyter-widgets/controls",
            "children": [
              "IPY_MODEL_bb32f2a11ab84b84ac5038301ee7217e",
              "IPY_MODEL_7f82f1dae4f4462999c447be86563bce"
            ]
          }
        },
        "1e4ed569175d4fcca293b56d0e1013a8": {
          "model_module": "@jupyter-widgets/base",
          "model_name": "LayoutModel",
          "state": {
            "_view_name": "LayoutView",
            "grid_template_rows": null,
            "right": null,
            "justify_content": null,
            "_view_module": "@jupyter-widgets/base",
            "overflow": null,
            "_model_module_version": "1.2.0",
            "_view_count": null,
            "flex_flow": null,
            "width": null,
            "min_width": null,
            "border": null,
            "align_items": null,
            "bottom": null,
            "_model_module": "@jupyter-widgets/base",
            "top": null,
            "grid_column": null,
            "overflow_y": null,
            "overflow_x": null,
            "grid_auto_flow": null,
            "grid_area": null,
            "grid_template_columns": null,
            "flex": null,
            "_model_name": "LayoutModel",
            "justify_items": null,
            "grid_row": null,
            "max_height": null,
            "align_content": null,
            "visibility": null,
            "align_self": null,
            "height": null,
            "min_height": null,
            "padding": null,
            "grid_auto_rows": null,
            "grid_gap": null,
            "max_width": null,
            "order": null,
            "_view_module_version": "1.2.0",
            "grid_template_areas": null,
            "object_position": null,
            "object_fit": null,
            "grid_auto_columns": null,
            "margin": null,
            "display": null,
            "left": null
          }
        },
        "bb32f2a11ab84b84ac5038301ee7217e": {
          "model_module": "@jupyter-widgets/controls",
          "model_name": "FloatProgressModel",
          "state": {
            "_view_name": "ProgressView",
            "style": "IPY_MODEL_b48e9e7ea3344795bd88d41137264d52",
            "_dom_classes": [],
            "description": "Epoch 1: 100%",
            "_model_name": "FloatProgressModel",
            "bar_style": "",
            "max": 1250,
            "_view_module": "@jupyter-widgets/controls",
            "_model_module_version": "1.5.0",
            "value": 1250,
            "_view_count": null,
            "_view_module_version": "1.5.0",
            "orientation": "horizontal",
            "min": 0,
            "description_tooltip": null,
            "_model_module": "@jupyter-widgets/controls",
            "layout": "IPY_MODEL_a83a37bd78a941c8984ad612babee55f"
          }
        },
        "7f82f1dae4f4462999c447be86563bce": {
          "model_module": "@jupyter-widgets/controls",
          "model_name": "HTMLModel",
          "state": {
            "_view_name": "HTMLView",
            "style": "IPY_MODEL_820076eb4bd5487782a74b65736b3289",
            "_dom_classes": [],
            "description": "",
            "_model_name": "HTMLModel",
            "placeholder": "​",
            "_view_module": "@jupyter-widgets/controls",
            "_model_module_version": "1.5.0",
            "value": " 1250/1250 [01:10&lt;00:00, 16.93it/s]",
            "_view_count": null,
            "_view_module_version": "1.5.0",
            "description_tooltip": null,
            "_model_module": "@jupyter-widgets/controls",
            "layout": "IPY_MODEL_52ab876f26ea48d4809ebfa8b53db936"
          }
        },
        "b48e9e7ea3344795bd88d41137264d52": {
          "model_module": "@jupyter-widgets/controls",
          "model_name": "ProgressStyleModel",
          "state": {
            "_view_name": "StyleView",
            "_model_name": "ProgressStyleModel",
            "description_width": "initial",
            "_view_module": "@jupyter-widgets/base",
            "_model_module_version": "1.5.0",
            "_view_count": null,
            "_view_module_version": "1.2.0",
            "bar_color": null,
            "_model_module": "@jupyter-widgets/controls"
          }
        },
        "a83a37bd78a941c8984ad612babee55f": {
          "model_module": "@jupyter-widgets/base",
          "model_name": "LayoutModel",
          "state": {
            "_view_name": "LayoutView",
            "grid_template_rows": null,
            "right": null,
            "justify_content": null,
            "_view_module": "@jupyter-widgets/base",
            "overflow": null,
            "_model_module_version": "1.2.0",
            "_view_count": null,
            "flex_flow": null,
            "width": null,
            "min_width": null,
            "border": null,
            "align_items": null,
            "bottom": null,
            "_model_module": "@jupyter-widgets/base",
            "top": null,
            "grid_column": null,
            "overflow_y": null,
            "overflow_x": null,
            "grid_auto_flow": null,
            "grid_area": null,
            "grid_template_columns": null,
            "flex": null,
            "_model_name": "LayoutModel",
            "justify_items": null,
            "grid_row": null,
            "max_height": null,
            "align_content": null,
            "visibility": null,
            "align_self": null,
            "height": null,
            "min_height": null,
            "padding": null,
            "grid_auto_rows": null,
            "grid_gap": null,
            "max_width": null,
            "order": null,
            "_view_module_version": "1.2.0",
            "grid_template_areas": null,
            "object_position": null,
            "object_fit": null,
            "grid_auto_columns": null,
            "margin": null,
            "display": null,
            "left": null
          }
        },
        "820076eb4bd5487782a74b65736b3289": {
          "model_module": "@jupyter-widgets/controls",
          "model_name": "DescriptionStyleModel",
          "state": {
            "_view_name": "StyleView",
            "_model_name": "DescriptionStyleModel",
            "description_width": "",
            "_view_module": "@jupyter-widgets/base",
            "_model_module_version": "1.5.0",
            "_view_count": null,
            "_view_module_version": "1.2.0",
            "_model_module": "@jupyter-widgets/controls"
          }
        },
        "52ab876f26ea48d4809ebfa8b53db936": {
          "model_module": "@jupyter-widgets/base",
          "model_name": "LayoutModel",
          "state": {
            "_view_name": "LayoutView",
            "grid_template_rows": null,
            "right": null,
            "justify_content": null,
            "_view_module": "@jupyter-widgets/base",
            "overflow": null,
            "_model_module_version": "1.2.0",
            "_view_count": null,
            "flex_flow": null,
            "width": null,
            "min_width": null,
            "border": null,
            "align_items": null,
            "bottom": null,
            "_model_module": "@jupyter-widgets/base",
            "top": null,
            "grid_column": null,
            "overflow_y": null,
            "overflow_x": null,
            "grid_auto_flow": null,
            "grid_area": null,
            "grid_template_columns": null,
            "flex": null,
            "_model_name": "LayoutModel",
            "justify_items": null,
            "grid_row": null,
            "max_height": null,
            "align_content": null,
            "visibility": null,
            "align_self": null,
            "height": null,
            "min_height": null,
            "padding": null,
            "grid_auto_rows": null,
            "grid_gap": null,
            "max_width": null,
            "order": null,
            "_view_module_version": "1.2.0",
            "grid_template_areas": null,
            "object_position": null,
            "object_fit": null,
            "grid_auto_columns": null,
            "margin": null,
            "display": null,
            "left": null
          }
        },
        "a04c60529cd14713ab64abb21913ff41": {
          "model_module": "@jupyter-widgets/controls",
          "model_name": "HBoxModel",
          "state": {
            "_view_name": "HBoxView",
            "_dom_classes": [],
            "_model_name": "HBoxModel",
            "_view_module": "@jupyter-widgets/controls",
            "_model_module_version": "1.5.0",
            "_view_count": null,
            "_view_module_version": "1.5.0",
            "box_style": "",
            "layout": "IPY_MODEL_c6d7038b6bab46e5a5437420d9337b8a",
            "_model_module": "@jupyter-widgets/controls",
            "children": [
              "IPY_MODEL_42d65ca201114fed9642017d12f237da",
              "IPY_MODEL_7c14fe7372454c64b5be1dc7b9a11800"
            ]
          }
        },
        "c6d7038b6bab46e5a5437420d9337b8a": {
          "model_module": "@jupyter-widgets/base",
          "model_name": "LayoutModel",
          "state": {
            "_view_name": "LayoutView",
            "grid_template_rows": null,
            "right": null,
            "justify_content": null,
            "_view_module": "@jupyter-widgets/base",
            "overflow": null,
            "_model_module_version": "1.2.0",
            "_view_count": null,
            "flex_flow": null,
            "width": null,
            "min_width": null,
            "border": null,
            "align_items": null,
            "bottom": null,
            "_model_module": "@jupyter-widgets/base",
            "top": null,
            "grid_column": null,
            "overflow_y": null,
            "overflow_x": null,
            "grid_auto_flow": null,
            "grid_area": null,
            "grid_template_columns": null,
            "flex": null,
            "_model_name": "LayoutModel",
            "justify_items": null,
            "grid_row": null,
            "max_height": null,
            "align_content": null,
            "visibility": null,
            "align_self": null,
            "height": null,
            "min_height": null,
            "padding": null,
            "grid_auto_rows": null,
            "grid_gap": null,
            "max_width": null,
            "order": null,
            "_view_module_version": "1.2.0",
            "grid_template_areas": null,
            "object_position": null,
            "object_fit": null,
            "grid_auto_columns": null,
            "margin": null,
            "display": null,
            "left": null
          }
        },
        "42d65ca201114fed9642017d12f237da": {
          "model_module": "@jupyter-widgets/controls",
          "model_name": "FloatProgressModel",
          "state": {
            "_view_name": "ProgressView",
            "style": "IPY_MODEL_b506ca10310f447ca1b88b6e6acb5196",
            "_dom_classes": [],
            "description": "Epoch 1: 100%",
            "_model_name": "FloatProgressModel",
            "bar_style": "",
            "max": 313,
            "_view_module": "@jupyter-widgets/controls",
            "_model_module_version": "1.5.0",
            "value": 313,
            "_view_count": null,
            "_view_module_version": "1.5.0",
            "orientation": "horizontal",
            "min": 0,
            "description_tooltip": null,
            "_model_module": "@jupyter-widgets/controls",
            "layout": "IPY_MODEL_bab2fa622a034743a3b177273ec7b7c3"
          }
        },
        "7c14fe7372454c64b5be1dc7b9a11800": {
          "model_module": "@jupyter-widgets/controls",
          "model_name": "HTMLModel",
          "state": {
            "_view_name": "HTMLView",
            "style": "IPY_MODEL_23a0bc6229534c98b043a123463ecfc3",
            "_dom_classes": [],
            "description": "",
            "_model_name": "HTMLModel",
            "placeholder": "​",
            "_view_module": "@jupyter-widgets/controls",
            "_model_module_version": "1.5.0",
            "value": " 313/313 [00:17&lt;00:00, 17.64it/s]",
            "_view_count": null,
            "_view_module_version": "1.5.0",
            "description_tooltip": null,
            "_model_module": "@jupyter-widgets/controls",
            "layout": "IPY_MODEL_9d55a34647d543808b97a0880a1a224b"
          }
        },
        "b506ca10310f447ca1b88b6e6acb5196": {
          "model_module": "@jupyter-widgets/controls",
          "model_name": "ProgressStyleModel",
          "state": {
            "_view_name": "StyleView",
            "_model_name": "ProgressStyleModel",
            "description_width": "initial",
            "_view_module": "@jupyter-widgets/base",
            "_model_module_version": "1.5.0",
            "_view_count": null,
            "_view_module_version": "1.2.0",
            "bar_color": null,
            "_model_module": "@jupyter-widgets/controls"
          }
        },
        "bab2fa622a034743a3b177273ec7b7c3": {
          "model_module": "@jupyter-widgets/base",
          "model_name": "LayoutModel",
          "state": {
            "_view_name": "LayoutView",
            "grid_template_rows": null,
            "right": null,
            "justify_content": null,
            "_view_module": "@jupyter-widgets/base",
            "overflow": null,
            "_model_module_version": "1.2.0",
            "_view_count": null,
            "flex_flow": null,
            "width": null,
            "min_width": null,
            "border": null,
            "align_items": null,
            "bottom": null,
            "_model_module": "@jupyter-widgets/base",
            "top": null,
            "grid_column": null,
            "overflow_y": null,
            "overflow_x": null,
            "grid_auto_flow": null,
            "grid_area": null,
            "grid_template_columns": null,
            "flex": null,
            "_model_name": "LayoutModel",
            "justify_items": null,
            "grid_row": null,
            "max_height": null,
            "align_content": null,
            "visibility": null,
            "align_self": null,
            "height": null,
            "min_height": null,
            "padding": null,
            "grid_auto_rows": null,
            "grid_gap": null,
            "max_width": null,
            "order": null,
            "_view_module_version": "1.2.0",
            "grid_template_areas": null,
            "object_position": null,
            "object_fit": null,
            "grid_auto_columns": null,
            "margin": null,
            "display": null,
            "left": null
          }
        },
        "23a0bc6229534c98b043a123463ecfc3": {
          "model_module": "@jupyter-widgets/controls",
          "model_name": "DescriptionStyleModel",
          "state": {
            "_view_name": "StyleView",
            "_model_name": "DescriptionStyleModel",
            "description_width": "",
            "_view_module": "@jupyter-widgets/base",
            "_model_module_version": "1.5.0",
            "_view_count": null,
            "_view_module_version": "1.2.0",
            "_model_module": "@jupyter-widgets/controls"
          }
        },
        "9d55a34647d543808b97a0880a1a224b": {
          "model_module": "@jupyter-widgets/base",
          "model_name": "LayoutModel",
          "state": {
            "_view_name": "LayoutView",
            "grid_template_rows": null,
            "right": null,
            "justify_content": null,
            "_view_module": "@jupyter-widgets/base",
            "overflow": null,
            "_model_module_version": "1.2.0",
            "_view_count": null,
            "flex_flow": null,
            "width": null,
            "min_width": null,
            "border": null,
            "align_items": null,
            "bottom": null,
            "_model_module": "@jupyter-widgets/base",
            "top": null,
            "grid_column": null,
            "overflow_y": null,
            "overflow_x": null,
            "grid_auto_flow": null,
            "grid_area": null,
            "grid_template_columns": null,
            "flex": null,
            "_model_name": "LayoutModel",
            "justify_items": null,
            "grid_row": null,
            "max_height": null,
            "align_content": null,
            "visibility": null,
            "align_self": null,
            "height": null,
            "min_height": null,
            "padding": null,
            "grid_auto_rows": null,
            "grid_gap": null,
            "max_width": null,
            "order": null,
            "_view_module_version": "1.2.0",
            "grid_template_areas": null,
            "object_position": null,
            "object_fit": null,
            "grid_auto_columns": null,
            "margin": null,
            "display": null,
            "left": null
          }
        },
        "32d11ffc53f642b1987215223fc3e18c": {
          "model_module": "@jupyter-widgets/controls",
          "model_name": "HBoxModel",
          "state": {
            "_view_name": "HBoxView",
            "_dom_classes": [],
            "_model_name": "HBoxModel",
            "_view_module": "@jupyter-widgets/controls",
            "_model_module_version": "1.5.0",
            "_view_count": null,
            "_view_module_version": "1.5.0",
            "box_style": "",
            "layout": "IPY_MODEL_cba9076432724839ba28a411d9603034",
            "_model_module": "@jupyter-widgets/controls",
            "children": [
              "IPY_MODEL_8371cbf91f1d44698642b7d51ed1af54",
              "IPY_MODEL_8b2003ad9f9e4b90962509adcf16c235"
            ]
          }
        },
        "cba9076432724839ba28a411d9603034": {
          "model_module": "@jupyter-widgets/base",
          "model_name": "LayoutModel",
          "state": {
            "_view_name": "LayoutView",
            "grid_template_rows": null,
            "right": null,
            "justify_content": null,
            "_view_module": "@jupyter-widgets/base",
            "overflow": null,
            "_model_module_version": "1.2.0",
            "_view_count": null,
            "flex_flow": null,
            "width": null,
            "min_width": null,
            "border": null,
            "align_items": null,
            "bottom": null,
            "_model_module": "@jupyter-widgets/base",
            "top": null,
            "grid_column": null,
            "overflow_y": null,
            "overflow_x": null,
            "grid_auto_flow": null,
            "grid_area": null,
            "grid_template_columns": null,
            "flex": null,
            "_model_name": "LayoutModel",
            "justify_items": null,
            "grid_row": null,
            "max_height": null,
            "align_content": null,
            "visibility": null,
            "align_self": null,
            "height": null,
            "min_height": null,
            "padding": null,
            "grid_auto_rows": null,
            "grid_gap": null,
            "max_width": null,
            "order": null,
            "_view_module_version": "1.2.0",
            "grid_template_areas": null,
            "object_position": null,
            "object_fit": null,
            "grid_auto_columns": null,
            "margin": null,
            "display": null,
            "left": null
          }
        },
        "8371cbf91f1d44698642b7d51ed1af54": {
          "model_module": "@jupyter-widgets/controls",
          "model_name": "FloatProgressModel",
          "state": {
            "_view_name": "ProgressView",
            "style": "IPY_MODEL_c101fc0e6b2345e3a339c3601d05ee7d",
            "_dom_classes": [],
            "description": "Epoch 2: 100%",
            "_model_name": "FloatProgressModel",
            "bar_style": "",
            "max": 1250,
            "_view_module": "@jupyter-widgets/controls",
            "_model_module_version": "1.5.0",
            "value": 1250,
            "_view_count": null,
            "_view_module_version": "1.5.0",
            "orientation": "horizontal",
            "min": 0,
            "description_tooltip": null,
            "_model_module": "@jupyter-widgets/controls",
            "layout": "IPY_MODEL_011d70dafffa4fad98eb1422c8a8dd24"
          }
        },
        "8b2003ad9f9e4b90962509adcf16c235": {
          "model_module": "@jupyter-widgets/controls",
          "model_name": "HTMLModel",
          "state": {
            "_view_name": "HTMLView",
            "style": "IPY_MODEL_74f2b22536864fd19419e0d1d0d536f4",
            "_dom_classes": [],
            "description": "",
            "_model_name": "HTMLModel",
            "placeholder": "​",
            "_view_module": "@jupyter-widgets/controls",
            "_model_module_version": "1.5.0",
            "value": " 1250/1250 [01:10&lt;00:00, 17.95it/s]",
            "_view_count": null,
            "_view_module_version": "1.5.0",
            "description_tooltip": null,
            "_model_module": "@jupyter-widgets/controls",
            "layout": "IPY_MODEL_a3d8d0f4275f497b868027f91e349691"
          }
        },
        "c101fc0e6b2345e3a339c3601d05ee7d": {
          "model_module": "@jupyter-widgets/controls",
          "model_name": "ProgressStyleModel",
          "state": {
            "_view_name": "StyleView",
            "_model_name": "ProgressStyleModel",
            "description_width": "initial",
            "_view_module": "@jupyter-widgets/base",
            "_model_module_version": "1.5.0",
            "_view_count": null,
            "_view_module_version": "1.2.0",
            "bar_color": null,
            "_model_module": "@jupyter-widgets/controls"
          }
        },
        "011d70dafffa4fad98eb1422c8a8dd24": {
          "model_module": "@jupyter-widgets/base",
          "model_name": "LayoutModel",
          "state": {
            "_view_name": "LayoutView",
            "grid_template_rows": null,
            "right": null,
            "justify_content": null,
            "_view_module": "@jupyter-widgets/base",
            "overflow": null,
            "_model_module_version": "1.2.0",
            "_view_count": null,
            "flex_flow": null,
            "width": null,
            "min_width": null,
            "border": null,
            "align_items": null,
            "bottom": null,
            "_model_module": "@jupyter-widgets/base",
            "top": null,
            "grid_column": null,
            "overflow_y": null,
            "overflow_x": null,
            "grid_auto_flow": null,
            "grid_area": null,
            "grid_template_columns": null,
            "flex": null,
            "_model_name": "LayoutModel",
            "justify_items": null,
            "grid_row": null,
            "max_height": null,
            "align_content": null,
            "visibility": null,
            "align_self": null,
            "height": null,
            "min_height": null,
            "padding": null,
            "grid_auto_rows": null,
            "grid_gap": null,
            "max_width": null,
            "order": null,
            "_view_module_version": "1.2.0",
            "grid_template_areas": null,
            "object_position": null,
            "object_fit": null,
            "grid_auto_columns": null,
            "margin": null,
            "display": null,
            "left": null
          }
        },
        "74f2b22536864fd19419e0d1d0d536f4": {
          "model_module": "@jupyter-widgets/controls",
          "model_name": "DescriptionStyleModel",
          "state": {
            "_view_name": "StyleView",
            "_model_name": "DescriptionStyleModel",
            "description_width": "",
            "_view_module": "@jupyter-widgets/base",
            "_model_module_version": "1.5.0",
            "_view_count": null,
            "_view_module_version": "1.2.0",
            "_model_module": "@jupyter-widgets/controls"
          }
        },
        "a3d8d0f4275f497b868027f91e349691": {
          "model_module": "@jupyter-widgets/base",
          "model_name": "LayoutModel",
          "state": {
            "_view_name": "LayoutView",
            "grid_template_rows": null,
            "right": null,
            "justify_content": null,
            "_view_module": "@jupyter-widgets/base",
            "overflow": null,
            "_model_module_version": "1.2.0",
            "_view_count": null,
            "flex_flow": null,
            "width": null,
            "min_width": null,
            "border": null,
            "align_items": null,
            "bottom": null,
            "_model_module": "@jupyter-widgets/base",
            "top": null,
            "grid_column": null,
            "overflow_y": null,
            "overflow_x": null,
            "grid_auto_flow": null,
            "grid_area": null,
            "grid_template_columns": null,
            "flex": null,
            "_model_name": "LayoutModel",
            "justify_items": null,
            "grid_row": null,
            "max_height": null,
            "align_content": null,
            "visibility": null,
            "align_self": null,
            "height": null,
            "min_height": null,
            "padding": null,
            "grid_auto_rows": null,
            "grid_gap": null,
            "max_width": null,
            "order": null,
            "_view_module_version": "1.2.0",
            "grid_template_areas": null,
            "object_position": null,
            "object_fit": null,
            "grid_auto_columns": null,
            "margin": null,
            "display": null,
            "left": null
          }
        },
        "c2a40cb5274c4c7da2548da3b8894c4a": {
          "model_module": "@jupyter-widgets/controls",
          "model_name": "HBoxModel",
          "state": {
            "_view_name": "HBoxView",
            "_dom_classes": [],
            "_model_name": "HBoxModel",
            "_view_module": "@jupyter-widgets/controls",
            "_model_module_version": "1.5.0",
            "_view_count": null,
            "_view_module_version": "1.5.0",
            "box_style": "",
            "layout": "IPY_MODEL_eb9efc99eae24b238c09a4935243c154",
            "_model_module": "@jupyter-widgets/controls",
            "children": [
              "IPY_MODEL_87ba5afa589a4e74a74af2dab853605b",
              "IPY_MODEL_2ebc15d0722140898baa808eb7a294fc"
            ]
          }
        },
        "eb9efc99eae24b238c09a4935243c154": {
          "model_module": "@jupyter-widgets/base",
          "model_name": "LayoutModel",
          "state": {
            "_view_name": "LayoutView",
            "grid_template_rows": null,
            "right": null,
            "justify_content": null,
            "_view_module": "@jupyter-widgets/base",
            "overflow": null,
            "_model_module_version": "1.2.0",
            "_view_count": null,
            "flex_flow": null,
            "width": null,
            "min_width": null,
            "border": null,
            "align_items": null,
            "bottom": null,
            "_model_module": "@jupyter-widgets/base",
            "top": null,
            "grid_column": null,
            "overflow_y": null,
            "overflow_x": null,
            "grid_auto_flow": null,
            "grid_area": null,
            "grid_template_columns": null,
            "flex": null,
            "_model_name": "LayoutModel",
            "justify_items": null,
            "grid_row": null,
            "max_height": null,
            "align_content": null,
            "visibility": null,
            "align_self": null,
            "height": null,
            "min_height": null,
            "padding": null,
            "grid_auto_rows": null,
            "grid_gap": null,
            "max_width": null,
            "order": null,
            "_view_module_version": "1.2.0",
            "grid_template_areas": null,
            "object_position": null,
            "object_fit": null,
            "grid_auto_columns": null,
            "margin": null,
            "display": null,
            "left": null
          }
        },
        "87ba5afa589a4e74a74af2dab853605b": {
          "model_module": "@jupyter-widgets/controls",
          "model_name": "FloatProgressModel",
          "state": {
            "_view_name": "ProgressView",
            "style": "IPY_MODEL_dae5da17a38744858e907de9c11cf807",
            "_dom_classes": [],
            "description": "Epoch 2: 100%",
            "_model_name": "FloatProgressModel",
            "bar_style": "",
            "max": 313,
            "_view_module": "@jupyter-widgets/controls",
            "_model_module_version": "1.5.0",
            "value": 313,
            "_view_count": null,
            "_view_module_version": "1.5.0",
            "orientation": "horizontal",
            "min": 0,
            "description_tooltip": null,
            "_model_module": "@jupyter-widgets/controls",
            "layout": "IPY_MODEL_c7ea8443d73548269b5a995a7d94d007"
          }
        },
        "2ebc15d0722140898baa808eb7a294fc": {
          "model_module": "@jupyter-widgets/controls",
          "model_name": "HTMLModel",
          "state": {
            "_view_name": "HTMLView",
            "style": "IPY_MODEL_c88274b2c21840ca950ccaeaa48d9947",
            "_dom_classes": [],
            "description": "",
            "_model_name": "HTMLModel",
            "placeholder": "​",
            "_view_module": "@jupyter-widgets/controls",
            "_model_module_version": "1.5.0",
            "value": " 313/313 [00:17&lt;00:00, 17.77it/s]",
            "_view_count": null,
            "_view_module_version": "1.5.0",
            "description_tooltip": null,
            "_model_module": "@jupyter-widgets/controls",
            "layout": "IPY_MODEL_f5cc0769b5b74f9780f44e8e4abd5c9b"
          }
        },
        "dae5da17a38744858e907de9c11cf807": {
          "model_module": "@jupyter-widgets/controls",
          "model_name": "ProgressStyleModel",
          "state": {
            "_view_name": "StyleView",
            "_model_name": "ProgressStyleModel",
            "description_width": "initial",
            "_view_module": "@jupyter-widgets/base",
            "_model_module_version": "1.5.0",
            "_view_count": null,
            "_view_module_version": "1.2.0",
            "bar_color": null,
            "_model_module": "@jupyter-widgets/controls"
          }
        },
        "c7ea8443d73548269b5a995a7d94d007": {
          "model_module": "@jupyter-widgets/base",
          "model_name": "LayoutModel",
          "state": {
            "_view_name": "LayoutView",
            "grid_template_rows": null,
            "right": null,
            "justify_content": null,
            "_view_module": "@jupyter-widgets/base",
            "overflow": null,
            "_model_module_version": "1.2.0",
            "_view_count": null,
            "flex_flow": null,
            "width": null,
            "min_width": null,
            "border": null,
            "align_items": null,
            "bottom": null,
            "_model_module": "@jupyter-widgets/base",
            "top": null,
            "grid_column": null,
            "overflow_y": null,
            "overflow_x": null,
            "grid_auto_flow": null,
            "grid_area": null,
            "grid_template_columns": null,
            "flex": null,
            "_model_name": "LayoutModel",
            "justify_items": null,
            "grid_row": null,
            "max_height": null,
            "align_content": null,
            "visibility": null,
            "align_self": null,
            "height": null,
            "min_height": null,
            "padding": null,
            "grid_auto_rows": null,
            "grid_gap": null,
            "max_width": null,
            "order": null,
            "_view_module_version": "1.2.0",
            "grid_template_areas": null,
            "object_position": null,
            "object_fit": null,
            "grid_auto_columns": null,
            "margin": null,
            "display": null,
            "left": null
          }
        },
        "c88274b2c21840ca950ccaeaa48d9947": {
          "model_module": "@jupyter-widgets/controls",
          "model_name": "DescriptionStyleModel",
          "state": {
            "_view_name": "StyleView",
            "_model_name": "DescriptionStyleModel",
            "description_width": "",
            "_view_module": "@jupyter-widgets/base",
            "_model_module_version": "1.5.0",
            "_view_count": null,
            "_view_module_version": "1.2.0",
            "_model_module": "@jupyter-widgets/controls"
          }
        },
        "f5cc0769b5b74f9780f44e8e4abd5c9b": {
          "model_module": "@jupyter-widgets/base",
          "model_name": "LayoutModel",
          "state": {
            "_view_name": "LayoutView",
            "grid_template_rows": null,
            "right": null,
            "justify_content": null,
            "_view_module": "@jupyter-widgets/base",
            "overflow": null,
            "_model_module_version": "1.2.0",
            "_view_count": null,
            "flex_flow": null,
            "width": null,
            "min_width": null,
            "border": null,
            "align_items": null,
            "bottom": null,
            "_model_module": "@jupyter-widgets/base",
            "top": null,
            "grid_column": null,
            "overflow_y": null,
            "overflow_x": null,
            "grid_auto_flow": null,
            "grid_area": null,
            "grid_template_columns": null,
            "flex": null,
            "_model_name": "LayoutModel",
            "justify_items": null,
            "grid_row": null,
            "max_height": null,
            "align_content": null,
            "visibility": null,
            "align_self": null,
            "height": null,
            "min_height": null,
            "padding": null,
            "grid_auto_rows": null,
            "grid_gap": null,
            "max_width": null,
            "order": null,
            "_view_module_version": "1.2.0",
            "grid_template_areas": null,
            "object_position": null,
            "object_fit": null,
            "grid_auto_columns": null,
            "margin": null,
            "display": null,
            "left": null
          }
        },
        "f90a86292dd44f61b5ce18af84d73b86": {
          "model_module": "@jupyter-widgets/controls",
          "model_name": "HBoxModel",
          "state": {
            "_view_name": "HBoxView",
            "_dom_classes": [],
            "_model_name": "HBoxModel",
            "_view_module": "@jupyter-widgets/controls",
            "_model_module_version": "1.5.0",
            "_view_count": null,
            "_view_module_version": "1.5.0",
            "box_style": "",
            "layout": "IPY_MODEL_7ee8273cd7fd40a8918fb9ec0b2492bd",
            "_model_module": "@jupyter-widgets/controls",
            "children": [
              "IPY_MODEL_36d90c2d5f4949d0aef745610eadbc8b",
              "IPY_MODEL_2f5e4df9058f4dff958c51c896114c61"
            ]
          }
        },
        "7ee8273cd7fd40a8918fb9ec0b2492bd": {
          "model_module": "@jupyter-widgets/base",
          "model_name": "LayoutModel",
          "state": {
            "_view_name": "LayoutView",
            "grid_template_rows": null,
            "right": null,
            "justify_content": null,
            "_view_module": "@jupyter-widgets/base",
            "overflow": null,
            "_model_module_version": "1.2.0",
            "_view_count": null,
            "flex_flow": null,
            "width": null,
            "min_width": null,
            "border": null,
            "align_items": null,
            "bottom": null,
            "_model_module": "@jupyter-widgets/base",
            "top": null,
            "grid_column": null,
            "overflow_y": null,
            "overflow_x": null,
            "grid_auto_flow": null,
            "grid_area": null,
            "grid_template_columns": null,
            "flex": null,
            "_model_name": "LayoutModel",
            "justify_items": null,
            "grid_row": null,
            "max_height": null,
            "align_content": null,
            "visibility": null,
            "align_self": null,
            "height": null,
            "min_height": null,
            "padding": null,
            "grid_auto_rows": null,
            "grid_gap": null,
            "max_width": null,
            "order": null,
            "_view_module_version": "1.2.0",
            "grid_template_areas": null,
            "object_position": null,
            "object_fit": null,
            "grid_auto_columns": null,
            "margin": null,
            "display": null,
            "left": null
          }
        },
        "36d90c2d5f4949d0aef745610eadbc8b": {
          "model_module": "@jupyter-widgets/controls",
          "model_name": "FloatProgressModel",
          "state": {
            "_view_name": "ProgressView",
            "style": "IPY_MODEL_b203a86506ad472c945d738125e603f7",
            "_dom_classes": [],
            "description": "Epoch 3: 100%",
            "_model_name": "FloatProgressModel",
            "bar_style": "",
            "max": 1250,
            "_view_module": "@jupyter-widgets/controls",
            "_model_module_version": "1.5.0",
            "value": 1250,
            "_view_count": null,
            "_view_module_version": "1.5.0",
            "orientation": "horizontal",
            "min": 0,
            "description_tooltip": null,
            "_model_module": "@jupyter-widgets/controls",
            "layout": "IPY_MODEL_c8d66b8f9519471bb5e950a8ea0d2af7"
          }
        },
        "2f5e4df9058f4dff958c51c896114c61": {
          "model_module": "@jupyter-widgets/controls",
          "model_name": "HTMLModel",
          "state": {
            "_view_name": "HTMLView",
            "style": "IPY_MODEL_6387116c7ed84d69a5ad01ea904ec67d",
            "_dom_classes": [],
            "description": "",
            "_model_name": "HTMLModel",
            "placeholder": "​",
            "_view_module": "@jupyter-widgets/controls",
            "_model_module_version": "1.5.0",
            "value": " 1250/1250 [01:10&lt;00:00, 17.03it/s]",
            "_view_count": null,
            "_view_module_version": "1.5.0",
            "description_tooltip": null,
            "_model_module": "@jupyter-widgets/controls",
            "layout": "IPY_MODEL_9e8c390ca47049f9951ccc055faa5b65"
          }
        },
        "b203a86506ad472c945d738125e603f7": {
          "model_module": "@jupyter-widgets/controls",
          "model_name": "ProgressStyleModel",
          "state": {
            "_view_name": "StyleView",
            "_model_name": "ProgressStyleModel",
            "description_width": "initial",
            "_view_module": "@jupyter-widgets/base",
            "_model_module_version": "1.5.0",
            "_view_count": null,
            "_view_module_version": "1.2.0",
            "bar_color": null,
            "_model_module": "@jupyter-widgets/controls"
          }
        },
        "c8d66b8f9519471bb5e950a8ea0d2af7": {
          "model_module": "@jupyter-widgets/base",
          "model_name": "LayoutModel",
          "state": {
            "_view_name": "LayoutView",
            "grid_template_rows": null,
            "right": null,
            "justify_content": null,
            "_view_module": "@jupyter-widgets/base",
            "overflow": null,
            "_model_module_version": "1.2.0",
            "_view_count": null,
            "flex_flow": null,
            "width": null,
            "min_width": null,
            "border": null,
            "align_items": null,
            "bottom": null,
            "_model_module": "@jupyter-widgets/base",
            "top": null,
            "grid_column": null,
            "overflow_y": null,
            "overflow_x": null,
            "grid_auto_flow": null,
            "grid_area": null,
            "grid_template_columns": null,
            "flex": null,
            "_model_name": "LayoutModel",
            "justify_items": null,
            "grid_row": null,
            "max_height": null,
            "align_content": null,
            "visibility": null,
            "align_self": null,
            "height": null,
            "min_height": null,
            "padding": null,
            "grid_auto_rows": null,
            "grid_gap": null,
            "max_width": null,
            "order": null,
            "_view_module_version": "1.2.0",
            "grid_template_areas": null,
            "object_position": null,
            "object_fit": null,
            "grid_auto_columns": null,
            "margin": null,
            "display": null,
            "left": null
          }
        },
        "6387116c7ed84d69a5ad01ea904ec67d": {
          "model_module": "@jupyter-widgets/controls",
          "model_name": "DescriptionStyleModel",
          "state": {
            "_view_name": "StyleView",
            "_model_name": "DescriptionStyleModel",
            "description_width": "",
            "_view_module": "@jupyter-widgets/base",
            "_model_module_version": "1.5.0",
            "_view_count": null,
            "_view_module_version": "1.2.0",
            "_model_module": "@jupyter-widgets/controls"
          }
        },
        "9e8c390ca47049f9951ccc055faa5b65": {
          "model_module": "@jupyter-widgets/base",
          "model_name": "LayoutModel",
          "state": {
            "_view_name": "LayoutView",
            "grid_template_rows": null,
            "right": null,
            "justify_content": null,
            "_view_module": "@jupyter-widgets/base",
            "overflow": null,
            "_model_module_version": "1.2.0",
            "_view_count": null,
            "flex_flow": null,
            "width": null,
            "min_width": null,
            "border": null,
            "align_items": null,
            "bottom": null,
            "_model_module": "@jupyter-widgets/base",
            "top": null,
            "grid_column": null,
            "overflow_y": null,
            "overflow_x": null,
            "grid_auto_flow": null,
            "grid_area": null,
            "grid_template_columns": null,
            "flex": null,
            "_model_name": "LayoutModel",
            "justify_items": null,
            "grid_row": null,
            "max_height": null,
            "align_content": null,
            "visibility": null,
            "align_self": null,
            "height": null,
            "min_height": null,
            "padding": null,
            "grid_auto_rows": null,
            "grid_gap": null,
            "max_width": null,
            "order": null,
            "_view_module_version": "1.2.0",
            "grid_template_areas": null,
            "object_position": null,
            "object_fit": null,
            "grid_auto_columns": null,
            "margin": null,
            "display": null,
            "left": null
          }
        },
        "bccc5ef4b0d241c699b595e70db309bb": {
          "model_module": "@jupyter-widgets/controls",
          "model_name": "HBoxModel",
          "state": {
            "_view_name": "HBoxView",
            "_dom_classes": [],
            "_model_name": "HBoxModel",
            "_view_module": "@jupyter-widgets/controls",
            "_model_module_version": "1.5.0",
            "_view_count": null,
            "_view_module_version": "1.5.0",
            "box_style": "",
            "layout": "IPY_MODEL_469e4506857a4f87839f0bf82d261f2f",
            "_model_module": "@jupyter-widgets/controls",
            "children": [
              "IPY_MODEL_aba7bbe236754c2bb43d3cba53f41972",
              "IPY_MODEL_936390532386447182096c84e260d520"
            ]
          }
        },
        "469e4506857a4f87839f0bf82d261f2f": {
          "model_module": "@jupyter-widgets/base",
          "model_name": "LayoutModel",
          "state": {
            "_view_name": "LayoutView",
            "grid_template_rows": null,
            "right": null,
            "justify_content": null,
            "_view_module": "@jupyter-widgets/base",
            "overflow": null,
            "_model_module_version": "1.2.0",
            "_view_count": null,
            "flex_flow": null,
            "width": null,
            "min_width": null,
            "border": null,
            "align_items": null,
            "bottom": null,
            "_model_module": "@jupyter-widgets/base",
            "top": null,
            "grid_column": null,
            "overflow_y": null,
            "overflow_x": null,
            "grid_auto_flow": null,
            "grid_area": null,
            "grid_template_columns": null,
            "flex": null,
            "_model_name": "LayoutModel",
            "justify_items": null,
            "grid_row": null,
            "max_height": null,
            "align_content": null,
            "visibility": null,
            "align_self": null,
            "height": null,
            "min_height": null,
            "padding": null,
            "grid_auto_rows": null,
            "grid_gap": null,
            "max_width": null,
            "order": null,
            "_view_module_version": "1.2.0",
            "grid_template_areas": null,
            "object_position": null,
            "object_fit": null,
            "grid_auto_columns": null,
            "margin": null,
            "display": null,
            "left": null
          }
        },
        "aba7bbe236754c2bb43d3cba53f41972": {
          "model_module": "@jupyter-widgets/controls",
          "model_name": "FloatProgressModel",
          "state": {
            "_view_name": "ProgressView",
            "style": "IPY_MODEL_c5efc67353914fc6823359809337b56e",
            "_dom_classes": [],
            "description": "Epoch 3: 100%",
            "_model_name": "FloatProgressModel",
            "bar_style": "",
            "max": 313,
            "_view_module": "@jupyter-widgets/controls",
            "_model_module_version": "1.5.0",
            "value": 313,
            "_view_count": null,
            "_view_module_version": "1.5.0",
            "orientation": "horizontal",
            "min": 0,
            "description_tooltip": null,
            "_model_module": "@jupyter-widgets/controls",
            "layout": "IPY_MODEL_b4d05f07328c486c842a0b616541fb18"
          }
        },
        "936390532386447182096c84e260d520": {
          "model_module": "@jupyter-widgets/controls",
          "model_name": "HTMLModel",
          "state": {
            "_view_name": "HTMLView",
            "style": "IPY_MODEL_cb6cb88ac52e4572a118e37668ec33bd",
            "_dom_classes": [],
            "description": "",
            "_model_name": "HTMLModel",
            "placeholder": "​",
            "_view_module": "@jupyter-widgets/controls",
            "_model_module_version": "1.5.0",
            "value": " 313/313 [00:17&lt;00:00, 18.09it/s]",
            "_view_count": null,
            "_view_module_version": "1.5.0",
            "description_tooltip": null,
            "_model_module": "@jupyter-widgets/controls",
            "layout": "IPY_MODEL_e4fa45d32a224177a8313831c896e2b3"
          }
        },
        "c5efc67353914fc6823359809337b56e": {
          "model_module": "@jupyter-widgets/controls",
          "model_name": "ProgressStyleModel",
          "state": {
            "_view_name": "StyleView",
            "_model_name": "ProgressStyleModel",
            "description_width": "initial",
            "_view_module": "@jupyter-widgets/base",
            "_model_module_version": "1.5.0",
            "_view_count": null,
            "_view_module_version": "1.2.0",
            "bar_color": null,
            "_model_module": "@jupyter-widgets/controls"
          }
        },
        "b4d05f07328c486c842a0b616541fb18": {
          "model_module": "@jupyter-widgets/base",
          "model_name": "LayoutModel",
          "state": {
            "_view_name": "LayoutView",
            "grid_template_rows": null,
            "right": null,
            "justify_content": null,
            "_view_module": "@jupyter-widgets/base",
            "overflow": null,
            "_model_module_version": "1.2.0",
            "_view_count": null,
            "flex_flow": null,
            "width": null,
            "min_width": null,
            "border": null,
            "align_items": null,
            "bottom": null,
            "_model_module": "@jupyter-widgets/base",
            "top": null,
            "grid_column": null,
            "overflow_y": null,
            "overflow_x": null,
            "grid_auto_flow": null,
            "grid_area": null,
            "grid_template_columns": null,
            "flex": null,
            "_model_name": "LayoutModel",
            "justify_items": null,
            "grid_row": null,
            "max_height": null,
            "align_content": null,
            "visibility": null,
            "align_self": null,
            "height": null,
            "min_height": null,
            "padding": null,
            "grid_auto_rows": null,
            "grid_gap": null,
            "max_width": null,
            "order": null,
            "_view_module_version": "1.2.0",
            "grid_template_areas": null,
            "object_position": null,
            "object_fit": null,
            "grid_auto_columns": null,
            "margin": null,
            "display": null,
            "left": null
          }
        },
        "cb6cb88ac52e4572a118e37668ec33bd": {
          "model_module": "@jupyter-widgets/controls",
          "model_name": "DescriptionStyleModel",
          "state": {
            "_view_name": "StyleView",
            "_model_name": "DescriptionStyleModel",
            "description_width": "",
            "_view_module": "@jupyter-widgets/base",
            "_model_module_version": "1.5.0",
            "_view_count": null,
            "_view_module_version": "1.2.0",
            "_model_module": "@jupyter-widgets/controls"
          }
        },
        "e4fa45d32a224177a8313831c896e2b3": {
          "model_module": "@jupyter-widgets/base",
          "model_name": "LayoutModel",
          "state": {
            "_view_name": "LayoutView",
            "grid_template_rows": null,
            "right": null,
            "justify_content": null,
            "_view_module": "@jupyter-widgets/base",
            "overflow": null,
            "_model_module_version": "1.2.0",
            "_view_count": null,
            "flex_flow": null,
            "width": null,
            "min_width": null,
            "border": null,
            "align_items": null,
            "bottom": null,
            "_model_module": "@jupyter-widgets/base",
            "top": null,
            "grid_column": null,
            "overflow_y": null,
            "overflow_x": null,
            "grid_auto_flow": null,
            "grid_area": null,
            "grid_template_columns": null,
            "flex": null,
            "_model_name": "LayoutModel",
            "justify_items": null,
            "grid_row": null,
            "max_height": null,
            "align_content": null,
            "visibility": null,
            "align_self": null,
            "height": null,
            "min_height": null,
            "padding": null,
            "grid_auto_rows": null,
            "grid_gap": null,
            "max_width": null,
            "order": null,
            "_view_module_version": "1.2.0",
            "grid_template_areas": null,
            "object_position": null,
            "object_fit": null,
            "grid_auto_columns": null,
            "margin": null,
            "display": null,
            "left": null
          }
        },
        "c5eaeb6ab1f14568a79b88ae31d2164a": {
          "model_module": "@jupyter-widgets/controls",
          "model_name": "HBoxModel",
          "state": {
            "_view_name": "HBoxView",
            "_dom_classes": [],
            "_model_name": "HBoxModel",
            "_view_module": "@jupyter-widgets/controls",
            "_model_module_version": "1.5.0",
            "_view_count": null,
            "_view_module_version": "1.5.0",
            "box_style": "",
            "layout": "IPY_MODEL_4f3646676e4841d1916b0137faa40592",
            "_model_module": "@jupyter-widgets/controls",
            "children": [
              "IPY_MODEL_cdb390a6206d40e4b14fd77b7121b357",
              "IPY_MODEL_31e5b5081b5247818dc9812cc0c849a8"
            ]
          }
        },
        "4f3646676e4841d1916b0137faa40592": {
          "model_module": "@jupyter-widgets/base",
          "model_name": "LayoutModel",
          "state": {
            "_view_name": "LayoutView",
            "grid_template_rows": null,
            "right": null,
            "justify_content": null,
            "_view_module": "@jupyter-widgets/base",
            "overflow": null,
            "_model_module_version": "1.2.0",
            "_view_count": null,
            "flex_flow": null,
            "width": null,
            "min_width": null,
            "border": null,
            "align_items": null,
            "bottom": null,
            "_model_module": "@jupyter-widgets/base",
            "top": null,
            "grid_column": null,
            "overflow_y": null,
            "overflow_x": null,
            "grid_auto_flow": null,
            "grid_area": null,
            "grid_template_columns": null,
            "flex": null,
            "_model_name": "LayoutModel",
            "justify_items": null,
            "grid_row": null,
            "max_height": null,
            "align_content": null,
            "visibility": null,
            "align_self": null,
            "height": null,
            "min_height": null,
            "padding": null,
            "grid_auto_rows": null,
            "grid_gap": null,
            "max_width": null,
            "order": null,
            "_view_module_version": "1.2.0",
            "grid_template_areas": null,
            "object_position": null,
            "object_fit": null,
            "grid_auto_columns": null,
            "margin": null,
            "display": null,
            "left": null
          }
        },
        "cdb390a6206d40e4b14fd77b7121b357": {
          "model_module": "@jupyter-widgets/controls",
          "model_name": "FloatProgressModel",
          "state": {
            "_view_name": "ProgressView",
            "style": "IPY_MODEL_34473c57fb164493a13e5d1ceefd20b4",
            "_dom_classes": [],
            "description": "Epoch 4: 100%",
            "_model_name": "FloatProgressModel",
            "bar_style": "",
            "max": 1250,
            "_view_module": "@jupyter-widgets/controls",
            "_model_module_version": "1.5.0",
            "value": 1250,
            "_view_count": null,
            "_view_module_version": "1.5.0",
            "orientation": "horizontal",
            "min": 0,
            "description_tooltip": null,
            "_model_module": "@jupyter-widgets/controls",
            "layout": "IPY_MODEL_864b0dfc06934a448f2433e6866ad34b"
          }
        },
        "31e5b5081b5247818dc9812cc0c849a8": {
          "model_module": "@jupyter-widgets/controls",
          "model_name": "HTMLModel",
          "state": {
            "_view_name": "HTMLView",
            "style": "IPY_MODEL_bcd1216faac440dd9820e5ad64b0b711",
            "_dom_classes": [],
            "description": "",
            "_model_name": "HTMLModel",
            "placeholder": "​",
            "_view_module": "@jupyter-widgets/controls",
            "_model_module_version": "1.5.0",
            "value": " 1250/1250 [01:11&lt;00:00, 17.60it/s]",
            "_view_count": null,
            "_view_module_version": "1.5.0",
            "description_tooltip": null,
            "_model_module": "@jupyter-widgets/controls",
            "layout": "IPY_MODEL_bfd5cc6897c74c6897652db3a8557ba4"
          }
        },
        "34473c57fb164493a13e5d1ceefd20b4": {
          "model_module": "@jupyter-widgets/controls",
          "model_name": "ProgressStyleModel",
          "state": {
            "_view_name": "StyleView",
            "_model_name": "ProgressStyleModel",
            "description_width": "initial",
            "_view_module": "@jupyter-widgets/base",
            "_model_module_version": "1.5.0",
            "_view_count": null,
            "_view_module_version": "1.2.0",
            "bar_color": null,
            "_model_module": "@jupyter-widgets/controls"
          }
        },
        "864b0dfc06934a448f2433e6866ad34b": {
          "model_module": "@jupyter-widgets/base",
          "model_name": "LayoutModel",
          "state": {
            "_view_name": "LayoutView",
            "grid_template_rows": null,
            "right": null,
            "justify_content": null,
            "_view_module": "@jupyter-widgets/base",
            "overflow": null,
            "_model_module_version": "1.2.0",
            "_view_count": null,
            "flex_flow": null,
            "width": null,
            "min_width": null,
            "border": null,
            "align_items": null,
            "bottom": null,
            "_model_module": "@jupyter-widgets/base",
            "top": null,
            "grid_column": null,
            "overflow_y": null,
            "overflow_x": null,
            "grid_auto_flow": null,
            "grid_area": null,
            "grid_template_columns": null,
            "flex": null,
            "_model_name": "LayoutModel",
            "justify_items": null,
            "grid_row": null,
            "max_height": null,
            "align_content": null,
            "visibility": null,
            "align_self": null,
            "height": null,
            "min_height": null,
            "padding": null,
            "grid_auto_rows": null,
            "grid_gap": null,
            "max_width": null,
            "order": null,
            "_view_module_version": "1.2.0",
            "grid_template_areas": null,
            "object_position": null,
            "object_fit": null,
            "grid_auto_columns": null,
            "margin": null,
            "display": null,
            "left": null
          }
        },
        "bcd1216faac440dd9820e5ad64b0b711": {
          "model_module": "@jupyter-widgets/controls",
          "model_name": "DescriptionStyleModel",
          "state": {
            "_view_name": "StyleView",
            "_model_name": "DescriptionStyleModel",
            "description_width": "",
            "_view_module": "@jupyter-widgets/base",
            "_model_module_version": "1.5.0",
            "_view_count": null,
            "_view_module_version": "1.2.0",
            "_model_module": "@jupyter-widgets/controls"
          }
        },
        "bfd5cc6897c74c6897652db3a8557ba4": {
          "model_module": "@jupyter-widgets/base",
          "model_name": "LayoutModel",
          "state": {
            "_view_name": "LayoutView",
            "grid_template_rows": null,
            "right": null,
            "justify_content": null,
            "_view_module": "@jupyter-widgets/base",
            "overflow": null,
            "_model_module_version": "1.2.0",
            "_view_count": null,
            "flex_flow": null,
            "width": null,
            "min_width": null,
            "border": null,
            "align_items": null,
            "bottom": null,
            "_model_module": "@jupyter-widgets/base",
            "top": null,
            "grid_column": null,
            "overflow_y": null,
            "overflow_x": null,
            "grid_auto_flow": null,
            "grid_area": null,
            "grid_template_columns": null,
            "flex": null,
            "_model_name": "LayoutModel",
            "justify_items": null,
            "grid_row": null,
            "max_height": null,
            "align_content": null,
            "visibility": null,
            "align_self": null,
            "height": null,
            "min_height": null,
            "padding": null,
            "grid_auto_rows": null,
            "grid_gap": null,
            "max_width": null,
            "order": null,
            "_view_module_version": "1.2.0",
            "grid_template_areas": null,
            "object_position": null,
            "object_fit": null,
            "grid_auto_columns": null,
            "margin": null,
            "display": null,
            "left": null
          }
        },
        "3a4dd0c7279741109bbde6465472785d": {
          "model_module": "@jupyter-widgets/controls",
          "model_name": "HBoxModel",
          "state": {
            "_view_name": "HBoxView",
            "_dom_classes": [],
            "_model_name": "HBoxModel",
            "_view_module": "@jupyter-widgets/controls",
            "_model_module_version": "1.5.0",
            "_view_count": null,
            "_view_module_version": "1.5.0",
            "box_style": "",
            "layout": "IPY_MODEL_194410d790a04f16b281fff80251d912",
            "_model_module": "@jupyter-widgets/controls",
            "children": [
              "IPY_MODEL_faa47d0fbf044af6aa8816fb6baeff30",
              "IPY_MODEL_c342527d884b43dd9076d28f0ccf5589"
            ]
          }
        },
        "194410d790a04f16b281fff80251d912": {
          "model_module": "@jupyter-widgets/base",
          "model_name": "LayoutModel",
          "state": {
            "_view_name": "LayoutView",
            "grid_template_rows": null,
            "right": null,
            "justify_content": null,
            "_view_module": "@jupyter-widgets/base",
            "overflow": null,
            "_model_module_version": "1.2.0",
            "_view_count": null,
            "flex_flow": null,
            "width": null,
            "min_width": null,
            "border": null,
            "align_items": null,
            "bottom": null,
            "_model_module": "@jupyter-widgets/base",
            "top": null,
            "grid_column": null,
            "overflow_y": null,
            "overflow_x": null,
            "grid_auto_flow": null,
            "grid_area": null,
            "grid_template_columns": null,
            "flex": null,
            "_model_name": "LayoutModel",
            "justify_items": null,
            "grid_row": null,
            "max_height": null,
            "align_content": null,
            "visibility": null,
            "align_self": null,
            "height": null,
            "min_height": null,
            "padding": null,
            "grid_auto_rows": null,
            "grid_gap": null,
            "max_width": null,
            "order": null,
            "_view_module_version": "1.2.0",
            "grid_template_areas": null,
            "object_position": null,
            "object_fit": null,
            "grid_auto_columns": null,
            "margin": null,
            "display": null,
            "left": null
          }
        },
        "faa47d0fbf044af6aa8816fb6baeff30": {
          "model_module": "@jupyter-widgets/controls",
          "model_name": "FloatProgressModel",
          "state": {
            "_view_name": "ProgressView",
            "style": "IPY_MODEL_a9bf7e032b7e4f04b86a842827e1b864",
            "_dom_classes": [],
            "description": "Epoch 4: 100%",
            "_model_name": "FloatProgressModel",
            "bar_style": "",
            "max": 313,
            "_view_module": "@jupyter-widgets/controls",
            "_model_module_version": "1.5.0",
            "value": 313,
            "_view_count": null,
            "_view_module_version": "1.5.0",
            "orientation": "horizontal",
            "min": 0,
            "description_tooltip": null,
            "_model_module": "@jupyter-widgets/controls",
            "layout": "IPY_MODEL_6a88c9dfa893401bb96c5336f374898c"
          }
        },
        "c342527d884b43dd9076d28f0ccf5589": {
          "model_module": "@jupyter-widgets/controls",
          "model_name": "HTMLModel",
          "state": {
            "_view_name": "HTMLView",
            "style": "IPY_MODEL_6fa1376cd0c5408ab3542cf369a2dd13",
            "_dom_classes": [],
            "description": "",
            "_model_name": "HTMLModel",
            "placeholder": "​",
            "_view_module": "@jupyter-widgets/controls",
            "_model_module_version": "1.5.0",
            "value": " 313/313 [00:17&lt;00:00, 18.18it/s]",
            "_view_count": null,
            "_view_module_version": "1.5.0",
            "description_tooltip": null,
            "_model_module": "@jupyter-widgets/controls",
            "layout": "IPY_MODEL_3a194976b9524e84a7d38f87ac6f1660"
          }
        },
        "a9bf7e032b7e4f04b86a842827e1b864": {
          "model_module": "@jupyter-widgets/controls",
          "model_name": "ProgressStyleModel",
          "state": {
            "_view_name": "StyleView",
            "_model_name": "ProgressStyleModel",
            "description_width": "initial",
            "_view_module": "@jupyter-widgets/base",
            "_model_module_version": "1.5.0",
            "_view_count": null,
            "_view_module_version": "1.2.0",
            "bar_color": null,
            "_model_module": "@jupyter-widgets/controls"
          }
        },
        "6a88c9dfa893401bb96c5336f374898c": {
          "model_module": "@jupyter-widgets/base",
          "model_name": "LayoutModel",
          "state": {
            "_view_name": "LayoutView",
            "grid_template_rows": null,
            "right": null,
            "justify_content": null,
            "_view_module": "@jupyter-widgets/base",
            "overflow": null,
            "_model_module_version": "1.2.0",
            "_view_count": null,
            "flex_flow": null,
            "width": null,
            "min_width": null,
            "border": null,
            "align_items": null,
            "bottom": null,
            "_model_module": "@jupyter-widgets/base",
            "top": null,
            "grid_column": null,
            "overflow_y": null,
            "overflow_x": null,
            "grid_auto_flow": null,
            "grid_area": null,
            "grid_template_columns": null,
            "flex": null,
            "_model_name": "LayoutModel",
            "justify_items": null,
            "grid_row": null,
            "max_height": null,
            "align_content": null,
            "visibility": null,
            "align_self": null,
            "height": null,
            "min_height": null,
            "padding": null,
            "grid_auto_rows": null,
            "grid_gap": null,
            "max_width": null,
            "order": null,
            "_view_module_version": "1.2.0",
            "grid_template_areas": null,
            "object_position": null,
            "object_fit": null,
            "grid_auto_columns": null,
            "margin": null,
            "display": null,
            "left": null
          }
        },
        "6fa1376cd0c5408ab3542cf369a2dd13": {
          "model_module": "@jupyter-widgets/controls",
          "model_name": "DescriptionStyleModel",
          "state": {
            "_view_name": "StyleView",
            "_model_name": "DescriptionStyleModel",
            "description_width": "",
            "_view_module": "@jupyter-widgets/base",
            "_model_module_version": "1.5.0",
            "_view_count": null,
            "_view_module_version": "1.2.0",
            "_model_module": "@jupyter-widgets/controls"
          }
        },
        "3a194976b9524e84a7d38f87ac6f1660": {
          "model_module": "@jupyter-widgets/base",
          "model_name": "LayoutModel",
          "state": {
            "_view_name": "LayoutView",
            "grid_template_rows": null,
            "right": null,
            "justify_content": null,
            "_view_module": "@jupyter-widgets/base",
            "overflow": null,
            "_model_module_version": "1.2.0",
            "_view_count": null,
            "flex_flow": null,
            "width": null,
            "min_width": null,
            "border": null,
            "align_items": null,
            "bottom": null,
            "_model_module": "@jupyter-widgets/base",
            "top": null,
            "grid_column": null,
            "overflow_y": null,
            "overflow_x": null,
            "grid_auto_flow": null,
            "grid_area": null,
            "grid_template_columns": null,
            "flex": null,
            "_model_name": "LayoutModel",
            "justify_items": null,
            "grid_row": null,
            "max_height": null,
            "align_content": null,
            "visibility": null,
            "align_self": null,
            "height": null,
            "min_height": null,
            "padding": null,
            "grid_auto_rows": null,
            "grid_gap": null,
            "max_width": null,
            "order": null,
            "_view_module_version": "1.2.0",
            "grid_template_areas": null,
            "object_position": null,
            "object_fit": null,
            "grid_auto_columns": null,
            "margin": null,
            "display": null,
            "left": null
          }
        },
        "3318eb93075a4899947e592011aa1a79": {
          "model_module": "@jupyter-widgets/controls",
          "model_name": "HBoxModel",
          "state": {
            "_view_name": "HBoxView",
            "_dom_classes": [],
            "_model_name": "HBoxModel",
            "_view_module": "@jupyter-widgets/controls",
            "_model_module_version": "1.5.0",
            "_view_count": null,
            "_view_module_version": "1.5.0",
            "box_style": "",
            "layout": "IPY_MODEL_b0990c1de3d944a4a82048bc69d86cd8",
            "_model_module": "@jupyter-widgets/controls",
            "children": [
              "IPY_MODEL_d0af3622e32449458456d786ddde4eb2",
              "IPY_MODEL_1106c849f3b146e5adc389a689eab8fe"
            ]
          }
        },
        "b0990c1de3d944a4a82048bc69d86cd8": {
          "model_module": "@jupyter-widgets/base",
          "model_name": "LayoutModel",
          "state": {
            "_view_name": "LayoutView",
            "grid_template_rows": null,
            "right": null,
            "justify_content": null,
            "_view_module": "@jupyter-widgets/base",
            "overflow": null,
            "_model_module_version": "1.2.0",
            "_view_count": null,
            "flex_flow": null,
            "width": null,
            "min_width": null,
            "border": null,
            "align_items": null,
            "bottom": null,
            "_model_module": "@jupyter-widgets/base",
            "top": null,
            "grid_column": null,
            "overflow_y": null,
            "overflow_x": null,
            "grid_auto_flow": null,
            "grid_area": null,
            "grid_template_columns": null,
            "flex": null,
            "_model_name": "LayoutModel",
            "justify_items": null,
            "grid_row": null,
            "max_height": null,
            "align_content": null,
            "visibility": null,
            "align_self": null,
            "height": null,
            "min_height": null,
            "padding": null,
            "grid_auto_rows": null,
            "grid_gap": null,
            "max_width": null,
            "order": null,
            "_view_module_version": "1.2.0",
            "grid_template_areas": null,
            "object_position": null,
            "object_fit": null,
            "grid_auto_columns": null,
            "margin": null,
            "display": null,
            "left": null
          }
        },
        "d0af3622e32449458456d786ddde4eb2": {
          "model_module": "@jupyter-widgets/controls",
          "model_name": "FloatProgressModel",
          "state": {
            "_view_name": "ProgressView",
            "style": "IPY_MODEL_5698832b336e4ce799f73d61f73bd906",
            "_dom_classes": [],
            "description": "Epoch 5: 100%",
            "_model_name": "FloatProgressModel",
            "bar_style": "",
            "max": 1250,
            "_view_module": "@jupyter-widgets/controls",
            "_model_module_version": "1.5.0",
            "value": 1250,
            "_view_count": null,
            "_view_module_version": "1.5.0",
            "orientation": "horizontal",
            "min": 0,
            "description_tooltip": null,
            "_model_module": "@jupyter-widgets/controls",
            "layout": "IPY_MODEL_027f2c0ec94c4349acf05c49c1b6f387"
          }
        },
        "1106c849f3b146e5adc389a689eab8fe": {
          "model_module": "@jupyter-widgets/controls",
          "model_name": "HTMLModel",
          "state": {
            "_view_name": "HTMLView",
            "style": "IPY_MODEL_16e662540fea4f56bf615c29b1f8c945",
            "_dom_classes": [],
            "description": "",
            "_model_name": "HTMLModel",
            "placeholder": "​",
            "_view_module": "@jupyter-widgets/controls",
            "_model_module_version": "1.5.0",
            "value": " 1250/1250 [01:11&lt;00:00, 17.22it/s]",
            "_view_count": null,
            "_view_module_version": "1.5.0",
            "description_tooltip": null,
            "_model_module": "@jupyter-widgets/controls",
            "layout": "IPY_MODEL_4dd751deef94494a98a48f4dc7540298"
          }
        },
        "5698832b336e4ce799f73d61f73bd906": {
          "model_module": "@jupyter-widgets/controls",
          "model_name": "ProgressStyleModel",
          "state": {
            "_view_name": "StyleView",
            "_model_name": "ProgressStyleModel",
            "description_width": "initial",
            "_view_module": "@jupyter-widgets/base",
            "_model_module_version": "1.5.0",
            "_view_count": null,
            "_view_module_version": "1.2.0",
            "bar_color": null,
            "_model_module": "@jupyter-widgets/controls"
          }
        },
        "027f2c0ec94c4349acf05c49c1b6f387": {
          "model_module": "@jupyter-widgets/base",
          "model_name": "LayoutModel",
          "state": {
            "_view_name": "LayoutView",
            "grid_template_rows": null,
            "right": null,
            "justify_content": null,
            "_view_module": "@jupyter-widgets/base",
            "overflow": null,
            "_model_module_version": "1.2.0",
            "_view_count": null,
            "flex_flow": null,
            "width": null,
            "min_width": null,
            "border": null,
            "align_items": null,
            "bottom": null,
            "_model_module": "@jupyter-widgets/base",
            "top": null,
            "grid_column": null,
            "overflow_y": null,
            "overflow_x": null,
            "grid_auto_flow": null,
            "grid_area": null,
            "grid_template_columns": null,
            "flex": null,
            "_model_name": "LayoutModel",
            "justify_items": null,
            "grid_row": null,
            "max_height": null,
            "align_content": null,
            "visibility": null,
            "align_self": null,
            "height": null,
            "min_height": null,
            "padding": null,
            "grid_auto_rows": null,
            "grid_gap": null,
            "max_width": null,
            "order": null,
            "_view_module_version": "1.2.0",
            "grid_template_areas": null,
            "object_position": null,
            "object_fit": null,
            "grid_auto_columns": null,
            "margin": null,
            "display": null,
            "left": null
          }
        },
        "16e662540fea4f56bf615c29b1f8c945": {
          "model_module": "@jupyter-widgets/controls",
          "model_name": "DescriptionStyleModel",
          "state": {
            "_view_name": "StyleView",
            "_model_name": "DescriptionStyleModel",
            "description_width": "",
            "_view_module": "@jupyter-widgets/base",
            "_model_module_version": "1.5.0",
            "_view_count": null,
            "_view_module_version": "1.2.0",
            "_model_module": "@jupyter-widgets/controls"
          }
        },
        "4dd751deef94494a98a48f4dc7540298": {
          "model_module": "@jupyter-widgets/base",
          "model_name": "LayoutModel",
          "state": {
            "_view_name": "LayoutView",
            "grid_template_rows": null,
            "right": null,
            "justify_content": null,
            "_view_module": "@jupyter-widgets/base",
            "overflow": null,
            "_model_module_version": "1.2.0",
            "_view_count": null,
            "flex_flow": null,
            "width": null,
            "min_width": null,
            "border": null,
            "align_items": null,
            "bottom": null,
            "_model_module": "@jupyter-widgets/base",
            "top": null,
            "grid_column": null,
            "overflow_y": null,
            "overflow_x": null,
            "grid_auto_flow": null,
            "grid_area": null,
            "grid_template_columns": null,
            "flex": null,
            "_model_name": "LayoutModel",
            "justify_items": null,
            "grid_row": null,
            "max_height": null,
            "align_content": null,
            "visibility": null,
            "align_self": null,
            "height": null,
            "min_height": null,
            "padding": null,
            "grid_auto_rows": null,
            "grid_gap": null,
            "max_width": null,
            "order": null,
            "_view_module_version": "1.2.0",
            "grid_template_areas": null,
            "object_position": null,
            "object_fit": null,
            "grid_auto_columns": null,
            "margin": null,
            "display": null,
            "left": null
          }
        },
        "03df7560b23a40e4a6b54180073ed6e4": {
          "model_module": "@jupyter-widgets/controls",
          "model_name": "HBoxModel",
          "state": {
            "_view_name": "HBoxView",
            "_dom_classes": [],
            "_model_name": "HBoxModel",
            "_view_module": "@jupyter-widgets/controls",
            "_model_module_version": "1.5.0",
            "_view_count": null,
            "_view_module_version": "1.5.0",
            "box_style": "",
            "layout": "IPY_MODEL_0945c58e47d24e0a83f9f91c456ed676",
            "_model_module": "@jupyter-widgets/controls",
            "children": [
              "IPY_MODEL_fa6665c6a7214f9089b76481cc0e293e",
              "IPY_MODEL_fb4dc7b362b74812a78fc13c2a827682"
            ]
          }
        },
        "0945c58e47d24e0a83f9f91c456ed676": {
          "model_module": "@jupyter-widgets/base",
          "model_name": "LayoutModel",
          "state": {
            "_view_name": "LayoutView",
            "grid_template_rows": null,
            "right": null,
            "justify_content": null,
            "_view_module": "@jupyter-widgets/base",
            "overflow": null,
            "_model_module_version": "1.2.0",
            "_view_count": null,
            "flex_flow": null,
            "width": null,
            "min_width": null,
            "border": null,
            "align_items": null,
            "bottom": null,
            "_model_module": "@jupyter-widgets/base",
            "top": null,
            "grid_column": null,
            "overflow_y": null,
            "overflow_x": null,
            "grid_auto_flow": null,
            "grid_area": null,
            "grid_template_columns": null,
            "flex": null,
            "_model_name": "LayoutModel",
            "justify_items": null,
            "grid_row": null,
            "max_height": null,
            "align_content": null,
            "visibility": null,
            "align_self": null,
            "height": null,
            "min_height": null,
            "padding": null,
            "grid_auto_rows": null,
            "grid_gap": null,
            "max_width": null,
            "order": null,
            "_view_module_version": "1.2.0",
            "grid_template_areas": null,
            "object_position": null,
            "object_fit": null,
            "grid_auto_columns": null,
            "margin": null,
            "display": null,
            "left": null
          }
        },
        "fa6665c6a7214f9089b76481cc0e293e": {
          "model_module": "@jupyter-widgets/controls",
          "model_name": "FloatProgressModel",
          "state": {
            "_view_name": "ProgressView",
            "style": "IPY_MODEL_d9b0a6e27e38489c8d9caafc07e56d87",
            "_dom_classes": [],
            "description": "Epoch 5: 100%",
            "_model_name": "FloatProgressModel",
            "bar_style": "",
            "max": 313,
            "_view_module": "@jupyter-widgets/controls",
            "_model_module_version": "1.5.0",
            "value": 313,
            "_view_count": null,
            "_view_module_version": "1.5.0",
            "orientation": "horizontal",
            "min": 0,
            "description_tooltip": null,
            "_model_module": "@jupyter-widgets/controls",
            "layout": "IPY_MODEL_457b2e4271324a3282be222dbaac5921"
          }
        },
        "fb4dc7b362b74812a78fc13c2a827682": {
          "model_module": "@jupyter-widgets/controls",
          "model_name": "HTMLModel",
          "state": {
            "_view_name": "HTMLView",
            "style": "IPY_MODEL_6d1cdf74ed6747a8a8d6b188694c982b",
            "_dom_classes": [],
            "description": "",
            "_model_name": "HTMLModel",
            "placeholder": "​",
            "_view_module": "@jupyter-widgets/controls",
            "_model_module_version": "1.5.0",
            "value": " 313/313 [00:17&lt;00:00, 18.05it/s]",
            "_view_count": null,
            "_view_module_version": "1.5.0",
            "description_tooltip": null,
            "_model_module": "@jupyter-widgets/controls",
            "layout": "IPY_MODEL_0b4c0230b6eb43218e0968071bb3f31e"
          }
        },
        "d9b0a6e27e38489c8d9caafc07e56d87": {
          "model_module": "@jupyter-widgets/controls",
          "model_name": "ProgressStyleModel",
          "state": {
            "_view_name": "StyleView",
            "_model_name": "ProgressStyleModel",
            "description_width": "initial",
            "_view_module": "@jupyter-widgets/base",
            "_model_module_version": "1.5.0",
            "_view_count": null,
            "_view_module_version": "1.2.0",
            "bar_color": null,
            "_model_module": "@jupyter-widgets/controls"
          }
        },
        "457b2e4271324a3282be222dbaac5921": {
          "model_module": "@jupyter-widgets/base",
          "model_name": "LayoutModel",
          "state": {
            "_view_name": "LayoutView",
            "grid_template_rows": null,
            "right": null,
            "justify_content": null,
            "_view_module": "@jupyter-widgets/base",
            "overflow": null,
            "_model_module_version": "1.2.0",
            "_view_count": null,
            "flex_flow": null,
            "width": null,
            "min_width": null,
            "border": null,
            "align_items": null,
            "bottom": null,
            "_model_module": "@jupyter-widgets/base",
            "top": null,
            "grid_column": null,
            "overflow_y": null,
            "overflow_x": null,
            "grid_auto_flow": null,
            "grid_area": null,
            "grid_template_columns": null,
            "flex": null,
            "_model_name": "LayoutModel",
            "justify_items": null,
            "grid_row": null,
            "max_height": null,
            "align_content": null,
            "visibility": null,
            "align_self": null,
            "height": null,
            "min_height": null,
            "padding": null,
            "grid_auto_rows": null,
            "grid_gap": null,
            "max_width": null,
            "order": null,
            "_view_module_version": "1.2.0",
            "grid_template_areas": null,
            "object_position": null,
            "object_fit": null,
            "grid_auto_columns": null,
            "margin": null,
            "display": null,
            "left": null
          }
        },
        "6d1cdf74ed6747a8a8d6b188694c982b": {
          "model_module": "@jupyter-widgets/controls",
          "model_name": "DescriptionStyleModel",
          "state": {
            "_view_name": "StyleView",
            "_model_name": "DescriptionStyleModel",
            "description_width": "",
            "_view_module": "@jupyter-widgets/base",
            "_model_module_version": "1.5.0",
            "_view_count": null,
            "_view_module_version": "1.2.0",
            "_model_module": "@jupyter-widgets/controls"
          }
        },
        "0b4c0230b6eb43218e0968071bb3f31e": {
          "model_module": "@jupyter-widgets/base",
          "model_name": "LayoutModel",
          "state": {
            "_view_name": "LayoutView",
            "grid_template_rows": null,
            "right": null,
            "justify_content": null,
            "_view_module": "@jupyter-widgets/base",
            "overflow": null,
            "_model_module_version": "1.2.0",
            "_view_count": null,
            "flex_flow": null,
            "width": null,
            "min_width": null,
            "border": null,
            "align_items": null,
            "bottom": null,
            "_model_module": "@jupyter-widgets/base",
            "top": null,
            "grid_column": null,
            "overflow_y": null,
            "overflow_x": null,
            "grid_auto_flow": null,
            "grid_area": null,
            "grid_template_columns": null,
            "flex": null,
            "_model_name": "LayoutModel",
            "justify_items": null,
            "grid_row": null,
            "max_height": null,
            "align_content": null,
            "visibility": null,
            "align_self": null,
            "height": null,
            "min_height": null,
            "padding": null,
            "grid_auto_rows": null,
            "grid_gap": null,
            "max_width": null,
            "order": null,
            "_view_module_version": "1.2.0",
            "grid_template_areas": null,
            "object_position": null,
            "object_fit": null,
            "grid_auto_columns": null,
            "margin": null,
            "display": null,
            "left": null
          }
        },
        "3651428351de4136bb9524f62fbe1356": {
          "model_module": "@jupyter-widgets/controls",
          "model_name": "HBoxModel",
          "state": {
            "_view_name": "HBoxView",
            "_dom_classes": [],
            "_model_name": "HBoxModel",
            "_view_module": "@jupyter-widgets/controls",
            "_model_module_version": "1.5.0",
            "_view_count": null,
            "_view_module_version": "1.5.0",
            "box_style": "",
            "layout": "IPY_MODEL_21119148e3a04ff6baf008a8bf878549",
            "_model_module": "@jupyter-widgets/controls",
            "children": [
              "IPY_MODEL_77261b333fc0491496045a454a77f64f",
              "IPY_MODEL_be25a1dad9d14d5490f6a118c1d79a2e"
            ]
          }
        },
        "21119148e3a04ff6baf008a8bf878549": {
          "model_module": "@jupyter-widgets/base",
          "model_name": "LayoutModel",
          "state": {
            "_view_name": "LayoutView",
            "grid_template_rows": null,
            "right": null,
            "justify_content": null,
            "_view_module": "@jupyter-widgets/base",
            "overflow": null,
            "_model_module_version": "1.2.0",
            "_view_count": null,
            "flex_flow": null,
            "width": null,
            "min_width": null,
            "border": null,
            "align_items": null,
            "bottom": null,
            "_model_module": "@jupyter-widgets/base",
            "top": null,
            "grid_column": null,
            "overflow_y": null,
            "overflow_x": null,
            "grid_auto_flow": null,
            "grid_area": null,
            "grid_template_columns": null,
            "flex": null,
            "_model_name": "LayoutModel",
            "justify_items": null,
            "grid_row": null,
            "max_height": null,
            "align_content": null,
            "visibility": null,
            "align_self": null,
            "height": null,
            "min_height": null,
            "padding": null,
            "grid_auto_rows": null,
            "grid_gap": null,
            "max_width": null,
            "order": null,
            "_view_module_version": "1.2.0",
            "grid_template_areas": null,
            "object_position": null,
            "object_fit": null,
            "grid_auto_columns": null,
            "margin": null,
            "display": null,
            "left": null
          }
        },
        "77261b333fc0491496045a454a77f64f": {
          "model_module": "@jupyter-widgets/controls",
          "model_name": "FloatProgressModel",
          "state": {
            "_view_name": "ProgressView",
            "style": "IPY_MODEL_91112d3fb4e64ea3924a4163da25ace0",
            "_dom_classes": [],
            "description": "Epoch 1: 100%",
            "_model_name": "FloatProgressModel",
            "bar_style": "",
            "max": 1250,
            "_view_module": "@jupyter-widgets/controls",
            "_model_module_version": "1.5.0",
            "value": 1250,
            "_view_count": null,
            "_view_module_version": "1.5.0",
            "orientation": "horizontal",
            "min": 0,
            "description_tooltip": null,
            "_model_module": "@jupyter-widgets/controls",
            "layout": "IPY_MODEL_c974961914b140c8842d763e9811f95a"
          }
        },
        "be25a1dad9d14d5490f6a118c1d79a2e": {
          "model_module": "@jupyter-widgets/controls",
          "model_name": "HTMLModel",
          "state": {
            "_view_name": "HTMLView",
            "style": "IPY_MODEL_b23a300df2fe4c2ca3c18a9c10f071b7",
            "_dom_classes": [],
            "description": "",
            "_model_name": "HTMLModel",
            "placeholder": "​",
            "_view_module": "@jupyter-widgets/controls",
            "_model_module_version": "1.5.0",
            "value": " 1250/1250 [01:20&lt;00:00, 15.26it/s]",
            "_view_count": null,
            "_view_module_version": "1.5.0",
            "description_tooltip": null,
            "_model_module": "@jupyter-widgets/controls",
            "layout": "IPY_MODEL_aaf94d89d0ba43e38b3e22eb1d779bfc"
          }
        },
        "91112d3fb4e64ea3924a4163da25ace0": {
          "model_module": "@jupyter-widgets/controls",
          "model_name": "ProgressStyleModel",
          "state": {
            "_view_name": "StyleView",
            "_model_name": "ProgressStyleModel",
            "description_width": "initial",
            "_view_module": "@jupyter-widgets/base",
            "_model_module_version": "1.5.0",
            "_view_count": null,
            "_view_module_version": "1.2.0",
            "bar_color": null,
            "_model_module": "@jupyter-widgets/controls"
          }
        },
        "c974961914b140c8842d763e9811f95a": {
          "model_module": "@jupyter-widgets/base",
          "model_name": "LayoutModel",
          "state": {
            "_view_name": "LayoutView",
            "grid_template_rows": null,
            "right": null,
            "justify_content": null,
            "_view_module": "@jupyter-widgets/base",
            "overflow": null,
            "_model_module_version": "1.2.0",
            "_view_count": null,
            "flex_flow": null,
            "width": null,
            "min_width": null,
            "border": null,
            "align_items": null,
            "bottom": null,
            "_model_module": "@jupyter-widgets/base",
            "top": null,
            "grid_column": null,
            "overflow_y": null,
            "overflow_x": null,
            "grid_auto_flow": null,
            "grid_area": null,
            "grid_template_columns": null,
            "flex": null,
            "_model_name": "LayoutModel",
            "justify_items": null,
            "grid_row": null,
            "max_height": null,
            "align_content": null,
            "visibility": null,
            "align_self": null,
            "height": null,
            "min_height": null,
            "padding": null,
            "grid_auto_rows": null,
            "grid_gap": null,
            "max_width": null,
            "order": null,
            "_view_module_version": "1.2.0",
            "grid_template_areas": null,
            "object_position": null,
            "object_fit": null,
            "grid_auto_columns": null,
            "margin": null,
            "display": null,
            "left": null
          }
        },
        "b23a300df2fe4c2ca3c18a9c10f071b7": {
          "model_module": "@jupyter-widgets/controls",
          "model_name": "DescriptionStyleModel",
          "state": {
            "_view_name": "StyleView",
            "_model_name": "DescriptionStyleModel",
            "description_width": "",
            "_view_module": "@jupyter-widgets/base",
            "_model_module_version": "1.5.0",
            "_view_count": null,
            "_view_module_version": "1.2.0",
            "_model_module": "@jupyter-widgets/controls"
          }
        },
        "aaf94d89d0ba43e38b3e22eb1d779bfc": {
          "model_module": "@jupyter-widgets/base",
          "model_name": "LayoutModel",
          "state": {
            "_view_name": "LayoutView",
            "grid_template_rows": null,
            "right": null,
            "justify_content": null,
            "_view_module": "@jupyter-widgets/base",
            "overflow": null,
            "_model_module_version": "1.2.0",
            "_view_count": null,
            "flex_flow": null,
            "width": null,
            "min_width": null,
            "border": null,
            "align_items": null,
            "bottom": null,
            "_model_module": "@jupyter-widgets/base",
            "top": null,
            "grid_column": null,
            "overflow_y": null,
            "overflow_x": null,
            "grid_auto_flow": null,
            "grid_area": null,
            "grid_template_columns": null,
            "flex": null,
            "_model_name": "LayoutModel",
            "justify_items": null,
            "grid_row": null,
            "max_height": null,
            "align_content": null,
            "visibility": null,
            "align_self": null,
            "height": null,
            "min_height": null,
            "padding": null,
            "grid_auto_rows": null,
            "grid_gap": null,
            "max_width": null,
            "order": null,
            "_view_module_version": "1.2.0",
            "grid_template_areas": null,
            "object_position": null,
            "object_fit": null,
            "grid_auto_columns": null,
            "margin": null,
            "display": null,
            "left": null
          }
        },
        "e869be3f760e43f3ae322c513181ac47": {
          "model_module": "@jupyter-widgets/controls",
          "model_name": "HBoxModel",
          "state": {
            "_view_name": "HBoxView",
            "_dom_classes": [],
            "_model_name": "HBoxModel",
            "_view_module": "@jupyter-widgets/controls",
            "_model_module_version": "1.5.0",
            "_view_count": null,
            "_view_module_version": "1.5.0",
            "box_style": "",
            "layout": "IPY_MODEL_ff28c4478f8c4e9bba037554f1827d4e",
            "_model_module": "@jupyter-widgets/controls",
            "children": [
              "IPY_MODEL_e1314b600f8f466791ff6d07119205b5",
              "IPY_MODEL_7d12d29eee1543018815904246849658"
            ]
          }
        },
        "ff28c4478f8c4e9bba037554f1827d4e": {
          "model_module": "@jupyter-widgets/base",
          "model_name": "LayoutModel",
          "state": {
            "_view_name": "LayoutView",
            "grid_template_rows": null,
            "right": null,
            "justify_content": null,
            "_view_module": "@jupyter-widgets/base",
            "overflow": null,
            "_model_module_version": "1.2.0",
            "_view_count": null,
            "flex_flow": null,
            "width": null,
            "min_width": null,
            "border": null,
            "align_items": null,
            "bottom": null,
            "_model_module": "@jupyter-widgets/base",
            "top": null,
            "grid_column": null,
            "overflow_y": null,
            "overflow_x": null,
            "grid_auto_flow": null,
            "grid_area": null,
            "grid_template_columns": null,
            "flex": null,
            "_model_name": "LayoutModel",
            "justify_items": null,
            "grid_row": null,
            "max_height": null,
            "align_content": null,
            "visibility": null,
            "align_self": null,
            "height": null,
            "min_height": null,
            "padding": null,
            "grid_auto_rows": null,
            "grid_gap": null,
            "max_width": null,
            "order": null,
            "_view_module_version": "1.2.0",
            "grid_template_areas": null,
            "object_position": null,
            "object_fit": null,
            "grid_auto_columns": null,
            "margin": null,
            "display": null,
            "left": null
          }
        },
        "e1314b600f8f466791ff6d07119205b5": {
          "model_module": "@jupyter-widgets/controls",
          "model_name": "FloatProgressModel",
          "state": {
            "_view_name": "ProgressView",
            "style": "IPY_MODEL_875caba3dd9f469eb9596c4b27bd4353",
            "_dom_classes": [],
            "description": "Epoch 1: 100%",
            "_model_name": "FloatProgressModel",
            "bar_style": "",
            "max": 313,
            "_view_module": "@jupyter-widgets/controls",
            "_model_module_version": "1.5.0",
            "value": 313,
            "_view_count": null,
            "_view_module_version": "1.5.0",
            "orientation": "horizontal",
            "min": 0,
            "description_tooltip": null,
            "_model_module": "@jupyter-widgets/controls",
            "layout": "IPY_MODEL_3069669e23184ab6a0b346dd82a8ccf7"
          }
        },
        "7d12d29eee1543018815904246849658": {
          "model_module": "@jupyter-widgets/controls",
          "model_name": "HTMLModel",
          "state": {
            "_view_name": "HTMLView",
            "style": "IPY_MODEL_1f035a8d9f9341388f5d3ebd2d97be54",
            "_dom_classes": [],
            "description": "",
            "_model_name": "HTMLModel",
            "placeholder": "​",
            "_view_module": "@jupyter-widgets/controls",
            "_model_module_version": "1.5.0",
            "value": " 313/313 [00:16&lt;00:00, 17.65it/s]",
            "_view_count": null,
            "_view_module_version": "1.5.0",
            "description_tooltip": null,
            "_model_module": "@jupyter-widgets/controls",
            "layout": "IPY_MODEL_264c3f756c0c42b6926bd8272cb3bf86"
          }
        },
        "875caba3dd9f469eb9596c4b27bd4353": {
          "model_module": "@jupyter-widgets/controls",
          "model_name": "ProgressStyleModel",
          "state": {
            "_view_name": "StyleView",
            "_model_name": "ProgressStyleModel",
            "description_width": "initial",
            "_view_module": "@jupyter-widgets/base",
            "_model_module_version": "1.5.0",
            "_view_count": null,
            "_view_module_version": "1.2.0",
            "bar_color": null,
            "_model_module": "@jupyter-widgets/controls"
          }
        },
        "3069669e23184ab6a0b346dd82a8ccf7": {
          "model_module": "@jupyter-widgets/base",
          "model_name": "LayoutModel",
          "state": {
            "_view_name": "LayoutView",
            "grid_template_rows": null,
            "right": null,
            "justify_content": null,
            "_view_module": "@jupyter-widgets/base",
            "overflow": null,
            "_model_module_version": "1.2.0",
            "_view_count": null,
            "flex_flow": null,
            "width": null,
            "min_width": null,
            "border": null,
            "align_items": null,
            "bottom": null,
            "_model_module": "@jupyter-widgets/base",
            "top": null,
            "grid_column": null,
            "overflow_y": null,
            "overflow_x": null,
            "grid_auto_flow": null,
            "grid_area": null,
            "grid_template_columns": null,
            "flex": null,
            "_model_name": "LayoutModel",
            "justify_items": null,
            "grid_row": null,
            "max_height": null,
            "align_content": null,
            "visibility": null,
            "align_self": null,
            "height": null,
            "min_height": null,
            "padding": null,
            "grid_auto_rows": null,
            "grid_gap": null,
            "max_width": null,
            "order": null,
            "_view_module_version": "1.2.0",
            "grid_template_areas": null,
            "object_position": null,
            "object_fit": null,
            "grid_auto_columns": null,
            "margin": null,
            "display": null,
            "left": null
          }
        },
        "1f035a8d9f9341388f5d3ebd2d97be54": {
          "model_module": "@jupyter-widgets/controls",
          "model_name": "DescriptionStyleModel",
          "state": {
            "_view_name": "StyleView",
            "_model_name": "DescriptionStyleModel",
            "description_width": "",
            "_view_module": "@jupyter-widgets/base",
            "_model_module_version": "1.5.0",
            "_view_count": null,
            "_view_module_version": "1.2.0",
            "_model_module": "@jupyter-widgets/controls"
          }
        },
        "264c3f756c0c42b6926bd8272cb3bf86": {
          "model_module": "@jupyter-widgets/base",
          "model_name": "LayoutModel",
          "state": {
            "_view_name": "LayoutView",
            "grid_template_rows": null,
            "right": null,
            "justify_content": null,
            "_view_module": "@jupyter-widgets/base",
            "overflow": null,
            "_model_module_version": "1.2.0",
            "_view_count": null,
            "flex_flow": null,
            "width": null,
            "min_width": null,
            "border": null,
            "align_items": null,
            "bottom": null,
            "_model_module": "@jupyter-widgets/base",
            "top": null,
            "grid_column": null,
            "overflow_y": null,
            "overflow_x": null,
            "grid_auto_flow": null,
            "grid_area": null,
            "grid_template_columns": null,
            "flex": null,
            "_model_name": "LayoutModel",
            "justify_items": null,
            "grid_row": null,
            "max_height": null,
            "align_content": null,
            "visibility": null,
            "align_self": null,
            "height": null,
            "min_height": null,
            "padding": null,
            "grid_auto_rows": null,
            "grid_gap": null,
            "max_width": null,
            "order": null,
            "_view_module_version": "1.2.0",
            "grid_template_areas": null,
            "object_position": null,
            "object_fit": null,
            "grid_auto_columns": null,
            "margin": null,
            "display": null,
            "left": null
          }
        },
        "3d531505f0c74b0b8886e82819ca1609": {
          "model_module": "@jupyter-widgets/controls",
          "model_name": "HBoxModel",
          "state": {
            "_view_name": "HBoxView",
            "_dom_classes": [],
            "_model_name": "HBoxModel",
            "_view_module": "@jupyter-widgets/controls",
            "_model_module_version": "1.5.0",
            "_view_count": null,
            "_view_module_version": "1.5.0",
            "box_style": "",
            "layout": "IPY_MODEL_45fccdc5273742dda3f4ea327bcab0ce",
            "_model_module": "@jupyter-widgets/controls",
            "children": [
              "IPY_MODEL_7ea061262b67409b8b9c89276aa8ef06",
              "IPY_MODEL_c05c6f76a3a747f4b62e2a8f404b2082"
            ]
          }
        },
        "45fccdc5273742dda3f4ea327bcab0ce": {
          "model_module": "@jupyter-widgets/base",
          "model_name": "LayoutModel",
          "state": {
            "_view_name": "LayoutView",
            "grid_template_rows": null,
            "right": null,
            "justify_content": null,
            "_view_module": "@jupyter-widgets/base",
            "overflow": null,
            "_model_module_version": "1.2.0",
            "_view_count": null,
            "flex_flow": null,
            "width": null,
            "min_width": null,
            "border": null,
            "align_items": null,
            "bottom": null,
            "_model_module": "@jupyter-widgets/base",
            "top": null,
            "grid_column": null,
            "overflow_y": null,
            "overflow_x": null,
            "grid_auto_flow": null,
            "grid_area": null,
            "grid_template_columns": null,
            "flex": null,
            "_model_name": "LayoutModel",
            "justify_items": null,
            "grid_row": null,
            "max_height": null,
            "align_content": null,
            "visibility": null,
            "align_self": null,
            "height": null,
            "min_height": null,
            "padding": null,
            "grid_auto_rows": null,
            "grid_gap": null,
            "max_width": null,
            "order": null,
            "_view_module_version": "1.2.0",
            "grid_template_areas": null,
            "object_position": null,
            "object_fit": null,
            "grid_auto_columns": null,
            "margin": null,
            "display": null,
            "left": null
          }
        },
        "7ea061262b67409b8b9c89276aa8ef06": {
          "model_module": "@jupyter-widgets/controls",
          "model_name": "FloatProgressModel",
          "state": {
            "_view_name": "ProgressView",
            "style": "IPY_MODEL_be09d80588514aca80cb630cefbf72d8",
            "_dom_classes": [],
            "description": "Epoch 2: 100%",
            "_model_name": "FloatProgressModel",
            "bar_style": "",
            "max": 1250,
            "_view_module": "@jupyter-widgets/controls",
            "_model_module_version": "1.5.0",
            "value": 1250,
            "_view_count": null,
            "_view_module_version": "1.5.0",
            "orientation": "horizontal",
            "min": 0,
            "description_tooltip": null,
            "_model_module": "@jupyter-widgets/controls",
            "layout": "IPY_MODEL_6c83b99e769a4ac9a0fd46507ffd18b5"
          }
        },
        "c05c6f76a3a747f4b62e2a8f404b2082": {
          "model_module": "@jupyter-widgets/controls",
          "model_name": "HTMLModel",
          "state": {
            "_view_name": "HTMLView",
            "style": "IPY_MODEL_e69a8a67183947c9a1a24798430d9c0e",
            "_dom_classes": [],
            "description": "",
            "_model_name": "HTMLModel",
            "placeholder": "​",
            "_view_module": "@jupyter-widgets/controls",
            "_model_module_version": "1.5.0",
            "value": " 1250/1250 [01:23&lt;00:00, 15.11it/s]",
            "_view_count": null,
            "_view_module_version": "1.5.0",
            "description_tooltip": null,
            "_model_module": "@jupyter-widgets/controls",
            "layout": "IPY_MODEL_27b49442ea2d4a50a13f6807ac000a5b"
          }
        },
        "be09d80588514aca80cb630cefbf72d8": {
          "model_module": "@jupyter-widgets/controls",
          "model_name": "ProgressStyleModel",
          "state": {
            "_view_name": "StyleView",
            "_model_name": "ProgressStyleModel",
            "description_width": "initial",
            "_view_module": "@jupyter-widgets/base",
            "_model_module_version": "1.5.0",
            "_view_count": null,
            "_view_module_version": "1.2.0",
            "bar_color": null,
            "_model_module": "@jupyter-widgets/controls"
          }
        },
        "6c83b99e769a4ac9a0fd46507ffd18b5": {
          "model_module": "@jupyter-widgets/base",
          "model_name": "LayoutModel",
          "state": {
            "_view_name": "LayoutView",
            "grid_template_rows": null,
            "right": null,
            "justify_content": null,
            "_view_module": "@jupyter-widgets/base",
            "overflow": null,
            "_model_module_version": "1.2.0",
            "_view_count": null,
            "flex_flow": null,
            "width": null,
            "min_width": null,
            "border": null,
            "align_items": null,
            "bottom": null,
            "_model_module": "@jupyter-widgets/base",
            "top": null,
            "grid_column": null,
            "overflow_y": null,
            "overflow_x": null,
            "grid_auto_flow": null,
            "grid_area": null,
            "grid_template_columns": null,
            "flex": null,
            "_model_name": "LayoutModel",
            "justify_items": null,
            "grid_row": null,
            "max_height": null,
            "align_content": null,
            "visibility": null,
            "align_self": null,
            "height": null,
            "min_height": null,
            "padding": null,
            "grid_auto_rows": null,
            "grid_gap": null,
            "max_width": null,
            "order": null,
            "_view_module_version": "1.2.0",
            "grid_template_areas": null,
            "object_position": null,
            "object_fit": null,
            "grid_auto_columns": null,
            "margin": null,
            "display": null,
            "left": null
          }
        },
        "e69a8a67183947c9a1a24798430d9c0e": {
          "model_module": "@jupyter-widgets/controls",
          "model_name": "DescriptionStyleModel",
          "state": {
            "_view_name": "StyleView",
            "_model_name": "DescriptionStyleModel",
            "description_width": "",
            "_view_module": "@jupyter-widgets/base",
            "_model_module_version": "1.5.0",
            "_view_count": null,
            "_view_module_version": "1.2.0",
            "_model_module": "@jupyter-widgets/controls"
          }
        },
        "27b49442ea2d4a50a13f6807ac000a5b": {
          "model_module": "@jupyter-widgets/base",
          "model_name": "LayoutModel",
          "state": {
            "_view_name": "LayoutView",
            "grid_template_rows": null,
            "right": null,
            "justify_content": null,
            "_view_module": "@jupyter-widgets/base",
            "overflow": null,
            "_model_module_version": "1.2.0",
            "_view_count": null,
            "flex_flow": null,
            "width": null,
            "min_width": null,
            "border": null,
            "align_items": null,
            "bottom": null,
            "_model_module": "@jupyter-widgets/base",
            "top": null,
            "grid_column": null,
            "overflow_y": null,
            "overflow_x": null,
            "grid_auto_flow": null,
            "grid_area": null,
            "grid_template_columns": null,
            "flex": null,
            "_model_name": "LayoutModel",
            "justify_items": null,
            "grid_row": null,
            "max_height": null,
            "align_content": null,
            "visibility": null,
            "align_self": null,
            "height": null,
            "min_height": null,
            "padding": null,
            "grid_auto_rows": null,
            "grid_gap": null,
            "max_width": null,
            "order": null,
            "_view_module_version": "1.2.0",
            "grid_template_areas": null,
            "object_position": null,
            "object_fit": null,
            "grid_auto_columns": null,
            "margin": null,
            "display": null,
            "left": null
          }
        },
        "99e6c55590aa4515b2485d5e9a421b72": {
          "model_module": "@jupyter-widgets/controls",
          "model_name": "HBoxModel",
          "state": {
            "_view_name": "HBoxView",
            "_dom_classes": [],
            "_model_name": "HBoxModel",
            "_view_module": "@jupyter-widgets/controls",
            "_model_module_version": "1.5.0",
            "_view_count": null,
            "_view_module_version": "1.5.0",
            "box_style": "",
            "layout": "IPY_MODEL_8f2c73484fdb4596a2fe9de459a47554",
            "_model_module": "@jupyter-widgets/controls",
            "children": [
              "IPY_MODEL_f547d9af73e14f70bec01dcfb212964d",
              "IPY_MODEL_9603c9de30454b0bb182d5e886860d0a"
            ]
          }
        },
        "8f2c73484fdb4596a2fe9de459a47554": {
          "model_module": "@jupyter-widgets/base",
          "model_name": "LayoutModel",
          "state": {
            "_view_name": "LayoutView",
            "grid_template_rows": null,
            "right": null,
            "justify_content": null,
            "_view_module": "@jupyter-widgets/base",
            "overflow": null,
            "_model_module_version": "1.2.0",
            "_view_count": null,
            "flex_flow": null,
            "width": null,
            "min_width": null,
            "border": null,
            "align_items": null,
            "bottom": null,
            "_model_module": "@jupyter-widgets/base",
            "top": null,
            "grid_column": null,
            "overflow_y": null,
            "overflow_x": null,
            "grid_auto_flow": null,
            "grid_area": null,
            "grid_template_columns": null,
            "flex": null,
            "_model_name": "LayoutModel",
            "justify_items": null,
            "grid_row": null,
            "max_height": null,
            "align_content": null,
            "visibility": null,
            "align_self": null,
            "height": null,
            "min_height": null,
            "padding": null,
            "grid_auto_rows": null,
            "grid_gap": null,
            "max_width": null,
            "order": null,
            "_view_module_version": "1.2.0",
            "grid_template_areas": null,
            "object_position": null,
            "object_fit": null,
            "grid_auto_columns": null,
            "margin": null,
            "display": null,
            "left": null
          }
        },
        "f547d9af73e14f70bec01dcfb212964d": {
          "model_module": "@jupyter-widgets/controls",
          "model_name": "FloatProgressModel",
          "state": {
            "_view_name": "ProgressView",
            "style": "IPY_MODEL_01d340d3f61f4a6ebebce5f61ce10861",
            "_dom_classes": [],
            "description": "Epoch 2: 100%",
            "_model_name": "FloatProgressModel",
            "bar_style": "",
            "max": 313,
            "_view_module": "@jupyter-widgets/controls",
            "_model_module_version": "1.5.0",
            "value": 313,
            "_view_count": null,
            "_view_module_version": "1.5.0",
            "orientation": "horizontal",
            "min": 0,
            "description_tooltip": null,
            "_model_module": "@jupyter-widgets/controls",
            "layout": "IPY_MODEL_12076b0468d9489d982ae845ccea63ce"
          }
        },
        "9603c9de30454b0bb182d5e886860d0a": {
          "model_module": "@jupyter-widgets/controls",
          "model_name": "HTMLModel",
          "state": {
            "_view_name": "HTMLView",
            "style": "IPY_MODEL_4b7631c39bc141dbbf614c40f3ccff83",
            "_dom_classes": [],
            "description": "",
            "_model_name": "HTMLModel",
            "placeholder": "​",
            "_view_module": "@jupyter-widgets/controls",
            "_model_module_version": "1.5.0",
            "value": " 313/313 [00:17&lt;00:00, 17.63it/s]",
            "_view_count": null,
            "_view_module_version": "1.5.0",
            "description_tooltip": null,
            "_model_module": "@jupyter-widgets/controls",
            "layout": "IPY_MODEL_d27031d4a9914b25a4df65f6a80d23d8"
          }
        },
        "01d340d3f61f4a6ebebce5f61ce10861": {
          "model_module": "@jupyter-widgets/controls",
          "model_name": "ProgressStyleModel",
          "state": {
            "_view_name": "StyleView",
            "_model_name": "ProgressStyleModel",
            "description_width": "initial",
            "_view_module": "@jupyter-widgets/base",
            "_model_module_version": "1.5.0",
            "_view_count": null,
            "_view_module_version": "1.2.0",
            "bar_color": null,
            "_model_module": "@jupyter-widgets/controls"
          }
        },
        "12076b0468d9489d982ae845ccea63ce": {
          "model_module": "@jupyter-widgets/base",
          "model_name": "LayoutModel",
          "state": {
            "_view_name": "LayoutView",
            "grid_template_rows": null,
            "right": null,
            "justify_content": null,
            "_view_module": "@jupyter-widgets/base",
            "overflow": null,
            "_model_module_version": "1.2.0",
            "_view_count": null,
            "flex_flow": null,
            "width": null,
            "min_width": null,
            "border": null,
            "align_items": null,
            "bottom": null,
            "_model_module": "@jupyter-widgets/base",
            "top": null,
            "grid_column": null,
            "overflow_y": null,
            "overflow_x": null,
            "grid_auto_flow": null,
            "grid_area": null,
            "grid_template_columns": null,
            "flex": null,
            "_model_name": "LayoutModel",
            "justify_items": null,
            "grid_row": null,
            "max_height": null,
            "align_content": null,
            "visibility": null,
            "align_self": null,
            "height": null,
            "min_height": null,
            "padding": null,
            "grid_auto_rows": null,
            "grid_gap": null,
            "max_width": null,
            "order": null,
            "_view_module_version": "1.2.0",
            "grid_template_areas": null,
            "object_position": null,
            "object_fit": null,
            "grid_auto_columns": null,
            "margin": null,
            "display": null,
            "left": null
          }
        },
        "4b7631c39bc141dbbf614c40f3ccff83": {
          "model_module": "@jupyter-widgets/controls",
          "model_name": "DescriptionStyleModel",
          "state": {
            "_view_name": "StyleView",
            "_model_name": "DescriptionStyleModel",
            "description_width": "",
            "_view_module": "@jupyter-widgets/base",
            "_model_module_version": "1.5.0",
            "_view_count": null,
            "_view_module_version": "1.2.0",
            "_model_module": "@jupyter-widgets/controls"
          }
        },
        "d27031d4a9914b25a4df65f6a80d23d8": {
          "model_module": "@jupyter-widgets/base",
          "model_name": "LayoutModel",
          "state": {
            "_view_name": "LayoutView",
            "grid_template_rows": null,
            "right": null,
            "justify_content": null,
            "_view_module": "@jupyter-widgets/base",
            "overflow": null,
            "_model_module_version": "1.2.0",
            "_view_count": null,
            "flex_flow": null,
            "width": null,
            "min_width": null,
            "border": null,
            "align_items": null,
            "bottom": null,
            "_model_module": "@jupyter-widgets/base",
            "top": null,
            "grid_column": null,
            "overflow_y": null,
            "overflow_x": null,
            "grid_auto_flow": null,
            "grid_area": null,
            "grid_template_columns": null,
            "flex": null,
            "_model_name": "LayoutModel",
            "justify_items": null,
            "grid_row": null,
            "max_height": null,
            "align_content": null,
            "visibility": null,
            "align_self": null,
            "height": null,
            "min_height": null,
            "padding": null,
            "grid_auto_rows": null,
            "grid_gap": null,
            "max_width": null,
            "order": null,
            "_view_module_version": "1.2.0",
            "grid_template_areas": null,
            "object_position": null,
            "object_fit": null,
            "grid_auto_columns": null,
            "margin": null,
            "display": null,
            "left": null
          }
        },
        "38ed7e5f090e4f8db5f472e345243ede": {
          "model_module": "@jupyter-widgets/controls",
          "model_name": "HBoxModel",
          "state": {
            "_view_name": "HBoxView",
            "_dom_classes": [],
            "_model_name": "HBoxModel",
            "_view_module": "@jupyter-widgets/controls",
            "_model_module_version": "1.5.0",
            "_view_count": null,
            "_view_module_version": "1.5.0",
            "box_style": "",
            "layout": "IPY_MODEL_4ac2a5e408d64b2cbf1f11e6301c665c",
            "_model_module": "@jupyter-widgets/controls",
            "children": [
              "IPY_MODEL_35d0ff127be44aa897478aede862b0cd",
              "IPY_MODEL_65c9fff1ca9a430cbdc0f5f4404d0c39"
            ]
          }
        },
        "4ac2a5e408d64b2cbf1f11e6301c665c": {
          "model_module": "@jupyter-widgets/base",
          "model_name": "LayoutModel",
          "state": {
            "_view_name": "LayoutView",
            "grid_template_rows": null,
            "right": null,
            "justify_content": null,
            "_view_module": "@jupyter-widgets/base",
            "overflow": null,
            "_model_module_version": "1.2.0",
            "_view_count": null,
            "flex_flow": null,
            "width": null,
            "min_width": null,
            "border": null,
            "align_items": null,
            "bottom": null,
            "_model_module": "@jupyter-widgets/base",
            "top": null,
            "grid_column": null,
            "overflow_y": null,
            "overflow_x": null,
            "grid_auto_flow": null,
            "grid_area": null,
            "grid_template_columns": null,
            "flex": null,
            "_model_name": "LayoutModel",
            "justify_items": null,
            "grid_row": null,
            "max_height": null,
            "align_content": null,
            "visibility": null,
            "align_self": null,
            "height": null,
            "min_height": null,
            "padding": null,
            "grid_auto_rows": null,
            "grid_gap": null,
            "max_width": null,
            "order": null,
            "_view_module_version": "1.2.0",
            "grid_template_areas": null,
            "object_position": null,
            "object_fit": null,
            "grid_auto_columns": null,
            "margin": null,
            "display": null,
            "left": null
          }
        },
        "35d0ff127be44aa897478aede862b0cd": {
          "model_module": "@jupyter-widgets/controls",
          "model_name": "FloatProgressModel",
          "state": {
            "_view_name": "ProgressView",
            "style": "IPY_MODEL_de7a113ff236458da27c94b4c959d543",
            "_dom_classes": [],
            "description": "Epoch 3: 100%",
            "_model_name": "FloatProgressModel",
            "bar_style": "",
            "max": 1250,
            "_view_module": "@jupyter-widgets/controls",
            "_model_module_version": "1.5.0",
            "value": 1250,
            "_view_count": null,
            "_view_module_version": "1.5.0",
            "orientation": "horizontal",
            "min": 0,
            "description_tooltip": null,
            "_model_module": "@jupyter-widgets/controls",
            "layout": "IPY_MODEL_4a47035ed8384f2391af96296eaaef7c"
          }
        },
        "65c9fff1ca9a430cbdc0f5f4404d0c39": {
          "model_module": "@jupyter-widgets/controls",
          "model_name": "HTMLModel",
          "state": {
            "_view_name": "HTMLView",
            "style": "IPY_MODEL_ae5a6be1170c4fb48e7d9aedc60d710e",
            "_dom_classes": [],
            "description": "",
            "_model_name": "HTMLModel",
            "placeholder": "​",
            "_view_module": "@jupyter-widgets/controls",
            "_model_module_version": "1.5.0",
            "value": " 1250/1250 [01:21&lt;00:00, 15.71it/s]",
            "_view_count": null,
            "_view_module_version": "1.5.0",
            "description_tooltip": null,
            "_model_module": "@jupyter-widgets/controls",
            "layout": "IPY_MODEL_0e641d458efa454993f9d0a685a9d901"
          }
        },
        "de7a113ff236458da27c94b4c959d543": {
          "model_module": "@jupyter-widgets/controls",
          "model_name": "ProgressStyleModel",
          "state": {
            "_view_name": "StyleView",
            "_model_name": "ProgressStyleModel",
            "description_width": "initial",
            "_view_module": "@jupyter-widgets/base",
            "_model_module_version": "1.5.0",
            "_view_count": null,
            "_view_module_version": "1.2.0",
            "bar_color": null,
            "_model_module": "@jupyter-widgets/controls"
          }
        },
        "4a47035ed8384f2391af96296eaaef7c": {
          "model_module": "@jupyter-widgets/base",
          "model_name": "LayoutModel",
          "state": {
            "_view_name": "LayoutView",
            "grid_template_rows": null,
            "right": null,
            "justify_content": null,
            "_view_module": "@jupyter-widgets/base",
            "overflow": null,
            "_model_module_version": "1.2.0",
            "_view_count": null,
            "flex_flow": null,
            "width": null,
            "min_width": null,
            "border": null,
            "align_items": null,
            "bottom": null,
            "_model_module": "@jupyter-widgets/base",
            "top": null,
            "grid_column": null,
            "overflow_y": null,
            "overflow_x": null,
            "grid_auto_flow": null,
            "grid_area": null,
            "grid_template_columns": null,
            "flex": null,
            "_model_name": "LayoutModel",
            "justify_items": null,
            "grid_row": null,
            "max_height": null,
            "align_content": null,
            "visibility": null,
            "align_self": null,
            "height": null,
            "min_height": null,
            "padding": null,
            "grid_auto_rows": null,
            "grid_gap": null,
            "max_width": null,
            "order": null,
            "_view_module_version": "1.2.0",
            "grid_template_areas": null,
            "object_position": null,
            "object_fit": null,
            "grid_auto_columns": null,
            "margin": null,
            "display": null,
            "left": null
          }
        },
        "ae5a6be1170c4fb48e7d9aedc60d710e": {
          "model_module": "@jupyter-widgets/controls",
          "model_name": "DescriptionStyleModel",
          "state": {
            "_view_name": "StyleView",
            "_model_name": "DescriptionStyleModel",
            "description_width": "",
            "_view_module": "@jupyter-widgets/base",
            "_model_module_version": "1.5.0",
            "_view_count": null,
            "_view_module_version": "1.2.0",
            "_model_module": "@jupyter-widgets/controls"
          }
        },
        "0e641d458efa454993f9d0a685a9d901": {
          "model_module": "@jupyter-widgets/base",
          "model_name": "LayoutModel",
          "state": {
            "_view_name": "LayoutView",
            "grid_template_rows": null,
            "right": null,
            "justify_content": null,
            "_view_module": "@jupyter-widgets/base",
            "overflow": null,
            "_model_module_version": "1.2.0",
            "_view_count": null,
            "flex_flow": null,
            "width": null,
            "min_width": null,
            "border": null,
            "align_items": null,
            "bottom": null,
            "_model_module": "@jupyter-widgets/base",
            "top": null,
            "grid_column": null,
            "overflow_y": null,
            "overflow_x": null,
            "grid_auto_flow": null,
            "grid_area": null,
            "grid_template_columns": null,
            "flex": null,
            "_model_name": "LayoutModel",
            "justify_items": null,
            "grid_row": null,
            "max_height": null,
            "align_content": null,
            "visibility": null,
            "align_self": null,
            "height": null,
            "min_height": null,
            "padding": null,
            "grid_auto_rows": null,
            "grid_gap": null,
            "max_width": null,
            "order": null,
            "_view_module_version": "1.2.0",
            "grid_template_areas": null,
            "object_position": null,
            "object_fit": null,
            "grid_auto_columns": null,
            "margin": null,
            "display": null,
            "left": null
          }
        },
        "9732287556784e9fb68e2df9367e57cb": {
          "model_module": "@jupyter-widgets/controls",
          "model_name": "HBoxModel",
          "state": {
            "_view_name": "HBoxView",
            "_dom_classes": [],
            "_model_name": "HBoxModel",
            "_view_module": "@jupyter-widgets/controls",
            "_model_module_version": "1.5.0",
            "_view_count": null,
            "_view_module_version": "1.5.0",
            "box_style": "",
            "layout": "IPY_MODEL_f1ce548d38d840ce906ef968fcf8d641",
            "_model_module": "@jupyter-widgets/controls",
            "children": [
              "IPY_MODEL_c1cc925ea8734ce4ae8fb82a2cf7dd4b",
              "IPY_MODEL_2e624955bf944ea390d388df8ae503b8"
            ]
          }
        },
        "f1ce548d38d840ce906ef968fcf8d641": {
          "model_module": "@jupyter-widgets/base",
          "model_name": "LayoutModel",
          "state": {
            "_view_name": "LayoutView",
            "grid_template_rows": null,
            "right": null,
            "justify_content": null,
            "_view_module": "@jupyter-widgets/base",
            "overflow": null,
            "_model_module_version": "1.2.0",
            "_view_count": null,
            "flex_flow": null,
            "width": null,
            "min_width": null,
            "border": null,
            "align_items": null,
            "bottom": null,
            "_model_module": "@jupyter-widgets/base",
            "top": null,
            "grid_column": null,
            "overflow_y": null,
            "overflow_x": null,
            "grid_auto_flow": null,
            "grid_area": null,
            "grid_template_columns": null,
            "flex": null,
            "_model_name": "LayoutModel",
            "justify_items": null,
            "grid_row": null,
            "max_height": null,
            "align_content": null,
            "visibility": null,
            "align_self": null,
            "height": null,
            "min_height": null,
            "padding": null,
            "grid_auto_rows": null,
            "grid_gap": null,
            "max_width": null,
            "order": null,
            "_view_module_version": "1.2.0",
            "grid_template_areas": null,
            "object_position": null,
            "object_fit": null,
            "grid_auto_columns": null,
            "margin": null,
            "display": null,
            "left": null
          }
        },
        "c1cc925ea8734ce4ae8fb82a2cf7dd4b": {
          "model_module": "@jupyter-widgets/controls",
          "model_name": "FloatProgressModel",
          "state": {
            "_view_name": "ProgressView",
            "style": "IPY_MODEL_5eed5797f67046d99c3a84965ab6001b",
            "_dom_classes": [],
            "description": "Epoch 3: 100%",
            "_model_name": "FloatProgressModel",
            "bar_style": "",
            "max": 313,
            "_view_module": "@jupyter-widgets/controls",
            "_model_module_version": "1.5.0",
            "value": 313,
            "_view_count": null,
            "_view_module_version": "1.5.0",
            "orientation": "horizontal",
            "min": 0,
            "description_tooltip": null,
            "_model_module": "@jupyter-widgets/controls",
            "layout": "IPY_MODEL_17360a9512dc47b3ae7b229008e584df"
          }
        },
        "2e624955bf944ea390d388df8ae503b8": {
          "model_module": "@jupyter-widgets/controls",
          "model_name": "HTMLModel",
          "state": {
            "_view_name": "HTMLView",
            "style": "IPY_MODEL_dfbd24b36fe442ffada4eae8f5d24041",
            "_dom_classes": [],
            "description": "",
            "_model_name": "HTMLModel",
            "placeholder": "​",
            "_view_module": "@jupyter-widgets/controls",
            "_model_module_version": "1.5.0",
            "value": " 313/313 [00:17&lt;00:00, 17.47it/s]",
            "_view_count": null,
            "_view_module_version": "1.5.0",
            "description_tooltip": null,
            "_model_module": "@jupyter-widgets/controls",
            "layout": "IPY_MODEL_3cef0b2c6cb74266ac6514aa9bd9c4fd"
          }
        },
        "5eed5797f67046d99c3a84965ab6001b": {
          "model_module": "@jupyter-widgets/controls",
          "model_name": "ProgressStyleModel",
          "state": {
            "_view_name": "StyleView",
            "_model_name": "ProgressStyleModel",
            "description_width": "initial",
            "_view_module": "@jupyter-widgets/base",
            "_model_module_version": "1.5.0",
            "_view_count": null,
            "_view_module_version": "1.2.0",
            "bar_color": null,
            "_model_module": "@jupyter-widgets/controls"
          }
        },
        "17360a9512dc47b3ae7b229008e584df": {
          "model_module": "@jupyter-widgets/base",
          "model_name": "LayoutModel",
          "state": {
            "_view_name": "LayoutView",
            "grid_template_rows": null,
            "right": null,
            "justify_content": null,
            "_view_module": "@jupyter-widgets/base",
            "overflow": null,
            "_model_module_version": "1.2.0",
            "_view_count": null,
            "flex_flow": null,
            "width": null,
            "min_width": null,
            "border": null,
            "align_items": null,
            "bottom": null,
            "_model_module": "@jupyter-widgets/base",
            "top": null,
            "grid_column": null,
            "overflow_y": null,
            "overflow_x": null,
            "grid_auto_flow": null,
            "grid_area": null,
            "grid_template_columns": null,
            "flex": null,
            "_model_name": "LayoutModel",
            "justify_items": null,
            "grid_row": null,
            "max_height": null,
            "align_content": null,
            "visibility": null,
            "align_self": null,
            "height": null,
            "min_height": null,
            "padding": null,
            "grid_auto_rows": null,
            "grid_gap": null,
            "max_width": null,
            "order": null,
            "_view_module_version": "1.2.0",
            "grid_template_areas": null,
            "object_position": null,
            "object_fit": null,
            "grid_auto_columns": null,
            "margin": null,
            "display": null,
            "left": null
          }
        },
        "dfbd24b36fe442ffada4eae8f5d24041": {
          "model_module": "@jupyter-widgets/controls",
          "model_name": "DescriptionStyleModel",
          "state": {
            "_view_name": "StyleView",
            "_model_name": "DescriptionStyleModel",
            "description_width": "",
            "_view_module": "@jupyter-widgets/base",
            "_model_module_version": "1.5.0",
            "_view_count": null,
            "_view_module_version": "1.2.0",
            "_model_module": "@jupyter-widgets/controls"
          }
        },
        "3cef0b2c6cb74266ac6514aa9bd9c4fd": {
          "model_module": "@jupyter-widgets/base",
          "model_name": "LayoutModel",
          "state": {
            "_view_name": "LayoutView",
            "grid_template_rows": null,
            "right": null,
            "justify_content": null,
            "_view_module": "@jupyter-widgets/base",
            "overflow": null,
            "_model_module_version": "1.2.0",
            "_view_count": null,
            "flex_flow": null,
            "width": null,
            "min_width": null,
            "border": null,
            "align_items": null,
            "bottom": null,
            "_model_module": "@jupyter-widgets/base",
            "top": null,
            "grid_column": null,
            "overflow_y": null,
            "overflow_x": null,
            "grid_auto_flow": null,
            "grid_area": null,
            "grid_template_columns": null,
            "flex": null,
            "_model_name": "LayoutModel",
            "justify_items": null,
            "grid_row": null,
            "max_height": null,
            "align_content": null,
            "visibility": null,
            "align_self": null,
            "height": null,
            "min_height": null,
            "padding": null,
            "grid_auto_rows": null,
            "grid_gap": null,
            "max_width": null,
            "order": null,
            "_view_module_version": "1.2.0",
            "grid_template_areas": null,
            "object_position": null,
            "object_fit": null,
            "grid_auto_columns": null,
            "margin": null,
            "display": null,
            "left": null
          }
        },
        "3e03b2c3967645db8798143d750412d2": {
          "model_module": "@jupyter-widgets/controls",
          "model_name": "HBoxModel",
          "state": {
            "_view_name": "HBoxView",
            "_dom_classes": [],
            "_model_name": "HBoxModel",
            "_view_module": "@jupyter-widgets/controls",
            "_model_module_version": "1.5.0",
            "_view_count": null,
            "_view_module_version": "1.5.0",
            "box_style": "",
            "layout": "IPY_MODEL_31ee5a5f89d74b18b4310de273c35aa4",
            "_model_module": "@jupyter-widgets/controls",
            "children": [
              "IPY_MODEL_1b7d3310e204444285f21e4ecf6e2683",
              "IPY_MODEL_98665654b34c4a9e9046bc699a374804"
            ]
          }
        },
        "31ee5a5f89d74b18b4310de273c35aa4": {
          "model_module": "@jupyter-widgets/base",
          "model_name": "LayoutModel",
          "state": {
            "_view_name": "LayoutView",
            "grid_template_rows": null,
            "right": null,
            "justify_content": null,
            "_view_module": "@jupyter-widgets/base",
            "overflow": null,
            "_model_module_version": "1.2.0",
            "_view_count": null,
            "flex_flow": null,
            "width": null,
            "min_width": null,
            "border": null,
            "align_items": null,
            "bottom": null,
            "_model_module": "@jupyter-widgets/base",
            "top": null,
            "grid_column": null,
            "overflow_y": null,
            "overflow_x": null,
            "grid_auto_flow": null,
            "grid_area": null,
            "grid_template_columns": null,
            "flex": null,
            "_model_name": "LayoutModel",
            "justify_items": null,
            "grid_row": null,
            "max_height": null,
            "align_content": null,
            "visibility": null,
            "align_self": null,
            "height": null,
            "min_height": null,
            "padding": null,
            "grid_auto_rows": null,
            "grid_gap": null,
            "max_width": null,
            "order": null,
            "_view_module_version": "1.2.0",
            "grid_template_areas": null,
            "object_position": null,
            "object_fit": null,
            "grid_auto_columns": null,
            "margin": null,
            "display": null,
            "left": null
          }
        },
        "1b7d3310e204444285f21e4ecf6e2683": {
          "model_module": "@jupyter-widgets/controls",
          "model_name": "FloatProgressModel",
          "state": {
            "_view_name": "ProgressView",
            "style": "IPY_MODEL_44518b145754478eadbdbe56936453e6",
            "_dom_classes": [],
            "description": "Epoch 4: 100%",
            "_model_name": "FloatProgressModel",
            "bar_style": "",
            "max": 1250,
            "_view_module": "@jupyter-widgets/controls",
            "_model_module_version": "1.5.0",
            "value": 1250,
            "_view_count": null,
            "_view_module_version": "1.5.0",
            "orientation": "horizontal",
            "min": 0,
            "description_tooltip": null,
            "_model_module": "@jupyter-widgets/controls",
            "layout": "IPY_MODEL_869ebddc056046f190eca63d8b6519ac"
          }
        },
        "98665654b34c4a9e9046bc699a374804": {
          "model_module": "@jupyter-widgets/controls",
          "model_name": "HTMLModel",
          "state": {
            "_view_name": "HTMLView",
            "style": "IPY_MODEL_e38acf2943a749ccab7c7747afe0b55c",
            "_dom_classes": [],
            "description": "",
            "_model_name": "HTMLModel",
            "placeholder": "​",
            "_view_module": "@jupyter-widgets/controls",
            "_model_module_version": "1.5.0",
            "value": " 1250/1250 [01:22&lt;00:00, 15.15it/s]",
            "_view_count": null,
            "_view_module_version": "1.5.0",
            "description_tooltip": null,
            "_model_module": "@jupyter-widgets/controls",
            "layout": "IPY_MODEL_0e7c081319d94f57a6f7db744d380d19"
          }
        },
        "44518b145754478eadbdbe56936453e6": {
          "model_module": "@jupyter-widgets/controls",
          "model_name": "ProgressStyleModel",
          "state": {
            "_view_name": "StyleView",
            "_model_name": "ProgressStyleModel",
            "description_width": "initial",
            "_view_module": "@jupyter-widgets/base",
            "_model_module_version": "1.5.0",
            "_view_count": null,
            "_view_module_version": "1.2.0",
            "bar_color": null,
            "_model_module": "@jupyter-widgets/controls"
          }
        },
        "869ebddc056046f190eca63d8b6519ac": {
          "model_module": "@jupyter-widgets/base",
          "model_name": "LayoutModel",
          "state": {
            "_view_name": "LayoutView",
            "grid_template_rows": null,
            "right": null,
            "justify_content": null,
            "_view_module": "@jupyter-widgets/base",
            "overflow": null,
            "_model_module_version": "1.2.0",
            "_view_count": null,
            "flex_flow": null,
            "width": null,
            "min_width": null,
            "border": null,
            "align_items": null,
            "bottom": null,
            "_model_module": "@jupyter-widgets/base",
            "top": null,
            "grid_column": null,
            "overflow_y": null,
            "overflow_x": null,
            "grid_auto_flow": null,
            "grid_area": null,
            "grid_template_columns": null,
            "flex": null,
            "_model_name": "LayoutModel",
            "justify_items": null,
            "grid_row": null,
            "max_height": null,
            "align_content": null,
            "visibility": null,
            "align_self": null,
            "height": null,
            "min_height": null,
            "padding": null,
            "grid_auto_rows": null,
            "grid_gap": null,
            "max_width": null,
            "order": null,
            "_view_module_version": "1.2.0",
            "grid_template_areas": null,
            "object_position": null,
            "object_fit": null,
            "grid_auto_columns": null,
            "margin": null,
            "display": null,
            "left": null
          }
        },
        "e38acf2943a749ccab7c7747afe0b55c": {
          "model_module": "@jupyter-widgets/controls",
          "model_name": "DescriptionStyleModel",
          "state": {
            "_view_name": "StyleView",
            "_model_name": "DescriptionStyleModel",
            "description_width": "",
            "_view_module": "@jupyter-widgets/base",
            "_model_module_version": "1.5.0",
            "_view_count": null,
            "_view_module_version": "1.2.0",
            "_model_module": "@jupyter-widgets/controls"
          }
        },
        "0e7c081319d94f57a6f7db744d380d19": {
          "model_module": "@jupyter-widgets/base",
          "model_name": "LayoutModel",
          "state": {
            "_view_name": "LayoutView",
            "grid_template_rows": null,
            "right": null,
            "justify_content": null,
            "_view_module": "@jupyter-widgets/base",
            "overflow": null,
            "_model_module_version": "1.2.0",
            "_view_count": null,
            "flex_flow": null,
            "width": null,
            "min_width": null,
            "border": null,
            "align_items": null,
            "bottom": null,
            "_model_module": "@jupyter-widgets/base",
            "top": null,
            "grid_column": null,
            "overflow_y": null,
            "overflow_x": null,
            "grid_auto_flow": null,
            "grid_area": null,
            "grid_template_columns": null,
            "flex": null,
            "_model_name": "LayoutModel",
            "justify_items": null,
            "grid_row": null,
            "max_height": null,
            "align_content": null,
            "visibility": null,
            "align_self": null,
            "height": null,
            "min_height": null,
            "padding": null,
            "grid_auto_rows": null,
            "grid_gap": null,
            "max_width": null,
            "order": null,
            "_view_module_version": "1.2.0",
            "grid_template_areas": null,
            "object_position": null,
            "object_fit": null,
            "grid_auto_columns": null,
            "margin": null,
            "display": null,
            "left": null
          }
        },
        "cb2e8bcb2f494e5f9fef8d797e641f27": {
          "model_module": "@jupyter-widgets/controls",
          "model_name": "HBoxModel",
          "state": {
            "_view_name": "HBoxView",
            "_dom_classes": [],
            "_model_name": "HBoxModel",
            "_view_module": "@jupyter-widgets/controls",
            "_model_module_version": "1.5.0",
            "_view_count": null,
            "_view_module_version": "1.5.0",
            "box_style": "",
            "layout": "IPY_MODEL_ed29850f2bbc4e30b0fc95844b1ad51f",
            "_model_module": "@jupyter-widgets/controls",
            "children": [
              "IPY_MODEL_c3e70ac1fbc84c8fa6a29940850161d5",
              "IPY_MODEL_9bbe96c09f8449019852809e7b219d31"
            ]
          }
        },
        "ed29850f2bbc4e30b0fc95844b1ad51f": {
          "model_module": "@jupyter-widgets/base",
          "model_name": "LayoutModel",
          "state": {
            "_view_name": "LayoutView",
            "grid_template_rows": null,
            "right": null,
            "justify_content": null,
            "_view_module": "@jupyter-widgets/base",
            "overflow": null,
            "_model_module_version": "1.2.0",
            "_view_count": null,
            "flex_flow": null,
            "width": null,
            "min_width": null,
            "border": null,
            "align_items": null,
            "bottom": null,
            "_model_module": "@jupyter-widgets/base",
            "top": null,
            "grid_column": null,
            "overflow_y": null,
            "overflow_x": null,
            "grid_auto_flow": null,
            "grid_area": null,
            "grid_template_columns": null,
            "flex": null,
            "_model_name": "LayoutModel",
            "justify_items": null,
            "grid_row": null,
            "max_height": null,
            "align_content": null,
            "visibility": null,
            "align_self": null,
            "height": null,
            "min_height": null,
            "padding": null,
            "grid_auto_rows": null,
            "grid_gap": null,
            "max_width": null,
            "order": null,
            "_view_module_version": "1.2.0",
            "grid_template_areas": null,
            "object_position": null,
            "object_fit": null,
            "grid_auto_columns": null,
            "margin": null,
            "display": null,
            "left": null
          }
        },
        "c3e70ac1fbc84c8fa6a29940850161d5": {
          "model_module": "@jupyter-widgets/controls",
          "model_name": "FloatProgressModel",
          "state": {
            "_view_name": "ProgressView",
            "style": "IPY_MODEL_3767179075b04be1904d1f90ebe47f4c",
            "_dom_classes": [],
            "description": "Epoch 4: 100%",
            "_model_name": "FloatProgressModel",
            "bar_style": "",
            "max": 313,
            "_view_module": "@jupyter-widgets/controls",
            "_model_module_version": "1.5.0",
            "value": 313,
            "_view_count": null,
            "_view_module_version": "1.5.0",
            "orientation": "horizontal",
            "min": 0,
            "description_tooltip": null,
            "_model_module": "@jupyter-widgets/controls",
            "layout": "IPY_MODEL_a54f95cb232548d4ab7fe357f03e9fcd"
          }
        },
        "9bbe96c09f8449019852809e7b219d31": {
          "model_module": "@jupyter-widgets/controls",
          "model_name": "HTMLModel",
          "state": {
            "_view_name": "HTMLView",
            "style": "IPY_MODEL_800e368a71fa4f0cb065dc3eb33015b8",
            "_dom_classes": [],
            "description": "",
            "_model_name": "HTMLModel",
            "placeholder": "​",
            "_view_module": "@jupyter-widgets/controls",
            "_model_module_version": "1.5.0",
            "value": " 313/313 [00:17&lt;00:00, 18.02it/s]",
            "_view_count": null,
            "_view_module_version": "1.5.0",
            "description_tooltip": null,
            "_model_module": "@jupyter-widgets/controls",
            "layout": "IPY_MODEL_0a63875edbf74345a0d0993a533af748"
          }
        },
        "3767179075b04be1904d1f90ebe47f4c": {
          "model_module": "@jupyter-widgets/controls",
          "model_name": "ProgressStyleModel",
          "state": {
            "_view_name": "StyleView",
            "_model_name": "ProgressStyleModel",
            "description_width": "initial",
            "_view_module": "@jupyter-widgets/base",
            "_model_module_version": "1.5.0",
            "_view_count": null,
            "_view_module_version": "1.2.0",
            "bar_color": null,
            "_model_module": "@jupyter-widgets/controls"
          }
        },
        "a54f95cb232548d4ab7fe357f03e9fcd": {
          "model_module": "@jupyter-widgets/base",
          "model_name": "LayoutModel",
          "state": {
            "_view_name": "LayoutView",
            "grid_template_rows": null,
            "right": null,
            "justify_content": null,
            "_view_module": "@jupyter-widgets/base",
            "overflow": null,
            "_model_module_version": "1.2.0",
            "_view_count": null,
            "flex_flow": null,
            "width": null,
            "min_width": null,
            "border": null,
            "align_items": null,
            "bottom": null,
            "_model_module": "@jupyter-widgets/base",
            "top": null,
            "grid_column": null,
            "overflow_y": null,
            "overflow_x": null,
            "grid_auto_flow": null,
            "grid_area": null,
            "grid_template_columns": null,
            "flex": null,
            "_model_name": "LayoutModel",
            "justify_items": null,
            "grid_row": null,
            "max_height": null,
            "align_content": null,
            "visibility": null,
            "align_self": null,
            "height": null,
            "min_height": null,
            "padding": null,
            "grid_auto_rows": null,
            "grid_gap": null,
            "max_width": null,
            "order": null,
            "_view_module_version": "1.2.0",
            "grid_template_areas": null,
            "object_position": null,
            "object_fit": null,
            "grid_auto_columns": null,
            "margin": null,
            "display": null,
            "left": null
          }
        },
        "800e368a71fa4f0cb065dc3eb33015b8": {
          "model_module": "@jupyter-widgets/controls",
          "model_name": "DescriptionStyleModel",
          "state": {
            "_view_name": "StyleView",
            "_model_name": "DescriptionStyleModel",
            "description_width": "",
            "_view_module": "@jupyter-widgets/base",
            "_model_module_version": "1.5.0",
            "_view_count": null,
            "_view_module_version": "1.2.0",
            "_model_module": "@jupyter-widgets/controls"
          }
        },
        "0a63875edbf74345a0d0993a533af748": {
          "model_module": "@jupyter-widgets/base",
          "model_name": "LayoutModel",
          "state": {
            "_view_name": "LayoutView",
            "grid_template_rows": null,
            "right": null,
            "justify_content": null,
            "_view_module": "@jupyter-widgets/base",
            "overflow": null,
            "_model_module_version": "1.2.0",
            "_view_count": null,
            "flex_flow": null,
            "width": null,
            "min_width": null,
            "border": null,
            "align_items": null,
            "bottom": null,
            "_model_module": "@jupyter-widgets/base",
            "top": null,
            "grid_column": null,
            "overflow_y": null,
            "overflow_x": null,
            "grid_auto_flow": null,
            "grid_area": null,
            "grid_template_columns": null,
            "flex": null,
            "_model_name": "LayoutModel",
            "justify_items": null,
            "grid_row": null,
            "max_height": null,
            "align_content": null,
            "visibility": null,
            "align_self": null,
            "height": null,
            "min_height": null,
            "padding": null,
            "grid_auto_rows": null,
            "grid_gap": null,
            "max_width": null,
            "order": null,
            "_view_module_version": "1.2.0",
            "grid_template_areas": null,
            "object_position": null,
            "object_fit": null,
            "grid_auto_columns": null,
            "margin": null,
            "display": null,
            "left": null
          }
        },
        "d17c0f8aeeb3473e8a5d1195ca58fde7": {
          "model_module": "@jupyter-widgets/controls",
          "model_name": "HBoxModel",
          "state": {
            "_view_name": "HBoxView",
            "_dom_classes": [],
            "_model_name": "HBoxModel",
            "_view_module": "@jupyter-widgets/controls",
            "_model_module_version": "1.5.0",
            "_view_count": null,
            "_view_module_version": "1.5.0",
            "box_style": "",
            "layout": "IPY_MODEL_e15df8c982e24682b3e574a34d4f818d",
            "_model_module": "@jupyter-widgets/controls",
            "children": [
              "IPY_MODEL_cd3d75a5eb954bd9816d3146aba654d9",
              "IPY_MODEL_12f81d09def34583b4abf4f55ecfea9d"
            ]
          }
        },
        "e15df8c982e24682b3e574a34d4f818d": {
          "model_module": "@jupyter-widgets/base",
          "model_name": "LayoutModel",
          "state": {
            "_view_name": "LayoutView",
            "grid_template_rows": null,
            "right": null,
            "justify_content": null,
            "_view_module": "@jupyter-widgets/base",
            "overflow": null,
            "_model_module_version": "1.2.0",
            "_view_count": null,
            "flex_flow": null,
            "width": null,
            "min_width": null,
            "border": null,
            "align_items": null,
            "bottom": null,
            "_model_module": "@jupyter-widgets/base",
            "top": null,
            "grid_column": null,
            "overflow_y": null,
            "overflow_x": null,
            "grid_auto_flow": null,
            "grid_area": null,
            "grid_template_columns": null,
            "flex": null,
            "_model_name": "LayoutModel",
            "justify_items": null,
            "grid_row": null,
            "max_height": null,
            "align_content": null,
            "visibility": null,
            "align_self": null,
            "height": null,
            "min_height": null,
            "padding": null,
            "grid_auto_rows": null,
            "grid_gap": null,
            "max_width": null,
            "order": null,
            "_view_module_version": "1.2.0",
            "grid_template_areas": null,
            "object_position": null,
            "object_fit": null,
            "grid_auto_columns": null,
            "margin": null,
            "display": null,
            "left": null
          }
        },
        "cd3d75a5eb954bd9816d3146aba654d9": {
          "model_module": "@jupyter-widgets/controls",
          "model_name": "FloatProgressModel",
          "state": {
            "_view_name": "ProgressView",
            "style": "IPY_MODEL_36a98cda791a4ef3894cd125acdd23e1",
            "_dom_classes": [],
            "description": "Epoch 5: 100%",
            "_model_name": "FloatProgressModel",
            "bar_style": "",
            "max": 1250,
            "_view_module": "@jupyter-widgets/controls",
            "_model_module_version": "1.5.0",
            "value": 1250,
            "_view_count": null,
            "_view_module_version": "1.5.0",
            "orientation": "horizontal",
            "min": 0,
            "description_tooltip": null,
            "_model_module": "@jupyter-widgets/controls",
            "layout": "IPY_MODEL_0a8110334a2d46c9a360ed6ff1770e42"
          }
        },
        "12f81d09def34583b4abf4f55ecfea9d": {
          "model_module": "@jupyter-widgets/controls",
          "model_name": "HTMLModel",
          "state": {
            "_view_name": "HTMLView",
            "style": "IPY_MODEL_782a16591d92401185e99f353458ef3e",
            "_dom_classes": [],
            "description": "",
            "_model_name": "HTMLModel",
            "placeholder": "​",
            "_view_module": "@jupyter-widgets/controls",
            "_model_module_version": "1.5.0",
            "value": " 1250/1250 [01:22&lt;00:00, 15.25it/s]",
            "_view_count": null,
            "_view_module_version": "1.5.0",
            "description_tooltip": null,
            "_model_module": "@jupyter-widgets/controls",
            "layout": "IPY_MODEL_6e78f21e510c45449d0b2384f43e4ddd"
          }
        },
        "36a98cda791a4ef3894cd125acdd23e1": {
          "model_module": "@jupyter-widgets/controls",
          "model_name": "ProgressStyleModel",
          "state": {
            "_view_name": "StyleView",
            "_model_name": "ProgressStyleModel",
            "description_width": "initial",
            "_view_module": "@jupyter-widgets/base",
            "_model_module_version": "1.5.0",
            "_view_count": null,
            "_view_module_version": "1.2.0",
            "bar_color": null,
            "_model_module": "@jupyter-widgets/controls"
          }
        },
        "0a8110334a2d46c9a360ed6ff1770e42": {
          "model_module": "@jupyter-widgets/base",
          "model_name": "LayoutModel",
          "state": {
            "_view_name": "LayoutView",
            "grid_template_rows": null,
            "right": null,
            "justify_content": null,
            "_view_module": "@jupyter-widgets/base",
            "overflow": null,
            "_model_module_version": "1.2.0",
            "_view_count": null,
            "flex_flow": null,
            "width": null,
            "min_width": null,
            "border": null,
            "align_items": null,
            "bottom": null,
            "_model_module": "@jupyter-widgets/base",
            "top": null,
            "grid_column": null,
            "overflow_y": null,
            "overflow_x": null,
            "grid_auto_flow": null,
            "grid_area": null,
            "grid_template_columns": null,
            "flex": null,
            "_model_name": "LayoutModel",
            "justify_items": null,
            "grid_row": null,
            "max_height": null,
            "align_content": null,
            "visibility": null,
            "align_self": null,
            "height": null,
            "min_height": null,
            "padding": null,
            "grid_auto_rows": null,
            "grid_gap": null,
            "max_width": null,
            "order": null,
            "_view_module_version": "1.2.0",
            "grid_template_areas": null,
            "object_position": null,
            "object_fit": null,
            "grid_auto_columns": null,
            "margin": null,
            "display": null,
            "left": null
          }
        },
        "782a16591d92401185e99f353458ef3e": {
          "model_module": "@jupyter-widgets/controls",
          "model_name": "DescriptionStyleModel",
          "state": {
            "_view_name": "StyleView",
            "_model_name": "DescriptionStyleModel",
            "description_width": "",
            "_view_module": "@jupyter-widgets/base",
            "_model_module_version": "1.5.0",
            "_view_count": null,
            "_view_module_version": "1.2.0",
            "_model_module": "@jupyter-widgets/controls"
          }
        },
        "6e78f21e510c45449d0b2384f43e4ddd": {
          "model_module": "@jupyter-widgets/base",
          "model_name": "LayoutModel",
          "state": {
            "_view_name": "LayoutView",
            "grid_template_rows": null,
            "right": null,
            "justify_content": null,
            "_view_module": "@jupyter-widgets/base",
            "overflow": null,
            "_model_module_version": "1.2.0",
            "_view_count": null,
            "flex_flow": null,
            "width": null,
            "min_width": null,
            "border": null,
            "align_items": null,
            "bottom": null,
            "_model_module": "@jupyter-widgets/base",
            "top": null,
            "grid_column": null,
            "overflow_y": null,
            "overflow_x": null,
            "grid_auto_flow": null,
            "grid_area": null,
            "grid_template_columns": null,
            "flex": null,
            "_model_name": "LayoutModel",
            "justify_items": null,
            "grid_row": null,
            "max_height": null,
            "align_content": null,
            "visibility": null,
            "align_self": null,
            "height": null,
            "min_height": null,
            "padding": null,
            "grid_auto_rows": null,
            "grid_gap": null,
            "max_width": null,
            "order": null,
            "_view_module_version": "1.2.0",
            "grid_template_areas": null,
            "object_position": null,
            "object_fit": null,
            "grid_auto_columns": null,
            "margin": null,
            "display": null,
            "left": null
          }
        },
        "c2c5d773feb14fd0b8f581e621e4390d": {
          "model_module": "@jupyter-widgets/controls",
          "model_name": "HBoxModel",
          "state": {
            "_view_name": "HBoxView",
            "_dom_classes": [],
            "_model_name": "HBoxModel",
            "_view_module": "@jupyter-widgets/controls",
            "_model_module_version": "1.5.0",
            "_view_count": null,
            "_view_module_version": "1.5.0",
            "box_style": "",
            "layout": "IPY_MODEL_47d54e2ce51e4d71bbb0a620e64fca5f",
            "_model_module": "@jupyter-widgets/controls",
            "children": [
              "IPY_MODEL_5d2441b18d3b4299af3064d890e86a8a",
              "IPY_MODEL_bff429a001b34401ace1ada6aa82e697"
            ]
          }
        },
        "47d54e2ce51e4d71bbb0a620e64fca5f": {
          "model_module": "@jupyter-widgets/base",
          "model_name": "LayoutModel",
          "state": {
            "_view_name": "LayoutView",
            "grid_template_rows": null,
            "right": null,
            "justify_content": null,
            "_view_module": "@jupyter-widgets/base",
            "overflow": null,
            "_model_module_version": "1.2.0",
            "_view_count": null,
            "flex_flow": null,
            "width": null,
            "min_width": null,
            "border": null,
            "align_items": null,
            "bottom": null,
            "_model_module": "@jupyter-widgets/base",
            "top": null,
            "grid_column": null,
            "overflow_y": null,
            "overflow_x": null,
            "grid_auto_flow": null,
            "grid_area": null,
            "grid_template_columns": null,
            "flex": null,
            "_model_name": "LayoutModel",
            "justify_items": null,
            "grid_row": null,
            "max_height": null,
            "align_content": null,
            "visibility": null,
            "align_self": null,
            "height": null,
            "min_height": null,
            "padding": null,
            "grid_auto_rows": null,
            "grid_gap": null,
            "max_width": null,
            "order": null,
            "_view_module_version": "1.2.0",
            "grid_template_areas": null,
            "object_position": null,
            "object_fit": null,
            "grid_auto_columns": null,
            "margin": null,
            "display": null,
            "left": null
          }
        },
        "5d2441b18d3b4299af3064d890e86a8a": {
          "model_module": "@jupyter-widgets/controls",
          "model_name": "FloatProgressModel",
          "state": {
            "_view_name": "ProgressView",
            "style": "IPY_MODEL_b9bc628b36c349ffa8de9f7db6588074",
            "_dom_classes": [],
            "description": "Epoch 5: 100%",
            "_model_name": "FloatProgressModel",
            "bar_style": "",
            "max": 313,
            "_view_module": "@jupyter-widgets/controls",
            "_model_module_version": "1.5.0",
            "value": 313,
            "_view_count": null,
            "_view_module_version": "1.5.0",
            "orientation": "horizontal",
            "min": 0,
            "description_tooltip": null,
            "_model_module": "@jupyter-widgets/controls",
            "layout": "IPY_MODEL_a08181f557334e4fb1883d3698a551c2"
          }
        },
        "bff429a001b34401ace1ada6aa82e697": {
          "model_module": "@jupyter-widgets/controls",
          "model_name": "HTMLModel",
          "state": {
            "_view_name": "HTMLView",
            "style": "IPY_MODEL_2ca98834d7fd471fa0054d207b54bf4b",
            "_dom_classes": [],
            "description": "",
            "_model_name": "HTMLModel",
            "placeholder": "​",
            "_view_module": "@jupyter-widgets/controls",
            "_model_module_version": "1.5.0",
            "value": " 313/313 [00:17&lt;00:00, 18.03it/s]",
            "_view_count": null,
            "_view_module_version": "1.5.0",
            "description_tooltip": null,
            "_model_module": "@jupyter-widgets/controls",
            "layout": "IPY_MODEL_b14e53d422ad44588002973f1b77327f"
          }
        },
        "b9bc628b36c349ffa8de9f7db6588074": {
          "model_module": "@jupyter-widgets/controls",
          "model_name": "ProgressStyleModel",
          "state": {
            "_view_name": "StyleView",
            "_model_name": "ProgressStyleModel",
            "description_width": "initial",
            "_view_module": "@jupyter-widgets/base",
            "_model_module_version": "1.5.0",
            "_view_count": null,
            "_view_module_version": "1.2.0",
            "bar_color": null,
            "_model_module": "@jupyter-widgets/controls"
          }
        },
        "a08181f557334e4fb1883d3698a551c2": {
          "model_module": "@jupyter-widgets/base",
          "model_name": "LayoutModel",
          "state": {
            "_view_name": "LayoutView",
            "grid_template_rows": null,
            "right": null,
            "justify_content": null,
            "_view_module": "@jupyter-widgets/base",
            "overflow": null,
            "_model_module_version": "1.2.0",
            "_view_count": null,
            "flex_flow": null,
            "width": null,
            "min_width": null,
            "border": null,
            "align_items": null,
            "bottom": null,
            "_model_module": "@jupyter-widgets/base",
            "top": null,
            "grid_column": null,
            "overflow_y": null,
            "overflow_x": null,
            "grid_auto_flow": null,
            "grid_area": null,
            "grid_template_columns": null,
            "flex": null,
            "_model_name": "LayoutModel",
            "justify_items": null,
            "grid_row": null,
            "max_height": null,
            "align_content": null,
            "visibility": null,
            "align_self": null,
            "height": null,
            "min_height": null,
            "padding": null,
            "grid_auto_rows": null,
            "grid_gap": null,
            "max_width": null,
            "order": null,
            "_view_module_version": "1.2.0",
            "grid_template_areas": null,
            "object_position": null,
            "object_fit": null,
            "grid_auto_columns": null,
            "margin": null,
            "display": null,
            "left": null
          }
        },
        "2ca98834d7fd471fa0054d207b54bf4b": {
          "model_module": "@jupyter-widgets/controls",
          "model_name": "DescriptionStyleModel",
          "state": {
            "_view_name": "StyleView",
            "_model_name": "DescriptionStyleModel",
            "description_width": "",
            "_view_module": "@jupyter-widgets/base",
            "_model_module_version": "1.5.0",
            "_view_count": null,
            "_view_module_version": "1.2.0",
            "_model_module": "@jupyter-widgets/controls"
          }
        },
        "b14e53d422ad44588002973f1b77327f": {
          "model_module": "@jupyter-widgets/base",
          "model_name": "LayoutModel",
          "state": {
            "_view_name": "LayoutView",
            "grid_template_rows": null,
            "right": null,
            "justify_content": null,
            "_view_module": "@jupyter-widgets/base",
            "overflow": null,
            "_model_module_version": "1.2.0",
            "_view_count": null,
            "flex_flow": null,
            "width": null,
            "min_width": null,
            "border": null,
            "align_items": null,
            "bottom": null,
            "_model_module": "@jupyter-widgets/base",
            "top": null,
            "grid_column": null,
            "overflow_y": null,
            "overflow_x": null,
            "grid_auto_flow": null,
            "grid_area": null,
            "grid_template_columns": null,
            "flex": null,
            "_model_name": "LayoutModel",
            "justify_items": null,
            "grid_row": null,
            "max_height": null,
            "align_content": null,
            "visibility": null,
            "align_self": null,
            "height": null,
            "min_height": null,
            "padding": null,
            "grid_auto_rows": null,
            "grid_gap": null,
            "max_width": null,
            "order": null,
            "_view_module_version": "1.2.0",
            "grid_template_areas": null,
            "object_position": null,
            "object_fit": null,
            "grid_auto_columns": null,
            "margin": null,
            "display": null,
            "left": null
          }
        }
      }
    }
  },
  "cells": [
    {
      "cell_type": "markdown",
      "metadata": {
        "id": "fyT11g8hjXlo"
      },
      "source": [
        "# Word Embedding - Home Assigment\n",
        "## Dr. Omri Allouche 2021. YData Deep Learning Course\n",
        "\n",
        "[Open in Google Colab](https://colab.research.google.com/github/omriallouche/ydata_deep_learning_2021/blob/master/assignments/word_vectors_text_classification/DL_word_embedding_assignment.ipynb)\n",
        "\n",
        "    \n",
        "In this exercise, you'll use word vectors trained on a corpus of lyrics of songs from MetroLyrics ([http://github.com/omriallouche/ydata_deep_learning_2021/blob/master/data/metrolyrics.parquet](/data/metrolyrics.parquet)).\n",
        "The dataset contains these fields for each song, in CSV format:\n",
        "1. index\n",
        "1. song\n",
        "1. year\n",
        "1. artist\n",
        "1. genre\n",
        "1. lyrics\n",
        "\n",
        "Before doing this exercise, we recommend that you go over the \"Bag of words meets bag of popcorn\" tutorial (https://www.kaggle.com/c/word2vec-nlp-tutorial)\n",
        "\n",
        "Other recommended resources:\n",
        "- https://rare-technologies.com/word2vec-tutorial/\n",
        "- https://www.kaggle.com/pierremegret/gensim-word2vec-tutorial"
      ]
    },
    {
      "cell_type": "markdown",
      "metadata": {
        "id": "yfhelCmS_gm-"
      },
      "source": [
        "## Preparation"
      ]
    },
    {
      "cell_type": "code",
      "metadata": {
        "id": "oy3KYRg8V-QX"
      },
      "source": [
        "import pandas as pd\n",
        "import numpy as np\n",
        "\n",
        "from sklearn.model_selection import train_test_split\n",
        "from sklearn.metrics import mean_squared_error as MSE\n",
        "from sklearn.linear_model import LinearRegression\n",
        "from sklearn.feature_extraction.text import CountVectorizer, TfidfVectorizer\n",
        "from sklearn.naive_bayes import MultinomialNB, GaussianNB\n",
        "from sklearn.pipeline import Pipeline\n",
        "from sklearn.metrics import classification_report\n",
        "from sklearn.metrics import confusion_matrix, accuracy_score\n",
        "from sklearn.preprocessing import FunctionTransformer\n",
        "\n",
        "from xgboost import XGBRegressor, XGBClassifier\n",
        "\n",
        "from gensim.models import word2vec\n",
        "from gensim.parsing.preprocessing import remove_stopwords\n",
        "\n",
        "import copy\n",
        "import logging\n",
        "from io import BytesIO\n",
        "from zipfile import ZipFile\n",
        "from urllib.request import urlopen\n",
        "\n",
        "from torch.utils.data import Dataset, DataLoader\n",
        "from torch import nn\n",
        "import torch\n",
        "import torch.optim as optim\n",
        "from torch.optim import lr_scheduler\n",
        "\n",
        "from sklearn.manifold import TSNE\n",
        "from sklearn.decomposition import PCA\n",
        "import seaborn as sns\n",
        "sns.set_style(\"darkgrid\")"
      ],
      "execution_count": 1,
      "outputs": []
    },
    {
      "cell_type": "markdown",
      "metadata": {
        "id": "svywnSm2_SV-"
      },
      "source": [
        "### Load the data & EDA\n"
      ]
    },
    {
      "cell_type": "code",
      "metadata": {
        "id": "t3g_Utr08Id1"
      },
      "source": [
        "# download and load the data\n",
        "url = 'http://github.com/omriallouche/ydata_deep_learning_2021/blob/master/data/metrolyrics.parquet?raw=true'\n",
        "songs_df = pd.read_parquet(url)"
      ],
      "execution_count": 2,
      "outputs": []
    },
    {
      "cell_type": "code",
      "metadata": {
        "colab": {
          "base_uri": "https://localhost:8080/",
          "height": 111
        },
        "id": "Hj77J3A78_mv",
        "outputId": "f9fe919b-10e9-457f-f4e4-e4f4c7fe416f"
      },
      "source": [
        "# EDA\n",
        "songs_df.head(2)"
      ],
      "execution_count": 3,
      "outputs": [
        {
          "output_type": "execute_result",
          "data": {
            "text/html": [
              "<div>\n",
              "<style scoped>\n",
              "    .dataframe tbody tr th:only-of-type {\n",
              "        vertical-align: middle;\n",
              "    }\n",
              "\n",
              "    .dataframe tbody tr th {\n",
              "        vertical-align: top;\n",
              "    }\n",
              "\n",
              "    .dataframe thead th {\n",
              "        text-align: right;\n",
              "    }\n",
              "</style>\n",
              "<table border=\"1\" class=\"dataframe\">\n",
              "  <thead>\n",
              "    <tr style=\"text-align: right;\">\n",
              "      <th></th>\n",
              "      <th>song</th>\n",
              "      <th>year</th>\n",
              "      <th>artist</th>\n",
              "      <th>genre</th>\n",
              "      <th>lyrics</th>\n",
              "      <th>num_chars</th>\n",
              "      <th>sent</th>\n",
              "      <th>num_words</th>\n",
              "    </tr>\n",
              "  </thead>\n",
              "  <tbody>\n",
              "    <tr>\n",
              "      <th>204182</th>\n",
              "      <td>fully-dressed</td>\n",
              "      <td>2008</td>\n",
              "      <td>annie</td>\n",
              "      <td>Pop</td>\n",
              "      <td>[HEALY]\\n[spoken] This is Bert Healy saying .....</td>\n",
              "      <td>1041</td>\n",
              "      <td>healy spoken this bert healy saying singing he...</td>\n",
              "      <td>826</td>\n",
              "    </tr>\n",
              "    <tr>\n",
              "      <th>6116</th>\n",
              "      <td>surrounded-by-hoes</td>\n",
              "      <td>2006</td>\n",
              "      <td>50-cent</td>\n",
              "      <td>Hip-Hop</td>\n",
              "      <td>[Chorus: repeat 2X] Even when I'm tryin to be ...</td>\n",
              "      <td>1392</td>\n",
              "      <td>chorus repeat x even i tryin low i recognized ...</td>\n",
              "      <td>884</td>\n",
              "    </tr>\n",
              "  </tbody>\n",
              "</table>\n",
              "</div>"
            ],
            "text/plain": [
              "                      song  ...  num_words\n",
              "204182       fully-dressed  ...        826\n",
              "6116    surrounded-by-hoes  ...        884\n",
              "\n",
              "[2 rows x 8 columns]"
            ]
          },
          "metadata": {
            "tags": []
          },
          "execution_count": 3
        }
      ]
    },
    {
      "cell_type": "code",
      "metadata": {
        "colab": {
          "base_uri": "https://localhost:8080/"
        },
        "id": "OHurV31E9ZYK",
        "outputId": "1400e8f5-db3a-4db9-fb98-d0e79e8a052f"
      },
      "source": [
        "songs_df.info()"
      ],
      "execution_count": 4,
      "outputs": [
        {
          "output_type": "stream",
          "text": [
            "<class 'pandas.core.frame.DataFrame'>\n",
            "Int64Index: 49976 entries, 204182 to 11180\n",
            "Data columns (total 8 columns):\n",
            " #   Column     Non-Null Count  Dtype \n",
            "---  ------     --------------  ----- \n",
            " 0   song       49976 non-null  object\n",
            " 1   year       49976 non-null  int64 \n",
            " 2   artist     49976 non-null  object\n",
            " 3   genre      49976 non-null  object\n",
            " 4   lyrics     49976 non-null  object\n",
            " 5   num_chars  49976 non-null  int64 \n",
            " 6   sent       49976 non-null  object\n",
            " 7   num_words  49976 non-null  int64 \n",
            "dtypes: int64(3), object(5)\n",
            "memory usage: 3.4+ MB\n"
          ],
          "name": "stdout"
        }
      ]
    },
    {
      "cell_type": "code",
      "metadata": {
        "colab": {
          "base_uri": "https://localhost:8080/",
          "height": 120
        },
        "id": "eCMSSe3897VU",
        "outputId": "2daef853-3b83-4e8e-e3ef-1962f8c06a9d"
      },
      "source": [
        "songs_df.loc[204182].lyrics"
      ],
      "execution_count": 5,
      "outputs": [
        {
          "output_type": "execute_result",
          "data": {
            "application/vnd.google.colaboratory.intrinsic+json": {
              "type": "string"
            },
            "text/plain": [
              "\"[HEALY]\\n[spoken] This is Bert Healy saying ...\\n[singing now] Hey, hobo man\\nHey, Dapper Dan\\nYou've both got your style\\nBut Brother,\\nYou're never fully dressed\\nWithout a smile!\\nYour clothes may be Beau Brummelly\\nThey stand out a mile --\\nBut Brother,\\nYou're never fully dressed\\nWithout a smile!\\nWho cares what they're wearing\\nOn Main Street,\\nOr Saville Row,\\nIt's what you wear from ear to ear\\nAnd not from head to toe\\n(That matters)\\nSo, Senator,\\nSo, Janitor,\\nSo long for a while\\nRemember,\\nYou're never fully dressed\\nWithout a smile!\\n[BOYLAN SISTER]\\nReady or not, here he goes\\nListen to Bert\\nTap his smilin' toes\\n[HEALY]\\n[spoken] Ah, the lovely Boylan Sisters\\n[BOYLAN SISTERS]\\nDoo doodle-oo doo\\nDoo doodle-oo doo\\nDoo doo doo doo\\nDoo doo doo doo\\nYour clothes may be Beau Brummelly\\nThey stand out a mile\\nBut, bother\\nYou're never fully dressed\\nYou're never dressed\\nWithout an\\n[CONNIE BOYLAN]\\nS-\\n[BONNIE BOYLAN]\\nM-\\n[RONNIE BOYLAN]\\nI-\\n[CONNIE BOYLAN]\\nL-\\n[ALL THREE]\\nE.\\nSmile darn ya smile.\\n[ALL]\\nThat matters\\nSo Senator\\nSo Janitor\\nSo long for a while\""
            ]
          },
          "metadata": {
            "tags": []
          },
          "execution_count": 5
        }
      ]
    },
    {
      "cell_type": "code",
      "metadata": {
        "colab": {
          "base_uri": "https://localhost:8080/",
          "height": 103
        },
        "id": "hsI87j8s-N4I",
        "outputId": "432dcce9-aacf-46e3-e8d0-682af4a798fa"
      },
      "source": [
        "songs_df.loc[204182].sent"
      ],
      "execution_count": 6,
      "outputs": [
        {
          "output_type": "execute_result",
          "data": {
            "application/vnd.google.colaboratory.intrinsic+json": {
              "type": "string"
            },
            "text/plain": [
              "'healy spoken this bert healy saying singing hey hobo man hey dapper dan you got style but brother you never fully dressed without smile your clothes may beau brummelly they stand mile but brother you never fully dressed without smile who cares wearing on main street or saville row it wear ear ear and head toe that matters so senator so janitor so long remember you never fully dressed without smile boylan sister ready goes listen bert tap smilin toes healy spoken ah lovely boylan sisters boylan sisters doo doodle oo doo doo doodle oo doo doo doo doo doo doo doo doo doo your clothes may beau brummelly they stand mile but bother you never fully dressed you never dressed without connie boylan s bonnie boylan m ronnie boylan i connie boylan l all three e smile darn ya smile all that matters so senator so janitor so long'"
            ]
          },
          "metadata": {
            "tags": []
          },
          "execution_count": 6
        }
      ]
    },
    {
      "cell_type": "markdown",
      "metadata": {
        "id": "P71LKQZZ-edg"
      },
      "source": [
        "It seems that the **sent** column contains the pre-processed text: lowercased, removed special characters, removed stop words etc.\n",
        "\n",
        "**Num_words** column contains the length of the sent column, in characters."
      ]
    },
    {
      "cell_type": "markdown",
      "metadata": {
        "id": "0cq8h6TKjXls"
      },
      "source": [
        "### Train word vectors\n",
        "Train word vectors using the Skipgram Word2vec algorithm and the gensim package.\n",
        "Make sure you perform the following:\n",
        "- Tokenize words\n",
        "- Lowercase all words\n",
        "- Remove punctuation marks\n",
        "- Remove rare words\n",
        "- Remove stopwords\n",
        "\n",
        "Use 300 as the dimension of the word vectors. Try different context sizes."
      ]
    },
    {
      "cell_type": "code",
      "metadata": {
        "colab": {
          "base_uri": "https://localhost:8080/",
          "height": 86
        },
        "id": "a9SBoUAJEbH1",
        "outputId": "5cc32dad-4f13-4dcd-e0ac-0d4a121c5cc8"
      },
      "source": [
        "# most of the above tasks are already done in 'sent' column of the dataframe\n",
        "\n",
        "# remove stopwords\n",
        "clean_sentences = [remove_stopwords(song) for song in songs_df.sent]\n",
        "clean_sentences[0]"
      ],
      "execution_count": 7,
      "outputs": [
        {
          "output_type": "execute_result",
          "data": {
            "application/vnd.google.colaboratory.intrinsic+json": {
              "type": "string"
            },
            "text/plain": [
              "'healy spoken bert healy saying singing hey hobo man hey dapper dan got style brother fully dressed smile clothes beau brummelly stand mile brother fully dressed smile cares wearing main street saville row wear ear ear head toe matters senator janitor long remember fully dressed smile boylan sister ready goes listen bert tap smilin toes healy spoken ah lovely boylan sisters boylan sisters doo doodle oo doo doo doodle oo doo doo doo doo doo doo doo doo doo clothes beau brummelly stand mile bother fully dressed dressed connie boylan s bonnie boylan m ronnie boylan connie boylan l e smile darn ya smile matters senator janitor long'"
            ]
          },
          "metadata": {
            "tags": []
          },
          "execution_count": 7
        }
      ]
    },
    {
      "cell_type": "code",
      "metadata": {
        "colab": {
          "base_uri": "https://localhost:8080/"
        },
        "id": "7Uo4PkdlHA0D",
        "outputId": "f88a2fd3-5eee-442e-8d44-ec4520b0afab"
      },
      "source": [
        "# here we convert the sentences into list of (lists of tokens)\n",
        "tokenized_text = [raw_sentence.split() for raw_sentence in clean_sentences]\n",
        "print('First 10 tokens', tokenized_text[0][:10])"
      ],
      "execution_count": 8,
      "outputs": [
        {
          "output_type": "stream",
          "text": [
            "First 10 tokens ['healy', 'spoken', 'bert', 'healy', 'saying', 'singing', 'hey', 'hobo', 'man', 'hey']\n"
          ],
          "name": "stdout"
        }
      ]
    },
    {
      "cell_type": "code",
      "metadata": {
        "colab": {
          "base_uri": "https://localhost:8080/"
        },
        "id": "5SqF4lsl_yx_",
        "outputId": "874b0a6a-8ef0-427c-a701-aa6f5826b006"
      },
      "source": [
        "# Import the built-in logging module and configure it so that Word2Vec \n",
        "# creates nice output messages\n",
        "logging.basicConfig(format='%(asctime)s : %(levelname)s : %(message)s',level=logging.INFO)\n",
        "\n",
        "# Set values for various parameters\n",
        "num_features = 300    # Word vector dimensionality                      \n",
        "min_word_count = 10   # Minimum word count                        \n",
        "num_workers = 4       # Number of threads to run in parallel\n",
        "context = 5           # Context window size                                                                                    \n",
        "downsampling = 1e-3   # Downsample setting for frequent words\n",
        "\n",
        "# Initialize and train the model (we will only do it on the first run)\n",
        "\n",
        "word2vec_model = word2vec.Word2Vec(tokenized_text, workers=num_workers, size=num_features, min_count = min_word_count, window = context, sample = downsampling, iter=5)\n",
        "\n",
        "# If you don't plan to train the model any further, calling init_sims will make the model much more memory-efficient.\n",
        "word2vec_model.init_sims(replace=True)"
      ],
      "execution_count": 9,
      "outputs": [
        {
          "output_type": "stream",
          "text": [
            "2021-04-10 07:27:28,239 : INFO : collecting all words and their counts\n",
            "2021-04-10 07:27:28,244 : INFO : PROGRESS: at sentence #0, processed 0 words, keeping 0 word types\n",
            "2021-04-10 07:27:28,495 : INFO : PROGRESS: at sentence #10000, processed 1210335 words, keeping 66509 word types\n",
            "2021-04-10 07:27:28,770 : INFO : PROGRESS: at sentence #20000, processed 2421461 words, keeping 99882 word types\n",
            "2021-04-10 07:27:29,035 : INFO : PROGRESS: at sentence #30000, processed 3649026 words, keeping 127228 word types\n",
            "2021-04-10 07:27:29,325 : INFO : PROGRESS: at sentence #40000, processed 4860798 words, keeping 150309 word types\n",
            "2021-04-10 07:27:29,626 : INFO : collected 170189 word types from a corpus of 6080186 raw words and 49976 sentences\n",
            "2021-04-10 07:27:29,627 : INFO : Loading a fresh vocabulary\n",
            "2021-04-10 07:27:29,976 : INFO : effective_min_count=10 retains 28325 unique words (16% of original 170189, drops 141864)\n",
            "2021-04-10 07:27:29,986 : INFO : effective_min_count=10 leaves 5776329 word corpus (95% of original 6080186, drops 303857)\n",
            "2021-04-10 07:27:30,083 : INFO : deleting the raw counts dictionary of 170189 items\n",
            "2021-04-10 07:27:30,088 : INFO : sample=0.001 downsamples 36 most-common words\n",
            "2021-04-10 07:27:30,089 : INFO : downsampling leaves estimated 5396065 word corpus (93.4% of prior 5776329)\n",
            "2021-04-10 07:27:30,186 : INFO : estimated required memory for 28325 words and 300 dimensions: 82142500 bytes\n",
            "2021-04-10 07:27:30,187 : INFO : resetting layer weights\n",
            "2021-04-10 07:27:35,807 : INFO : training model with 4 workers on 28325 vocabulary and 300 features, using sg=0 hs=0 sample=0.001 negative=5 window=5\n",
            "2021-04-10 07:27:36,824 : INFO : EPOCH 1 - PROGRESS: at 7.81% examples, 417604 words/s, in_qsize 7, out_qsize 0\n",
            "2021-04-10 07:27:37,836 : INFO : EPOCH 1 - PROGRESS: at 16.21% examples, 430430 words/s, in_qsize 7, out_qsize 0\n",
            "2021-04-10 07:27:38,860 : INFO : EPOCH 1 - PROGRESS: at 25.07% examples, 442068 words/s, in_qsize 7, out_qsize 0\n",
            "2021-04-10 07:27:39,888 : INFO : EPOCH 1 - PROGRESS: at 33.95% examples, 449849 words/s, in_qsize 7, out_qsize 0\n",
            "2021-04-10 07:27:40,885 : INFO : EPOCH 1 - PROGRESS: at 42.84% examples, 454405 words/s, in_qsize 7, out_qsize 0\n",
            "2021-04-10 07:27:41,909 : INFO : EPOCH 1 - PROGRESS: at 50.95% examples, 451335 words/s, in_qsize 7, out_qsize 0\n",
            "2021-04-10 07:27:42,921 : INFO : EPOCH 1 - PROGRESS: at 59.95% examples, 455159 words/s, in_qsize 6, out_qsize 1\n",
            "2021-04-10 07:27:43,960 : INFO : EPOCH 1 - PROGRESS: at 69.12% examples, 457486 words/s, in_qsize 7, out_qsize 0\n",
            "2021-04-10 07:27:44,979 : INFO : EPOCH 1 - PROGRESS: at 78.26% examples, 460224 words/s, in_qsize 7, out_qsize 0\n",
            "2021-04-10 07:27:45,990 : INFO : EPOCH 1 - PROGRESS: at 87.32% examples, 462890 words/s, in_qsize 8, out_qsize 1\n",
            "2021-04-10 07:27:47,020 : INFO : EPOCH 1 - PROGRESS: at 96.29% examples, 463506 words/s, in_qsize 7, out_qsize 0\n",
            "2021-04-10 07:27:47,331 : INFO : worker thread finished; awaiting finish of 3 more threads\n",
            "2021-04-10 07:27:47,373 : INFO : worker thread finished; awaiting finish of 2 more threads\n",
            "2021-04-10 07:27:47,384 : INFO : worker thread finished; awaiting finish of 1 more threads\n",
            "2021-04-10 07:27:47,391 : INFO : worker thread finished; awaiting finish of 0 more threads\n",
            "2021-04-10 07:27:47,394 : INFO : EPOCH - 1 : training on 6080186 raw words (5395870 effective words) took 11.6s, 465987 effective words/s\n",
            "2021-04-10 07:27:48,452 : INFO : EPOCH 2 - PROGRESS: at 8.99% examples, 459033 words/s, in_qsize 7, out_qsize 0\n",
            "2021-04-10 07:27:49,471 : INFO : EPOCH 2 - PROGRESS: at 17.90% examples, 462746 words/s, in_qsize 6, out_qsize 1\n",
            "2021-04-10 07:27:50,474 : INFO : EPOCH 2 - PROGRESS: at 27.02% examples, 472182 words/s, in_qsize 7, out_qsize 0\n",
            "2021-04-10 07:27:51,481 : INFO : EPOCH 2 - PROGRESS: at 36.23% examples, 476316 words/s, in_qsize 7, out_qsize 0\n",
            "2021-04-10 07:27:52,497 : INFO : EPOCH 2 - PROGRESS: at 45.67% examples, 482785 words/s, in_qsize 7, out_qsize 0\n",
            "2021-04-10 07:27:53,524 : INFO : EPOCH 2 - PROGRESS: at 54.58% examples, 480819 words/s, in_qsize 7, out_qsize 0\n",
            "2021-04-10 07:27:54,537 : INFO : EPOCH 2 - PROGRESS: at 63.85% examples, 482659 words/s, in_qsize 7, out_qsize 0\n",
            "2021-04-10 07:27:55,552 : INFO : EPOCH 2 - PROGRESS: at 72.72% examples, 480619 words/s, in_qsize 7, out_qsize 0\n",
            "2021-04-10 07:27:56,584 : INFO : EPOCH 2 - PROGRESS: at 82.04% examples, 481183 words/s, in_qsize 8, out_qsize 1\n",
            "2021-04-10 07:27:57,625 : INFO : EPOCH 2 - PROGRESS: at 91.09% examples, 480420 words/s, in_qsize 7, out_qsize 0\n",
            "2021-04-10 07:27:58,578 : INFO : worker thread finished; awaiting finish of 3 more threads\n",
            "2021-04-10 07:27:58,591 : INFO : worker thread finished; awaiting finish of 2 more threads\n",
            "2021-04-10 07:27:58,606 : INFO : worker thread finished; awaiting finish of 1 more threads\n",
            "2021-04-10 07:27:58,616 : INFO : worker thread finished; awaiting finish of 0 more threads\n",
            "2021-04-10 07:27:58,616 : INFO : EPOCH - 2 : training on 6080186 raw words (5395354 effective words) took 11.2s, 480976 effective words/s\n",
            "2021-04-10 07:27:59,636 : INFO : EPOCH 3 - PROGRESS: at 8.97% examples, 477002 words/s, in_qsize 7, out_qsize 0\n",
            "2021-04-10 07:28:00,643 : INFO : EPOCH 3 - PROGRESS: at 18.03% examples, 479056 words/s, in_qsize 7, out_qsize 0\n",
            "2021-04-10 07:28:01,649 : INFO : EPOCH 3 - PROGRESS: at 27.18% examples, 482662 words/s, in_qsize 7, out_qsize 0\n",
            "2021-04-10 07:28:02,674 : INFO : EPOCH 3 - PROGRESS: at 36.70% examples, 486674 words/s, in_qsize 6, out_qsize 1\n",
            "2021-04-10 07:28:03,678 : INFO : EPOCH 3 - PROGRESS: at 45.97% examples, 490458 words/s, in_qsize 7, out_qsize 0\n",
            "2021-04-10 07:28:04,702 : INFO : EPOCH 3 - PROGRESS: at 55.57% examples, 493195 words/s, in_qsize 7, out_qsize 0\n",
            "2021-04-10 07:28:05,718 : INFO : EPOCH 3 - PROGRESS: at 65.01% examples, 494382 words/s, in_qsize 7, out_qsize 0\n",
            "2021-04-10 07:28:06,748 : INFO : EPOCH 3 - PROGRESS: at 73.70% examples, 489548 words/s, in_qsize 7, out_qsize 0\n",
            "2021-04-10 07:28:07,749 : INFO : EPOCH 3 - PROGRESS: at 82.02% examples, 484467 words/s, in_qsize 7, out_qsize 0\n",
            "2021-04-10 07:28:08,764 : INFO : EPOCH 3 - PROGRESS: at 91.25% examples, 485478 words/s, in_qsize 7, out_qsize 0\n",
            "2021-04-10 07:28:09,631 : INFO : worker thread finished; awaiting finish of 3 more threads\n",
            "2021-04-10 07:28:09,646 : INFO : worker thread finished; awaiting finish of 2 more threads\n",
            "2021-04-10 07:28:09,664 : INFO : worker thread finished; awaiting finish of 1 more threads\n",
            "2021-04-10 07:28:09,666 : INFO : worker thread finished; awaiting finish of 0 more threads\n",
            "2021-04-10 07:28:09,667 : INFO : EPOCH - 3 : training on 6080186 raw words (5396457 effective words) took 11.0s, 488633 effective words/s\n",
            "2021-04-10 07:28:10,682 : INFO : EPOCH 4 - PROGRESS: at 9.16% examples, 488973 words/s, in_qsize 7, out_qsize 0\n",
            "2021-04-10 07:28:11,700 : INFO : EPOCH 4 - PROGRESS: at 18.19% examples, 482243 words/s, in_qsize 7, out_qsize 0\n",
            "2021-04-10 07:28:12,729 : INFO : EPOCH 4 - PROGRESS: at 26.40% examples, 464051 words/s, in_qsize 6, out_qsize 1\n",
            "2021-04-10 07:28:13,738 : INFO : EPOCH 4 - PROGRESS: at 35.49% examples, 470062 words/s, in_qsize 7, out_qsize 0\n",
            "2021-04-10 07:28:14,749 : INFO : EPOCH 4 - PROGRESS: at 44.27% examples, 469691 words/s, in_qsize 7, out_qsize 0\n",
            "2021-04-10 07:28:15,776 : INFO : EPOCH 4 - PROGRESS: at 53.09% examples, 469799 words/s, in_qsize 7, out_qsize 0\n",
            "2021-04-10 07:28:16,816 : INFO : EPOCH 4 - PROGRESS: at 61.96% examples, 467799 words/s, in_qsize 6, out_qsize 1\n",
            "2021-04-10 07:28:17,818 : INFO : EPOCH 4 - PROGRESS: at 71.12% examples, 470657 words/s, in_qsize 6, out_qsize 1\n",
            "2021-04-10 07:28:18,820 : INFO : EPOCH 4 - PROGRESS: at 80.06% examples, 471816 words/s, in_qsize 7, out_qsize 0\n",
            "2021-04-10 07:28:19,845 : INFO : EPOCH 4 - PROGRESS: at 89.01% examples, 471885 words/s, in_qsize 7, out_qsize 0\n",
            "2021-04-10 07:28:20,845 : INFO : EPOCH 4 - PROGRESS: at 97.77% examples, 472098 words/s, in_qsize 7, out_qsize 0\n",
            "2021-04-10 07:28:21,069 : INFO : worker thread finished; awaiting finish of 3 more threads\n",
            "2021-04-10 07:28:21,079 : INFO : worker thread finished; awaiting finish of 2 more threads\n",
            "2021-04-10 07:28:21,086 : INFO : worker thread finished; awaiting finish of 1 more threads\n",
            "2021-04-10 07:28:21,091 : INFO : worker thread finished; awaiting finish of 0 more threads\n",
            "2021-04-10 07:28:21,093 : INFO : EPOCH - 4 : training on 6080186 raw words (5396413 effective words) took 11.4s, 472624 effective words/s\n",
            "2021-04-10 07:28:22,124 : INFO : EPOCH 5 - PROGRESS: at 8.64% examples, 453922 words/s, in_qsize 8, out_qsize 1\n",
            "2021-04-10 07:28:23,163 : INFO : EPOCH 5 - PROGRESS: at 18.36% examples, 477024 words/s, in_qsize 7, out_qsize 0\n",
            "2021-04-10 07:28:24,196 : INFO : EPOCH 5 - PROGRESS: at 27.48% examples, 477050 words/s, in_qsize 7, out_qsize 0\n",
            "2021-04-10 07:28:25,225 : INFO : EPOCH 5 - PROGRESS: at 37.18% examples, 483892 words/s, in_qsize 7, out_qsize 0\n",
            "2021-04-10 07:28:26,241 : INFO : EPOCH 5 - PROGRESS: at 45.69% examples, 478565 words/s, in_qsize 7, out_qsize 0\n",
            "2021-04-10 07:28:27,253 : INFO : EPOCH 5 - PROGRESS: at 54.91% examples, 481611 words/s, in_qsize 7, out_qsize 0\n",
            "2021-04-10 07:28:28,297 : INFO : EPOCH 5 - PROGRESS: at 64.20% examples, 481070 words/s, in_qsize 6, out_qsize 1\n",
            "2021-04-10 07:28:29,327 : INFO : EPOCH 5 - PROGRESS: at 73.38% examples, 480560 words/s, in_qsize 7, out_qsize 0\n",
            "2021-04-10 07:28:30,328 : INFO : EPOCH 5 - PROGRESS: at 82.68% examples, 482775 words/s, in_qsize 7, out_qsize 0\n",
            "2021-04-10 07:28:31,348 : INFO : EPOCH 5 - PROGRESS: at 91.09% examples, 479385 words/s, in_qsize 7, out_qsize 0\n",
            "2021-04-10 07:28:32,250 : INFO : worker thread finished; awaiting finish of 3 more threads\n",
            "2021-04-10 07:28:32,258 : INFO : worker thread finished; awaiting finish of 2 more threads\n",
            "2021-04-10 07:28:32,278 : INFO : worker thread finished; awaiting finish of 1 more threads\n",
            "2021-04-10 07:28:32,283 : INFO : worker thread finished; awaiting finish of 0 more threads\n",
            "2021-04-10 07:28:32,284 : INFO : EPOCH - 5 : training on 6080186 raw words (5396370 effective words) took 11.2s, 482421 effective words/s\n",
            "2021-04-10 07:28:32,286 : INFO : training on a 30400930 raw words (26980464 effective words) took 56.5s, 477722 effective words/s\n",
            "2021-04-10 07:28:32,288 : INFO : precomputing L2-norms of word weight vectors\n"
          ],
          "name": "stderr"
        }
      ]
    },
    {
      "cell_type": "markdown",
      "metadata": {
        "id": "57tt77whjXlt"
      },
      "source": [
        "### Review most similar words\n",
        "Get initial evaluation of the word vectors by analyzing the most similar words for a few interesting words in the text. \n",
        "\n",
        "Choose words yourself, and find the most similar words to them."
      ]
    },
    {
      "cell_type": "code",
      "metadata": {
        "colab": {
          "base_uri": "https://localhost:8080/"
        },
        "id": "qfhbrAplNSiz",
        "outputId": "f081447c-0b31-4a62-8658-9ec5833579a0"
      },
      "source": [
        "word2vec_model.wv.most_similar(\"man\")"
      ],
      "execution_count": 10,
      "outputs": [
        {
          "output_type": "execute_result",
          "data": {
            "text/plain": [
              "[('woman', 0.6332130432128906),\n",
              " ('plan', 0.569317102432251),\n",
              " ('understand', 0.5401921272277832),\n",
              " ('gamblin', 0.4869733452796936),\n",
              " ('beenie', 0.4457629323005676),\n",
              " ('fellow', 0.44421106576919556),\n",
              " ('mans', 0.4356945753097534),\n",
              " ('understands', 0.427226185798645),\n",
              " ('wealthy', 0.4197186827659607),\n",
              " ('fam', 0.41852810978889465)]"
            ]
          },
          "metadata": {
            "tags": []
          },
          "execution_count": 10
        }
      ]
    },
    {
      "cell_type": "code",
      "metadata": {
        "colab": {
          "base_uri": "https://localhost:8080/"
        },
        "id": "eJF4cJdkFhXz",
        "outputId": "08529515-927a-49cf-ec31-6877f442e0b6"
      },
      "source": [
        "word2vec_model.wv.most_similar(\"love\")"
      ],
      "execution_count": 11,
      "outputs": [
        {
          "output_type": "execute_result",
          "data": {
            "text/plain": [
              "[('affair', 0.6024057865142822),\n",
              " ('darling', 0.5997490882873535),\n",
              " ('babe', 0.5896870493888855),\n",
              " ('darlin', 0.5818769931793213),\n",
              " ('unconditional', 0.5628246068954468),\n",
              " ('tender', 0.5507088899612427),\n",
              " ('loving', 0.5470552444458008),\n",
              " ('heartaches', 0.5340626239776611),\n",
              " ('baby', 0.5290589928627014),\n",
              " ('satisfied', 0.5274744033813477)]"
            ]
          },
          "metadata": {
            "tags": []
          },
          "execution_count": 11
        }
      ]
    },
    {
      "cell_type": "code",
      "metadata": {
        "colab": {
          "base_uri": "https://localhost:8080/"
        },
        "id": "frFcezPPjXlu",
        "outputId": "81480518-4e8f-4f1d-b2ca-542d500eed18"
      },
      "source": [
        "word2vec_model.wv.most_similar(\"kiss\")"
      ],
      "execution_count": 12,
      "outputs": [
        {
          "output_type": "execute_result",
          "data": {
            "text/plain": [
              "[('goodnight', 0.6999824643135071),\n",
              " ('lips', 0.6838077306747437),\n",
              " ('hug', 0.6629210710525513),\n",
              " ('kissed', 0.6403269171714783),\n",
              " ('kisses', 0.619562566280365),\n",
              " ('cheek', 0.5925288200378418),\n",
              " ('touch', 0.5487626194953918),\n",
              " ('fingertips', 0.5445724725723267),\n",
              " ('goodbye', 0.5361193418502808),\n",
              " ('miss', 0.5303822159767151)]"
            ]
          },
          "metadata": {
            "tags": []
          },
          "execution_count": 12
        }
      ]
    },
    {
      "cell_type": "markdown",
      "metadata": {
        "id": "t95uc9QdjXlu"
      },
      "source": [
        "### Word Vectors Algebra\n",
        "We've seen in class examples of algebraic games on the word vectors (e.g. man - woman + king = queen ). \n",
        "\n",
        "Try a few vector algebra terms, and evaluate how well they work. Try to use the Cosine distance and compare it to the Euclidean distance."
      ]
    },
    {
      "cell_type": "code",
      "metadata": {
        "id": "p2MESOHmjXlu"
      },
      "source": [
        "terms = ['man', 'woman', 'king', 'queen']\n",
        "man_vec, woman_vec, king_vec, queen_vec = [word2vec_model.wv[term] for term in terms]\n",
        "calc_queen_vec = man_vec - woman_vec + king_vec"
      ],
      "execution_count": 13,
      "outputs": []
    },
    {
      "cell_type": "code",
      "metadata": {
        "colab": {
          "base_uri": "https://localhost:8080/"
        },
        "id": "SKlJa_oiWwER",
        "outputId": "7385179c-696a-4185-f6ff-a48d4eb24158"
      },
      "source": [
        "# let's compare the first 10 dimensions of the real and calculated queen vectors\n",
        "list(zip(queen_vec[:10], calc_queen_vec[:10]))"
      ],
      "execution_count": 14,
      "outputs": [
        {
          "output_type": "execute_result",
          "data": {
            "text/plain": [
              "[(-0.012156274, -0.032186512),\n",
              " (0.040986914, 0.08903932),\n",
              " (-0.04327172, -0.06712454),\n",
              " (0.05270426, 0.009033363),\n",
              " (-0.09603879, -0.13335544),\n",
              " (0.009986565, 0.018041275),\n",
              " (-0.06878846, -0.029321395),\n",
              " (0.055007234, -0.16258904),\n",
              " (0.09157591, 0.053189233),\n",
              " (0.04846121, -0.007218517)]"
            ]
          },
          "metadata": {
            "tags": []
          },
          "execution_count": 14
        }
      ]
    },
    {
      "cell_type": "markdown",
      "metadata": {
        "id": "m-WmoAZFXA9W"
      },
      "source": [
        "We can see that some dimensions are very close, while others are quite different.\n",
        "\n",
        "Now, let's compare cosine similarity of these two terms to similiary to other terms. Cosine distance is preferred to be used with word vectors and it's the default in Gensim word2vec."
      ]
    },
    {
      "cell_type": "code",
      "metadata": {
        "colab": {
          "base_uri": "https://localhost:8080/"
        },
        "id": "12DPb4IeTSi0",
        "outputId": "1cf34598-56f3-4555-b98b-c15f0b51d825"
      },
      "source": [
        "cosine_sim = word2vec_model.wv.cosine_similarities(queen_vec, [man_vec, woman_vec, king_vec, queen_vec, calc_queen_vec])\n",
        "all_terms = [*terms, 'calculated queen vector']\n",
        "print('Cosine similarity of queen word vector to below 5 word vectors:')\n",
        "pd.Series(cosine_sim, all_terms).sort_values(ascending=False) "
      ],
      "execution_count": 15,
      "outputs": [
        {
          "output_type": "stream",
          "text": [
            "Cosine similarity of queen word vector to below 5 word vectors:\n"
          ],
          "name": "stdout"
        },
        {
          "output_type": "execute_result",
          "data": {
            "text/plain": [
              "queen                      1.000000\n",
              "king                       0.684490\n",
              "calculated queen vector    0.388633\n",
              "woman                      0.355576\n",
              "man                        0.177129\n",
              "dtype: float32"
            ]
          },
          "metadata": {
            "tags": []
          },
          "execution_count": 15
        }
      ]
    },
    {
      "cell_type": "markdown",
      "metadata": {
        "id": "yZOWMeTrYDZG"
      },
      "source": [
        "**Using cosine similarity**: We can see that queen word vector is close to itself (similarity 1, obviously) and to king (similarity 0.63), but less close to calculated queen vector we have constructed (similarity 0.33)"
      ]
    },
    {
      "cell_type": "code",
      "metadata": {
        "colab": {
          "base_uri": "https://localhost:8080/"
        },
        "id": "GH1QClClUGKb",
        "outputId": "3455d326-a8c6-4e84-e968-045a68674de0"
      },
      "source": [
        "euc_dict = {}\n",
        "print('Euclidian distance of queen word vector to below 5 word vectors:')\n",
        "for i, vec in enumerate([man_vec, woman_vec, king_vec, queen_vec, calc_queen_vec]):\n",
        "  euc_dict[all_terms[i]] = np.linalg.norm(vec - queen_vec)\n",
        "pd.Series(euc_dict).sort_values()   "
      ],
      "execution_count": 16,
      "outputs": [
        {
          "output_type": "stream",
          "text": [
            "Euclidian distance of queen word vector to below 5 word vectors:\n"
          ],
          "name": "stdout"
        },
        {
          "output_type": "execute_result",
          "data": {
            "text/plain": [
              "queen                      0.000000\n",
              "king                       0.794368\n",
              "woman                      1.135274\n",
              "man                        1.282864\n",
              "calculated queen vector    1.297462\n",
              "dtype: float64"
            ]
          },
          "metadata": {
            "tags": []
          },
          "execution_count": 16
        }
      ]
    },
    {
      "cell_type": "markdown",
      "metadata": {
        "id": "y10J7mybaE1t"
      },
      "source": [
        "**Using euclidian distance**: Obviously, we can see that queen word vector is close to itself (distance 0) and to king (distance 0.85), but less close to calculated queen vector we have constructed (distance 1.4)."
      ]
    },
    {
      "cell_type": "markdown",
      "metadata": {
        "id": "67NmtaKKjXlu"
      },
      "source": [
        "## Sentiment Analysis\n",
        "Estimate sentiment of words using word vectors.  \n",
        "In this section, we'll use the SemEval-2015 English Twitter Sentiment Lexicon.  \n",
        "The lexicon was used as an official test set in the SemEval-2015 shared Task #10: Subtask E, and contains a polarity score for words in range -1 (negative) to 1 (positive) - http://saifmohammad.com/WebPages/SCL.html#OPP"
      ]
    },
    {
      "cell_type": "markdown",
      "metadata": {
        "id": "ldeQXv91KvwK"
      },
      "source": [
        "### Load & Preprocess Data"
      ]
    },
    {
      "cell_type": "code",
      "metadata": {
        "colab": {
          "base_uri": "https://localhost:8080/",
          "height": 204
        },
        "id": "dhxK4NJteTY8",
        "outputId": "66a29052-2afd-4eba-da22-19d842a7fddc"
      },
      "source": [
        "# load the sentiment analysis data file into a dataframe\n",
        "resp = urlopen(\"http://saifmohammad.com/WebDocs/lexiconstoreleaseonsclpage/SemEval2015-English-Twitter-Lexicon.zip\")\n",
        "zipfile = ZipFile(BytesIO(resp.read()))\n",
        "this_zip_file = zipfile.open('SemEval2015-English-Twitter-Lexicon/SemEval2015-English-Twitter-Lexicon.txt')\n",
        "sentiment_df = pd.read_csv(this_zip_file, sep='\\t',names=['score','term'])\n",
        "sentiment_df.head()"
      ],
      "execution_count": 17,
      "outputs": [
        {
          "output_type": "execute_result",
          "data": {
            "text/html": [
              "<div>\n",
              "<style scoped>\n",
              "    .dataframe tbody tr th:only-of-type {\n",
              "        vertical-align: middle;\n",
              "    }\n",
              "\n",
              "    .dataframe tbody tr th {\n",
              "        vertical-align: top;\n",
              "    }\n",
              "\n",
              "    .dataframe thead th {\n",
              "        text-align: right;\n",
              "    }\n",
              "</style>\n",
              "<table border=\"1\" class=\"dataframe\">\n",
              "  <thead>\n",
              "    <tr style=\"text-align: right;\">\n",
              "      <th></th>\n",
              "      <th>score</th>\n",
              "      <th>term</th>\n",
              "    </tr>\n",
              "  </thead>\n",
              "  <tbody>\n",
              "    <tr>\n",
              "      <th>0</th>\n",
              "      <td>0.984</td>\n",
              "      <td>loves</td>\n",
              "    </tr>\n",
              "    <tr>\n",
              "      <th>1</th>\n",
              "      <td>0.984</td>\n",
              "      <td>#inspirational</td>\n",
              "    </tr>\n",
              "    <tr>\n",
              "      <th>2</th>\n",
              "      <td>0.969</td>\n",
              "      <td>amazing</td>\n",
              "    </tr>\n",
              "    <tr>\n",
              "      <th>3</th>\n",
              "      <td>0.969</td>\n",
              "      <td>#peaceful</td>\n",
              "    </tr>\n",
              "    <tr>\n",
              "      <th>4</th>\n",
              "      <td>0.953</td>\n",
              "      <td>#greatness</td>\n",
              "    </tr>\n",
              "  </tbody>\n",
              "</table>\n",
              "</div>"
            ],
            "text/plain": [
              "   score            term\n",
              "0  0.984           loves\n",
              "1  0.984  #inspirational\n",
              "2  0.969         amazing\n",
              "3  0.969       #peaceful\n",
              "4  0.953      #greatness"
            ]
          },
          "metadata": {
            "tags": []
          },
          "execution_count": 17
        }
      ]
    },
    {
      "cell_type": "code",
      "metadata": {
        "id": "_6SeXQi5Ux37",
        "colab": {
          "base_uri": "https://localhost:8080/"
        },
        "outputId": "d723b88f-a9c0-4898-ca64-9660501e70d1"
      },
      "source": [
        "!mkdir data # this will hold the zip file and the extracted files"
      ],
      "execution_count": 18,
      "outputs": [
        {
          "output_type": "stream",
          "text": [
            "mkdir: cannot create directory ‘data’: File exists\n"
          ],
          "name": "stdout"
        }
      ]
    },
    {
      "cell_type": "code",
      "metadata": {
        "colab": {
          "base_uri": "https://localhost:8080/"
        },
        "id": "gOq5Fq54LYMb",
        "outputId": "17b0358d-3a8c-4fa8-d0ae-709bd6e3c982"
      },
      "source": [
        "resp = urlopen(\"http://saifmohammad.com/WebDocs/lexiconstoreleaseonsclpage/SemEval2015-English-Twitter-Lexicon.zip\")\n",
        "zipfile = ZipFile(BytesIO(resp.read())) # download the file\n",
        "zipfile.extractall(path='./data/') # Extract all the contents of zip file to ./data/ folder\n",
        "sentiment_df = pd.read_csv('./data/SemEval2015-English-Twitter-Lexicon/SemEval2015-English-Twitter-Lexicon.txt', sep='\\t',names=['score','term'])\n",
        "sentiment_df.term = sentiment_df.term.replace(\"#\",\"\", regex=True)   # remove hashtags\n",
        "\n",
        "f = open('./data/SemEval2015-English-Twitter-Lexicon/SemEval2015-English-negators.txt')           # Open a file for reading\n",
        "negator_list = f.readlines()                # reads all the lines in the file into a list of strings\n",
        "negator_list = [word.strip().lower() for word in negator_list]\n",
        "\n",
        "# handle negatives (remove them and change score sign)\n",
        "def starts_with_negator(text):\n",
        "  if len(text)==0:\n",
        "    return False\n",
        "  if text.split()[0] in negator_list:\n",
        "    return True\n",
        "  return False\n",
        "\n",
        "def remove_first_word(text):\n",
        "  return ' '.join((text.split()[1:]))\n",
        "\n",
        "negator_mask = sentiment_df.term.apply(starts_with_negator)\n",
        "sentiment_df.loc[negator_mask, 'score'] = sentiment_df.score * (-1) # change score sign \n",
        "sentiment_df.loc[negator_mask, 'term'] = sentiment_df.term.apply(remove_first_word) # remove the negator terms"
      ],
      "execution_count": 19,
      "outputs": [
        {
          "output_type": "stream",
          "text": [
            "2021-04-10 07:28:33,070 : INFO : NumExpr defaulting to 2 threads.\n"
          ],
          "name": "stderr"
        }
      ]
    },
    {
      "cell_type": "code",
      "metadata": {
        "colab": {
          "base_uri": "https://localhost:8080/",
          "height": 204
        },
        "id": "j5-Zhu-dPjcI",
        "outputId": "fd4de496-ac2a-44aa-ddf7-5be95591edf9"
      },
      "source": [
        "sentiment_df.head()"
      ],
      "execution_count": 20,
      "outputs": [
        {
          "output_type": "execute_result",
          "data": {
            "text/html": [
              "<div>\n",
              "<style scoped>\n",
              "    .dataframe tbody tr th:only-of-type {\n",
              "        vertical-align: middle;\n",
              "    }\n",
              "\n",
              "    .dataframe tbody tr th {\n",
              "        vertical-align: top;\n",
              "    }\n",
              "\n",
              "    .dataframe thead th {\n",
              "        text-align: right;\n",
              "    }\n",
              "</style>\n",
              "<table border=\"1\" class=\"dataframe\">\n",
              "  <thead>\n",
              "    <tr style=\"text-align: right;\">\n",
              "      <th></th>\n",
              "      <th>score</th>\n",
              "      <th>term</th>\n",
              "    </tr>\n",
              "  </thead>\n",
              "  <tbody>\n",
              "    <tr>\n",
              "      <th>0</th>\n",
              "      <td>0.984</td>\n",
              "      <td>loves</td>\n",
              "    </tr>\n",
              "    <tr>\n",
              "      <th>1</th>\n",
              "      <td>0.984</td>\n",
              "      <td>inspirational</td>\n",
              "    </tr>\n",
              "    <tr>\n",
              "      <th>2</th>\n",
              "      <td>0.969</td>\n",
              "      <td>amazing</td>\n",
              "    </tr>\n",
              "    <tr>\n",
              "      <th>3</th>\n",
              "      <td>0.969</td>\n",
              "      <td>peaceful</td>\n",
              "    </tr>\n",
              "    <tr>\n",
              "      <th>4</th>\n",
              "      <td>0.953</td>\n",
              "      <td>greatness</td>\n",
              "    </tr>\n",
              "  </tbody>\n",
              "</table>\n",
              "</div>"
            ],
            "text/plain": [
              "   score           term\n",
              "0  0.984          loves\n",
              "1  0.984  inspirational\n",
              "2  0.969        amazing\n",
              "3  0.969       peaceful\n",
              "4  0.953      greatness"
            ]
          },
          "metadata": {
            "tags": []
          },
          "execution_count": 20
        }
      ]
    },
    {
      "cell_type": "markdown",
      "metadata": {
        "id": "M9Ho9JjbjXlu"
      },
      "source": [
        "Build a regressor for the sentiment of a word given its word vector, in range -1 to 1. \n",
        "\n",
        "Split the data to a train and test sets, and report the model performance on both sets."
      ]
    },
    {
      "cell_type": "code",
      "metadata": {
        "id": "CEhVwX6cf-NR"
      },
      "source": [
        "X_train, X_test, y_train, y_test = train_test_split(sentiment_df.term, sentiment_df.score, test_size=0.2, random_state=42) # 80% / 20% split"
      ],
      "execution_count": 21,
      "outputs": []
    },
    {
      "cell_type": "markdown",
      "metadata": {
        "id": "xhhFSA_zK-Jp"
      },
      "source": [
        "### Neural Model"
      ]
    },
    {
      "cell_type": "code",
      "metadata": {
        "id": "xXc9GpON4mIV"
      },
      "source": [
        "# decoder function: convert each sample in X_train and X_test into a list of tokens, then apply word2vec on each token, and then return the average of each term\n",
        "\n",
        "# function to tokenize a string, apply word2vec on each token, and return the average of each term\n",
        "def vectorize_term(term):\n",
        "  token_vectors = []\n",
        "  for token in term.split():\n",
        "    if token in word2vec_model.wv.vocab: # only if the token is in vocabulary\n",
        "      token_vectors.append(word2vec_model.wv[token])\n",
        "  \n",
        "  # Handle an edge case when all tokens in the term are Out-of_vocabulary in our trained Word2Vec model: return a zero vector\n",
        "  if len(token_vectors)==0: \n",
        "    return np.zeros(300)\n",
        "  \n",
        "  return np.array(token_vectors).mean(axis=0) # return one vector that is the mean of all the word vectors in the term"
      ],
      "execution_count": 22,
      "outputs": []
    },
    {
      "cell_type": "code",
      "metadata": {
        "id": "Xwno8OtbHkSk"
      },
      "source": [
        "# build a custom dataset\n",
        "\n",
        "class CustomDataset(Dataset):\n",
        "    def __init__(self, texts, labels, vectorizer_function):\n",
        "        self.labels = labels\n",
        "        self.texts = texts\n",
        "        self.vectorizer = vectorizer_function\n",
        "\n",
        "    def __len__(self):\n",
        "        return len(self.labels)\n",
        "\n",
        "    def __getitem__(self, idx):\n",
        "        text = self.texts.iloc[idx]\n",
        "        label = self.labels.iloc[idx]\n",
        "        vec = self.vectorizer(text)\n",
        "        sample = {\"embedding\": vec, \"label\": label}\n",
        "        return sample"
      ],
      "execution_count": 23,
      "outputs": []
    },
    {
      "cell_type": "code",
      "metadata": {
        "id": "2j3bUArRK7vK"
      },
      "source": [
        "# create the datasets and dataloaders\n",
        "train_dataset = CustomDataset(X_train, y_train, vectorize_term)\n",
        "train_dataloader = DataLoader(train_dataset, batch_size=16, shuffle=True)\n",
        "\n",
        "test_dataset = CustomDataset(X_test, y_test, vectorize_term)\n",
        "test_dataloader = DataLoader(test_dataset, batch_size=16, shuffle=False)"
      ],
      "execution_count": 24,
      "outputs": []
    },
    {
      "cell_type": "code",
      "metadata": {
        "id": "MBpzZI6ynup-"
      },
      "source": [
        "hidden = 64 # neurons in hidden layer\n",
        "\n",
        "regression_model = nn.Sequential(\n",
        "    nn.Linear(300, hidden), # 300 inputs (dimension of word2vec embedding)\n",
        "    nn.ReLU(),\n",
        "    nn.Dropout(),\n",
        "    nn.Linear(hidden, 1) # Output layer - 1 neuron for regression task\n",
        "  )"
      ],
      "execution_count": 25,
      "outputs": []
    },
    {
      "cell_type": "code",
      "metadata": {
        "colab": {
          "base_uri": "https://localhost:8080/"
        },
        "id": "xndXI6DDMwUc",
        "outputId": "162d0b8d-4246-4823-be00-323fa2aa9c3c"
      },
      "source": [
        "device = 'cuda' if torch.cuda.is_available() else 'cpu'\n",
        "print('Using {} device'.format(device))\n",
        "\n",
        "regression_model = regression_model.to(device)\n",
        "print(regression_model)"
      ],
      "execution_count": 26,
      "outputs": [
        {
          "output_type": "stream",
          "text": [
            "Using cuda device\n",
            "Sequential(\n",
            "  (0): Linear(in_features=300, out_features=64, bias=True)\n",
            "  (1): ReLU()\n",
            "  (2): Dropout(p=0.5, inplace=False)\n",
            "  (3): Linear(in_features=64, out_features=1, bias=True)\n",
            ")\n"
          ],
          "name": "stdout"
        }
      ]
    },
    {
      "cell_type": "code",
      "metadata": {
        "id": "o-vUutcOSQo4"
      },
      "source": [
        "def train_model(model, train_dataloader, test_dataloader, criterion, optimizer, scheduler, num_epochs=15):\n",
        "    best_model_wts = copy.deepcopy(model.state_dict())\n",
        "    best_loss = 999\n",
        "    train_size = len(train_dataloader.dataset.labels)\n",
        "    test_size = len(test_dataloader.dataset.labels)\n",
        "    model = model.double()\n",
        "\n",
        "    for epoch in range(num_epochs):\n",
        "\n",
        "        # model training\n",
        "        model.train()\n",
        "        running_loss = 0.0\n",
        "\n",
        "        for batch in train_dataloader:\n",
        "            inputs = batch['embedding'].to(device).double()\n",
        "            labels = batch['label'].to(device)\n",
        "            labels = labels.view(-1,1) # reshape to (16,1), like model output\n",
        "            optimizer.zero_grad()\n",
        "\n",
        "            with torch.set_grad_enabled(True):\n",
        "                outputs = model(inputs) \n",
        "                loss = criterion(outputs, labels)\n",
        "                loss.backward() \n",
        "                optimizer.step()\n",
        "            \n",
        "            running_loss += loss.item() * inputs.size(0)\n",
        "        train_epoch_loss = running_loss / train_size\n",
        "        scheduler.step()  \n",
        "\n",
        "        # model validation\n",
        "        model.eval()   \n",
        "        running_loss = 0.0\n",
        "\n",
        "        for batch in test_dataloader:\n",
        "            inputs = batch['embedding'].to(device).double()\n",
        "            labels = batch['label'].to(device)\n",
        "            labels = labels.view(-1,1) # reshape to (16,1), like model output\n",
        "            optimizer.zero_grad()\n",
        "\n",
        "            with torch.set_grad_enabled(False):\n",
        "                outputs = model(inputs) \n",
        "                loss = criterion(outputs, labels)\n",
        "            \n",
        "            running_loss += loss.item() * inputs.size(0)\n",
        "        test_epoch_loss = running_loss / test_size\n",
        "\n",
        "        # Print epoch stats\n",
        "        print(f'Epoch\\t {epoch} Train Loss\\t {train_epoch_loss:.4f} Test Loss\\t {test_epoch_loss:.4f}')       \n",
        "        \n",
        "        # Save the best model\n",
        "        if test_epoch_loss < best_loss:\n",
        "            best_loss = test_epoch_loss\n",
        "            best_model_wts = copy.deepcopy(model.state_dict())\n",
        "    \n",
        "    # Complete training\n",
        "    print(f'Training complete. Best test loss: {best_loss:4f}')\n",
        "    model.load_state_dict(best_model_wts) # return model to the best state"
      ],
      "execution_count": 27,
      "outputs": []
    },
    {
      "cell_type": "code",
      "metadata": {
        "colab": {
          "base_uri": "https://localhost:8080/"
        },
        "id": "m_AnSwEGXLTg",
        "outputId": "842b7d99-f47b-4dfc-ad96-f4342e77e37a"
      },
      "source": [
        "# train the model\n",
        "optimizer = optim.Adam(regression_model.parameters(), lr=0.001)\n",
        "exp_lr_scheduler = lr_scheduler.StepLR(optimizer, step_size=5, gamma=0.1)\n",
        "criterion = nn.MSELoss()\n",
        "train_model(regression_model, train_dataloader, test_dataloader, criterion, optimizer, exp_lr_scheduler)"
      ],
      "execution_count": 28,
      "outputs": [
        {
          "output_type": "stream",
          "text": [
            "Epoch\t 0 Train Loss\t 0.2317 Test Loss\t 0.1975\n",
            "Epoch\t 1 Train Loss\t 0.1901 Test Loss\t 0.1744\n",
            "Epoch\t 2 Train Loss\t 0.1731 Test Loss\t 0.1671\n",
            "Epoch\t 3 Train Loss\t 0.1640 Test Loss\t 0.1652\n",
            "Epoch\t 4 Train Loss\t 0.1609 Test Loss\t 0.1654\n",
            "Epoch\t 5 Train Loss\t 0.1538 Test Loss\t 0.1643\n",
            "Epoch\t 6 Train Loss\t 0.1514 Test Loss\t 0.1638\n",
            "Epoch\t 7 Train Loss\t 0.1539 Test Loss\t 0.1631\n",
            "Epoch\t 8 Train Loss\t 0.1520 Test Loss\t 0.1629\n",
            "Epoch\t 9 Train Loss\t 0.1527 Test Loss\t 0.1628\n",
            "Epoch\t 10 Train Loss\t 0.1532 Test Loss\t 0.1628\n",
            "Epoch\t 11 Train Loss\t 0.1502 Test Loss\t 0.1627\n",
            "Epoch\t 12 Train Loss\t 0.1515 Test Loss\t 0.1627\n",
            "Epoch\t 13 Train Loss\t 0.1500 Test Loss\t 0.1626\n",
            "Epoch\t 14 Train Loss\t 0.1507 Test Loss\t 0.1626\n",
            "Training complete. Best test loss: 0.162626\n"
          ],
          "name": "stdout"
        }
      ]
    },
    {
      "cell_type": "code",
      "metadata": {
        "colab": {
          "base_uri": "https://localhost:8080/"
        },
        "id": "wZP_k751eT1E",
        "outputId": "bfbfe3d4-d01e-4cf8-91ed-f4f067700a3e"
      },
      "source": [
        "# manual evaluation on one batch\n",
        "batch = next(iter(test_dataloader))\n",
        "inputs = batch['embedding'].to(device).double()\n",
        "labels = batch['label'].to(device)\n",
        "print('Predictions & labels for the first 10 samples:')\n",
        "compare_df = pd.DataFrame(zip(regression_model(inputs).view(-1).cpu().detach().numpy(), labels.cpu().detach().numpy()), columns = ['Pred','Label'])\n",
        "abs_errors = abs(regression_model(inputs).view(-1)-labels).cpu().detach().numpy()\n",
        "compare_df['Absolue Error'] = abs_errors\n",
        "print(compare_df[:10])\n",
        "\n",
        "print(f'\\nBatch MAE {abs_errors.mean():.3f}')\n",
        "print(f'Batch MSE {abs_errors.mean()**2:.3f}')"
      ],
      "execution_count": 29,
      "outputs": [
        {
          "output_type": "stream",
          "text": [
            "Predictions & labels for the first 10 samples:\n",
            "       Pred  Label  Absolue Error\n",
            "0  0.472608  0.821       0.348392\n",
            "1  0.214363  0.672       0.457637\n",
            "2 -0.089849 -0.859       0.769151\n",
            "3  0.058186 -0.156       0.214186\n",
            "4  0.542306  0.344       0.198306\n",
            "5  0.058186 -0.359       0.417186\n",
            "6  0.380618  0.188       0.192618\n",
            "7  0.518059  0.607       0.088941\n",
            "8  0.072397 -0.859       0.931397\n",
            "9 -0.135903 -0.813       0.677097\n",
            "\n",
            "Batch MAE 0.437\n",
            "Batch MSE 0.191\n"
          ],
          "name": "stdout"
        }
      ]
    },
    {
      "cell_type": "markdown",
      "metadata": {
        "id": "UK80zODZWx7W"
      },
      "source": [
        "### Other models + Evaluation"
      ]
    },
    {
      "cell_type": "code",
      "metadata": {
        "colab": {
          "base_uri": "https://localhost:8080/"
        },
        "id": "iRMK4NlknGjR",
        "outputId": "886ab7e1-8521-49d3-b7f4-adf869c5cace"
      },
      "source": [
        "# XGBoost\n",
        "xgbr = XGBRegressor(max_depth=4, n_estimators=100)\n",
        "# vectorize the text into list of arrays (300 values in each) and then construct a dataframe with 300 columns\n",
        "X_train_vectorized_df = pd.DataFrame(X_train.apply(vectorize_term).to_list()) \n",
        "X_test_vectorized_df = pd.DataFrame(X_test.apply(vectorize_term).to_list()) \n",
        "xgbr.fit(X_train_vectorized_df, y_train)\n",
        "\n",
        "# Model Evaluation\n",
        "y_train_pred = xgbr.predict(X_train_vectorized_df)\n",
        "y_test_pred = xgbr.predict(X_test_vectorized_df)\n",
        "print(f'Train MSE: {MSE(y_train, y_train_pred):.3f} Test MSE: {MSE(y_test, y_test_pred):.3f}')"
      ],
      "execution_count": 30,
      "outputs": [
        {
          "output_type": "stream",
          "text": [
            "[07:28:38] WARNING: /workspace/src/objective/regression_obj.cu:152: reg:linear is now deprecated in favor of reg:squarederror.\n",
            "Train MSE: 0.074 Test MSE: 0.171\n"
          ],
          "name": "stdout"
        }
      ]
    },
    {
      "cell_type": "code",
      "metadata": {
        "colab": {
          "base_uri": "https://localhost:8080/",
          "height": 418
        },
        "id": "XC7vWEGdAB37",
        "outputId": "89d4aa70-d55e-4005-b337-bf0a971da639"
      },
      "source": [
        "import matplotlib.pyplot as plt\n",
        "\n",
        "def plot_scatter(y_pred, y, title):  \n",
        "  plt.figure(figsize=(6, 6))\n",
        "  plt.xlim(-1, 1)\n",
        "  plt.ylim(-1, 1)\n",
        "  plt.plot((-1, 1),(-1, 1), c='k', alpha=0.3)\n",
        "  plt.title(title, pad=20)\n",
        "  plt.ylabel('Prediction')    \n",
        "  plt.xlabel('True value')\n",
        "  plt.scatter(y, y_pred);\n",
        "\n",
        "plot_scatter(y_test_pred, y_test, 'Prediction of XGBoost regression model vs actual')"
      ],
      "execution_count": 31,
      "outputs": [
        {
          "output_type": "display_data",
          "data": {
            "image/png": "[encoded data removed]",
            "text/plain": [
              "<Figure size 432x432 with 1 Axes>"
            ]
          },
          "metadata": {
            "tags": [],
            "needs_background": "light"
          }
        }
      ]
    },
    {
      "cell_type": "code",
      "metadata": {
        "colab": {
          "base_uri": "https://localhost:8080/"
        },
        "id": "YPKWBjAgWflk",
        "outputId": "10ded22b-b537-4df8-888f-24269710a215"
      },
      "source": [
        "# Linear Regression\n",
        "lr = LinearRegression()\n",
        "lr.fit(X_train_vectorized_df, y_train)\n",
        "\n",
        "y_train_pred = lr.predict(X_train_vectorized_df)\n",
        "y_test_pred = lr.predict(X_test_vectorized_df)\n",
        "print(f'Train MSE: {MSE(y_train, y_train_pred):.3f} Test MSE: {MSE(y_test, y_test_pred):.3f}')"
      ],
      "execution_count": 32,
      "outputs": [
        {
          "output_type": "stream",
          "text": [
            "Train MSE: 0.132 Test MSE: 0.238\n"
          ],
          "name": "stdout"
        }
      ]
    },
    {
      "cell_type": "code",
      "metadata": {
        "colab": {
          "base_uri": "https://localhost:8080/",
          "height": 418
        },
        "id": "kAkYQdZz6wjs",
        "outputId": "a1732d88-d058-425b-8a13-64d7ea9822ba"
      },
      "source": [
        "# Let's plot the results of the best model (Neural)\n",
        "\n",
        "@torch.no_grad()\n",
        "def predict(model, dataloader):\n",
        "  model.eval()\n",
        "  predictions = [] \n",
        "  for batch in dataloader:\n",
        "    inputs = batch['embedding'].to(device).double()\n",
        "    outputs = model(inputs) \n",
        "    predictions.append(outputs.view(-1).cpu().detach().numpy()) # append an array of batch predicitons to the list\n",
        "  return np.concatenate(predictions, axis=0)\n",
        "\n",
        "y_test_pred = predict(regression_model, test_dataloader)\n",
        "plot_scatter(y_test_pred, y_test, 'Prediction of Neural regression model vs actual')"
      ],
      "execution_count": 33,
      "outputs": [
        {
          "output_type": "display_data",
          "data": {
            "image/png": "[encoded data removed]",
            "text/plain": [
              "<Figure size 432x432 with 1 Axes>"
            ]
          },
          "metadata": {
            "tags": [],
            "needs_background": "light"
          }
        }
      ]
    },
    {
      "cell_type": "markdown",
      "metadata": {
        "id": "5Ef2ytIJy5rK"
      },
      "source": [
        "**Conclusions**:\n",
        "\n",
        "* We can see that boall 3 models (Neural Network, XGBoost and Linear Regression) models are strongly overfitted, as train MSE in both of them is much lower than test MSE. That is expected, as we have 300 features and ~1100 training examples.\n",
        "* Neural network model is a little better on test, probably because of a minimal network architecture. It has only one layer with 64 neurons, that we used specifically to reduce overfitting. Consequentially, Neural model also has the lowest delta between train and test MSE.\n",
        "* Scatter plots show us that the main issue is with Out-of-Vocabulary terms, that are embedded as 0 word vector. They have all different sentiments, but all the models predict them as close to 0 (in order to minimize the MSE). It measn that if we will manage to create a better encoding with less OOV words, we will get better results."
      ]
    },
    {
      "cell_type": "markdown",
      "metadata": {
        "id": "olNfP0O6jXlv"
      },
      "source": [
        "Use your trained model from the previous question to predict the sentiment score of words in the lyrics corpus that are not part of the original sentiment dataset. Review the words with the highest positive and negative sentiment. Do the results make sense?"
      ]
    },
    {
      "cell_type": "code",
      "metadata": {
        "id": "k3QoRlZLjXlv"
      },
      "source": [
        "song_tokens = list(word2vec_model.wv.vocab.keys()) # get the list of all song tokens that are in our word2vec vocabulary\n",
        "song_token_vectors = [word2vec_model.wv[token] for token in song_tokens] # get the corresponding list of word vectors\n",
        "song_token_vectors_df = pd.DataFrame(np.vstack(song_token_vectors)) # convert song vectors into a dataframe (this is the input format for XGBoost model)\n",
        "song_token_sentiment_predictions = xgbr.predict(song_token_vectors_df) # use the XGBoost model to predict the sentiment for each word vector"
      ],
      "execution_count": 34,
      "outputs": []
    },
    {
      "cell_type": "code",
      "metadata": {
        "colab": {
          "base_uri": "https://localhost:8080/"
        },
        "id": "NdsqjEbSH2ba",
        "outputId": "7262b0b3-a5a7-47c2-d108-e3ca4b236556"
      },
      "source": [
        "top5_idx = song_token_sentiment_predictions.argsort()[::-1][:5] # find top 5 words with positive predictions\n",
        "bottom5_idx = song_token_sentiment_predictions.argsort()[:5][::-1] # find top 5 words with negative predictions\n",
        "interesting_idx = np.concatenate((top5_idx, bottom5_idx))\n",
        "interesting_predictions = song_token_sentiment_predictions[interesting_idx]\n",
        "interesting_tokens = [song_tokens[idx] for idx in interesting_idx]\n",
        "extreme_sentiments = pd.Series(data=interesting_predictions, index=interesting_tokens, name='Predicted Sentiment')\n",
        "extreme_sentiments"
      ],
      "execution_count": 35,
      "outputs": [
        {
          "output_type": "execute_result",
          "data": {
            "text/plain": [
              "wedded          0.990660\n",
              "isle            0.928634\n",
              "volare          0.878099\n",
              "incomparable    0.866195\n",
              "fantastic       0.864242\n",
              "horrible       -0.895675\n",
              "disfigured     -0.897831\n",
              "disgusting     -0.928278\n",
              "rape           -0.948053\n",
              "stalked        -0.970689\n",
              "Name: Predicted Sentiment, dtype: float32"
            ]
          },
          "metadata": {
            "tags": []
          },
          "execution_count": 35
        }
      ]
    },
    {
      "cell_type": "markdown",
      "metadata": {
        "id": "sj5MLVT90eiq"
      },
      "source": [
        "The results mostly make sense, except for a couple of misfits."
      ]
    },
    {
      "cell_type": "markdown",
      "metadata": {
        "id": "F5qwPANWjXlv"
      },
      "source": [
        "### Visualize Word Vectors\n",
        "In this section, you'll plot words on a 2D grid based on their inner similarity. We'll use the tSNE transformation to reduce dimensions from 300 to 2. You can get sample code from https://www.kaggle.com/pierremegret/gensim-word2vec-tutorial or other tutorials online.\n",
        "\n",
        "Perform the following:\n",
        "- Keep only the 3,000 most frequent words (after removing stopwords)\n",
        "- For this list, compute for each word its relative abundance in each of the genres\n",
        "- Compute the ratio between the proportion of each word in each genre and the proportion of the word in the entire corpus (the background distribution)\n",
        "- Pick the top 50 words for each genre. These words give good indication for that genre. Join the words from all genres into a single list of top significant words. \n",
        "- Compute tSNE transformation to 2D for all words, based on their word vectors\n",
        "- Plot the list of the top significant words in 2D. Next to each word output its text. The color of each point should indicate the genre for which it is most significant.\n",
        "\n",
        "You might prefer to use a different number of points or a slightly different methodology for improved results.  \n",
        "Analyze the results."
      ]
    },
    {
      "cell_type": "code",
      "metadata": {
        "id": "qF27cbJRjXlv"
      },
      "source": [
        "# Keep only the 3,000 most frequent words (after removing stopwords)\n",
        "song_tokens_count = [word2vec_model.wv.vocab[token].count for token in song_tokens]\n",
        "song_tokens_count_series  = pd.Series(data=song_tokens_count, index=song_tokens)\n",
        "top_3000_tokens = list(song_tokens_count_series.sort_values(ascending=False)[:3000].index)\n",
        "\n",
        "# create dataframe with 5 genres as columns and 3K words as rows, to store the results\n",
        "genres = songs_df.genre.value_counts().index\n",
        "count_df = pd.DataFrame(index=top_3000_tokens, columns = genres, data=np.zeros((3000, len(genres))))\n",
        "\n",
        "# count only the relevant tokens\n",
        "cvectorizer = CountVectorizer(vocabulary=top_3000_tokens)\n",
        "count_matrix = cvectorizer.fit_transform(clean_sentences).toarray() # create a 49976 x 3000 matrix with token counts for each song\n",
        "\n",
        "# summarize the counts and frequency per genre and save it\n",
        "for genre in genres:\n",
        "  genre_mask = (songs_df.genre == genre) # find only records for the current genre\n",
        "  token_counts = count_matrix[genre_mask,:].sum(axis=0) # sum counts in all songs of this genre\n",
        "  count_df[genre] = token_counts # store the results in a relevant column in df\n",
        "\n",
        "freq_df = count_df / count_df.sum() # create a df frequency counts"
      ],
      "execution_count": 36,
      "outputs": []
    },
    {
      "cell_type": "code",
      "metadata": {
        "id": "YhxJ6gbpgg-v",
        "colab": {
          "base_uri": "https://localhost:8080/",
          "height": 204
        },
        "outputId": "421663e1-417a-4ca9-8384-cae2dda5573e"
      },
      "source": [
        "# Compute the ratio between the proportion of each word in each genre and the proportion of the word in the entire corpus\n",
        "total_word_counts = count_df.sum(axis=1)\n",
        "total_word_freqs = total_word_counts / total_word_counts.sum()\n",
        "total_word_freqs_arr = total_word_freqs.values.reshape(-1, 1)\n",
        "# replace zero counts to avoid division by 0\n",
        "total_word_freqs_arr = np.where(total_word_freqs_arr>0, total_word_freqs_arr, np.finfo(np.float32).eps)   \n",
        "relative_freq_df = freq_df / total_word_freqs_arr\n",
        "relative_freq_df.head()"
      ],
      "execution_count": 37,
      "outputs": [
        {
          "output_type": "execute_result",
          "data": {
            "text/html": [
              "<div>\n",
              "<style scoped>\n",
              "    .dataframe tbody tr th:only-of-type {\n",
              "        vertical-align: middle;\n",
              "    }\n",
              "\n",
              "    .dataframe tbody tr th {\n",
              "        vertical-align: top;\n",
              "    }\n",
              "\n",
              "    .dataframe thead th {\n",
              "        text-align: right;\n",
              "    }\n",
              "</style>\n",
              "<table border=\"1\" class=\"dataframe\">\n",
              "  <thead>\n",
              "    <tr style=\"text-align: right;\">\n",
              "      <th></th>\n",
              "      <th>Rock</th>\n",
              "      <th>Pop</th>\n",
              "      <th>Hip-Hop</th>\n",
              "      <th>Metal</th>\n",
              "      <th>Country</th>\n",
              "    </tr>\n",
              "  </thead>\n",
              "  <tbody>\n",
              "    <tr>\n",
              "      <th>like</th>\n",
              "      <td>0.793375</td>\n",
              "      <td>0.853948</td>\n",
              "      <td>1.342633</td>\n",
              "      <td>0.573988</td>\n",
              "      <td>0.867105</td>\n",
              "    </tr>\n",
              "    <tr>\n",
              "      <th>know</th>\n",
              "      <td>1.104834</td>\n",
              "      <td>1.228291</td>\n",
              "      <td>0.978044</td>\n",
              "      <td>0.558380</td>\n",
              "      <td>0.968511</td>\n",
              "    </tr>\n",
              "    <tr>\n",
              "      <th>got</th>\n",
              "      <td>0.831842</td>\n",
              "      <td>0.954988</td>\n",
              "      <td>1.340829</td>\n",
              "      <td>0.346986</td>\n",
              "      <td>0.871150</td>\n",
              "    </tr>\n",
              "    <tr>\n",
              "      <th>love</th>\n",
              "      <td>1.060080</td>\n",
              "      <td>1.772738</td>\n",
              "      <td>0.513318</td>\n",
              "      <td>0.463523</td>\n",
              "      <td>1.696836</td>\n",
              "    </tr>\n",
              "    <tr>\n",
              "      <th>na</th>\n",
              "      <td>1.115282</td>\n",
              "      <td>1.449879</td>\n",
              "      <td>0.906732</td>\n",
              "      <td>0.357254</td>\n",
              "      <td>1.000657</td>\n",
              "    </tr>\n",
              "  </tbody>\n",
              "</table>\n",
              "</div>"
            ],
            "text/plain": [
              "          Rock       Pop   Hip-Hop     Metal   Country\n",
              "like  0.793375  0.853948  1.342633  0.573988  0.867105\n",
              "know  1.104834  1.228291  0.978044  0.558380  0.968511\n",
              "got   0.831842  0.954988  1.340829  0.346986  0.871150\n",
              "love  1.060080  1.772738  0.513318  0.463523  1.696836\n",
              "na    1.115282  1.449879  0.906732  0.357254  1.000657"
            ]
          },
          "metadata": {
            "tags": []
          },
          "execution_count": 37
        }
      ]
    },
    {
      "cell_type": "code",
      "metadata": {
        "colab": {
          "base_uri": "https://localhost:8080/"
        },
        "id": "GEAwctwXn1Ps",
        "outputId": "02614ef9-4676-40a6-8596-d6622fad0e28"
      },
      "source": [
        "# Pick the top 50 words for each genre (we assume that we use the relative frequency for this, and not regular frequency or absolute counts).\n",
        "# Join the words from all genres into a single list of top significant words.\n",
        "\n",
        "top_words = {} # dict for storing top words per ganre\n",
        "for genre in genres:\n",
        "  top50 = list(relative_freq_df[genre].sort_values(ascending=False).index[:50])\n",
        "  print(genre, ':\\n',*top50,'\\n')\n",
        "  top_words[genre] = top50\n",
        "\n",
        "# list with all top words\n",
        "all_top_words = [word for lst in top_words.values() for word in lst]"
      ],
      "execution_count": 38,
      "outputs": [
        {
          "output_type": "stream",
          "text": [
            "Rock :\n",
            " vocals pum jeg kimi ga wa bop ik tom american wasted crawling ordinary wasting desperate johnny crashing changing rum drums strangers wolf sinking bored blues doll greater sings troubles floating hiding tiny sets liar anymore het doo voc ooo dive bridges electric poison weep waited waking mistakes aching says changes \n",
            "\n",
            "Pop :\n",
            " nae amore coraz amor bu luna amour piel alma io nan che contigo tes sempre feliz cada pi ti tus quand rien moi mia tanto mio sentir cosa ce puede sans dolor vez puedo toi avec dentro siento mai wah qui eres dar eh cielo vie cuerpo quiero algo halo \n",
            "\n",
            "Hip-Hop :\n",
            " bizzy mayne eazy dre versace chamillionaire yuh pac eminem mek niggas gangsta compton wid nuttin aight rappers hella nigga niggaz trill hoes feds projects motherfuckin glock biggie rep slug kush bitches ballin thugs thug chopper dawg clique finna killa inna yall busta homies moms hustlin gat hustler rims pussy dogg \n",
            "\n",
            "Metal :\n",
            " corpse decay humanity chaos arise mortal existence eternal wrath mankind agony sword gods ancient hatred grief prey rot flesh screams void lands victims horror destruction suffering wounds temple powers rape souls forces belief mass spirits kingdom terror forced satan behold despair rage darkness insanity death creation shall eternity flames lust \n",
            "\n",
            "Country :\n",
            " honky tennessee lonesome cowboy sweetheart whiskey country guitar ole texas cotton georgia county wedding hurtin porch darlin mexico whistle heartache highway awhile claus beer roses worn gentle blues darling marry troubles weary rocky mountain folks ol ought married valley old singin rode preacher river coffee roads southern sang drinkin train \n",
            "\n"
          ],
          "name": "stdout"
        }
      ]
    },
    {
      "cell_type": "code",
      "metadata": {
        "colab": {
          "base_uri": "https://localhost:8080/",
          "height": 730
        },
        "id": "7EnYaqew7Uy9",
        "outputId": "2f3c14db-1a15-4fd3-ff47-dedc52c89690"
      },
      "source": [
        "# Compute tSNE transformation to 2D for all words, based on their word vectors\n",
        "\n",
        "# get a list of word vectors for all top words\n",
        "all_top_words_vectors = [word2vec_model.wv[word] for word in all_top_words] \n",
        "\n",
        "def tsnescatterplot(word_labels, vectors, genre_names):\n",
        "    # create a list of 250 colors, 50 similiar colors for each genre words\n",
        "    color_list = []\n",
        "    genre_colors = ['red','green','blue','purple','black']\n",
        "    for color in genre_colors:\n",
        "      color_list.append([color] * 50)\n",
        "    color_list = [color for lst in color_list for color in lst] # flatten the list \n",
        "        \n",
        "    # Reduce the dimensionality from 300 to 50 dimensions with PCA\n",
        "    reduc = PCA(n_components=50).fit_transform(vectors)\n",
        "    \n",
        "    # Find t-SNE coordinates for 2 dimensions\n",
        "    np.set_printoptions(suppress=True)\n",
        "    Y = TSNE(n_components=2, random_state=0, perplexity=15).fit_transform(reduc)\n",
        "    \n",
        "    # Sets everything up to plot\n",
        "    df = pd.DataFrame({'x': [x for x in Y[:, 0]],\n",
        "                       'y': [y for y in Y[:, 1]],\n",
        "                       'words': word_labels,\n",
        "                       'color': color_list})\n",
        "    \n",
        "    fig, _ = plt.subplots()\n",
        "    fig.set_size_inches(12, 12)\n",
        "    \n",
        "    # Basic plot\n",
        "    p1 = sns.regplot(data=df,\n",
        "                     x=\"x\",\n",
        "                     y=\"y\",\n",
        "                     fit_reg=False,\n",
        "                     marker=\"o\",\n",
        "                     color = 'k',\n",
        "                     scatter_kws={'s': 50, 'facecolors': df['color']}\n",
        "                     )\n",
        "    \n",
        "   # Adds annotations one by one with a loop\n",
        "    for line in range(0, df.shape[0]):\n",
        "         p1.text(df[\"x\"][line],\n",
        "                 df['y'][line],\n",
        "                 '  ' + df[\"words\"][line].title(),\n",
        "                 horizontalalignment='left',\n",
        "                 verticalalignment='bottom', size='medium',\n",
        "                 color=df['color'][line],\n",
        "                 weight='normal'\n",
        "                ).set_size(10)\n",
        "\n",
        "    plt.xlim(Y[:, 0].min()-5, Y[:, 0].max()+5)\n",
        "    plt.ylim(Y[:, 1].min()-5, Y[:, 1].max()+5)\n",
        "    \n",
        "    # plot legend \n",
        "    for i,name in enumerate(genre_names):\n",
        "        plt.text(-30, 1.5*i-30, name, color = genre_colors[i])         # parameters: x location, y location, text to write, color\n",
        "\n",
        "    plt.title('t-SNE visualization for top words')\n",
        "\n",
        "tsnescatterplot(all_top_words, all_top_words_vectors, genres)"
      ],
      "execution_count": 39,
      "outputs": [
        {
          "output_type": "display_data",
          "data": {
            "image/png": "[encoded data removed]",
            "text/plain": [
              "<Figure size 864x864 with 1 Axes>"
            ]
          },
          "metadata": {
            "tags": [],
            "needs_background": "light"
          }
        }
      ]
    },
    {
      "cell_type": "markdown",
      "metadata": {
        "id": "TTN6OgjG7sJA"
      },
      "source": [
        "**Analysis:**\n",
        "* From tSNE we can clearly see that most of the words of the same genre cluster together. That is reasonable, as embedding we have learned is based on words that appear together, and of couse frequent words in a specific genre will appear together more frequently than with words from another genre.\n",
        "* We can see that 2 most distinct genres are Hip-Hop and Pop, which is reasonable, as they have very distinct vocabularies. Both Country and Metal genres have some intersection with Rock, which is also reasonable (Rock and Metal have similiar historic roots).\n",
        "* In additon, it also suggests that the embedding we have learned is meaninful for genre identification, that we are going to do in the next section.\n"
      ]
    },
    {
      "cell_type": "markdown",
      "metadata": {
        "id": "9-WuQvJLjXlw"
      },
      "source": [
        "## Text Classification\n",
        "In this section, you'll build a text classifier, determining the genre of a song based on its lyrics."
      ]
    },
    {
      "cell_type": "markdown",
      "metadata": {
        "id": "dB5cyhjrjXlw"
      },
      "source": [
        "### Text classification using Bag-of-Words\n",
        "Build a Naive Bayes classifier based on the bag of Words.  \n",
        "You will need to divide your dataset into a train and test sets."
      ]
    },
    {
      "cell_type": "markdown",
      "metadata": {
        "id": "BAY3mhaWjXlw"
      },
      "source": [
        "Show the confusion matrix."
      ]
    },
    {
      "cell_type": "code",
      "metadata": {
        "colab": {
          "base_uri": "https://localhost:8080/"
        },
        "id": "bufu5AADjXlw",
        "outputId": "8527c60a-db0c-4132-8230-df6c1260e149"
      },
      "source": [
        "X_train, X_test, y_train, y_test = train_test_split(songs_df.sent, songs_df.genre, test_size=0.2, random_state=42) # 80% / 20% split\n",
        "\n",
        "nb_pipe = Pipeline([\n",
        "     ('vect', CountVectorizer(max_features=10000, min_df=10, stop_words='english')),\n",
        "     ('clf', MultinomialNB()),\n",
        " ])\n",
        "\n",
        "nb_pipe.fit(X_train, y_train) # train the pipeline\n",
        "print(f'Test accuracy is: {nb_pipe.score(X_test, y_test):.3f}')"
      ],
      "execution_count": 40,
      "outputs": [
        {
          "output_type": "stream",
          "text": [
            "Test accuracy is: 0.578\n"
          ],
          "name": "stdout"
        }
      ]
    },
    {
      "cell_type": "markdown",
      "metadata": {
        "id": "CP3WjWH2nuqH"
      },
      "source": [
        "Show the confusion matrix"
      ]
    },
    {
      "cell_type": "code",
      "metadata": {
        "colab": {
          "base_uri": "https://localhost:8080/",
          "height": 441
        },
        "id": "u3gO2W-kjXlw",
        "outputId": "1739ab8a-e1d3-4e8b-9f7c-2e50de9d6722"
      },
      "source": [
        "def draw_cm(y_test, y_pred, classes, title):\n",
        "    cm = confusion_matrix(y_test, y_pred, normalize='true')                                            # calc confusion matrix\n",
        "    cm_df = pd.DataFrame(cm,  index = classes, columns = classes)          # convert conf matrix array to df with class names on rows and columns\n",
        "    plt.figure(figsize=(7,6))\n",
        "    sns.heatmap(cm_df, annot=True, fmt = '.1%', annot_kws={\"fontsize\":10}, cmap='Blues')   # draw matrix as heatmap, using a small font and blue color map\n",
        "    plt.title(title + '\\nAccuracy:{0:.3f}'.format(accuracy_score(y_test, y_pred)))     # calc accuracy and show it in the title\n",
        "    plt.ylabel('True class')\n",
        "    plt.xlabel('Predicted class')\n",
        "    plt.gca().axes.tick_params(labelsize = 'medium')                                    # formating tick labels (class names)\n",
        "    plt.tight_layout()\n",
        "\n",
        "y_pred = nb_pipe.predict(X_test)\n",
        "draw_cm(y_test, y_pred, nb_pipe.classes_, 'Confusion Matrix - Naive Bayes BoW')"
      ],
      "execution_count": 41,
      "outputs": [
        {
          "output_type": "display_data",
          "data": {
            "image/png": "[encoded data removed]",
            "text/plain": [
              "<Figure size 504x432 with 2 Axes>"
            ]
          },
          "metadata": {
            "tags": [],
            "needs_background": "light"
          }
        }
      ]
    },
    {
      "cell_type": "markdown",
      "metadata": {
        "id": "z7lqJobdjXlw"
      },
      "source": [
        "Show the classification report - precision, recall, f1 for each class."
      ]
    },
    {
      "cell_type": "code",
      "metadata": {
        "colab": {
          "base_uri": "https://localhost:8080/"
        },
        "id": "XN_JiFA0jXlx",
        "outputId": "490d2233-9e59-4003-f805-565383864fd1"
      },
      "source": [
        "print(classification_report(y_test, y_pred, target_names=nb_pipe.classes_))"
      ],
      "execution_count": 42,
      "outputs": [
        {
          "output_type": "stream",
          "text": [
            "              precision    recall  f1-score   support\n",
            "\n",
            "     Country       0.47      0.83      0.60      1656\n",
            "     Hip-Hop       0.79      0.73      0.76      1917\n",
            "       Metal       0.67      0.76      0.72      1828\n",
            "         Pop       0.55      0.32      0.41      2214\n",
            "        Rock       0.46      0.37      0.41      2381\n",
            "\n",
            "    accuracy                           0.58      9996\n",
            "   macro avg       0.59      0.61      0.58      9996\n",
            "weighted avg       0.58      0.58      0.56      9996\n",
            "\n"
          ],
          "name": "stdout"
        }
      ]
    },
    {
      "cell_type": "code",
      "metadata": {
        "colab": {
          "base_uri": "https://localhost:8080/"
        },
        "id": "lGva5Hkoqy0o",
        "outputId": "df1bfa88-d809-4729-f5bc-79162d852d1f"
      },
      "source": [
        "# Let's try LogisticRegression with BoW, so that we'll have a reference for future assignements (that's can't use Naive Bayes because embeddings contain negative values)\n",
        "from sklearn.linear_model import LogisticRegression\n",
        "\n",
        "lr_bow_pipe = Pipeline([\n",
        "     ('vect', CountVectorizer(max_features=10000, min_df=10, stop_words='english')),\n",
        "     ('clf', LogisticRegression(random_state=1, max_iter=300)),\n",
        " ])\n",
        "\n",
        "lr_bow_pipe.fit(X_train, y_train) # train the pipeline\n",
        "print(f'Test accuracy is: {lr_bow_pipe.score(X_test, y_test):.3f}')"
      ],
      "execution_count": 46,
      "outputs": [
        {
          "output_type": "stream",
          "text": [
            "/usr/local/lib/python3.7/dist-packages/sklearn/linear_model/_logistic.py:940: ConvergenceWarning: lbfgs failed to converge (status=1):\n",
            "STOP: TOTAL NO. of ITERATIONS REACHED LIMIT.\n",
            "\n",
            "Increase the number of iterations (max_iter) or scale the data as shown in:\n",
            "    https://scikit-learn.org/stable/modules/preprocessing.html\n",
            "Please also refer to the documentation for alternative solver options:\n",
            "    https://scikit-learn.org/stable/modules/linear_model.html#logistic-regression\n",
            "  extra_warning_msg=_LOGISTIC_SOLVER_CONVERGENCE_MSG)\n"
          ],
          "name": "stderr"
        },
        {
          "output_type": "stream",
          "text": [
            "Test accuracy is: 0.573\n"
          ],
          "name": "stdout"
        }
      ]
    },
    {
      "cell_type": "code",
      "metadata": {
        "colab": {
          "base_uri": "https://localhost:8080/"
        },
        "id": "rvzCHALxFtMp",
        "outputId": "e5b3da5f-a723-49a2-8e41-f0ba53a712b9"
      },
      "source": [
        "# Let's try XGBoost with BoW\n",
        "\n",
        "xgb_bow_pipe = Pipeline([\n",
        "     ('vect', CountVectorizer(max_features=10000, min_df=10, stop_words='english')),\n",
        "     ('clf', XGBClassifier(max_depth=5, n_estimators=100, nthread=-1)),\n",
        " ])\n",
        "\n",
        "xgb_bow_pipe.fit(X_train, y_train) # train the pipeline\n",
        "print(f'Test accuracy is: {xgb_bow_pipe.score(X_test, y_test):.3f}')"
      ],
      "execution_count": null,
      "outputs": [
        {
          "output_type": "stream",
          "text": [
            "Test accuracy is: 0.611\n"
          ],
          "name": "stdout"
        }
      ]
    },
    {
      "cell_type": "markdown",
      "metadata": {
        "id": "2m3fy1NEHq5p"
      },
      "source": [
        "XGBoost result is only marginally better than Naive Bayes, but we still need XGBoost for comparison to the next section, that won't work with MultinomialNB, because it requires positive counts, while our data is word vectors, so we will be using XGBoost in the next section."
      ]
    },
    {
      "cell_type": "markdown",
      "metadata": {
        "id": "S5ykGs2zjXlx"
      },
      "source": [
        "### Text classification using Word Vectors\n",
        "#### Average word vectors\n",
        "Do the same, using a classifier that averages the word vectors of words in the document."
      ]
    },
    {
      "cell_type": "code",
      "metadata": {
        "colab": {
          "base_uri": "https://localhost:8080/"
        },
        "id": "iD-oKkUdjXlx",
        "outputId": "e24d05a3-b9c2-42b2-fe14-fae8779b21d2"
      },
      "source": [
        "# let's define a custom transformer, that wraps around vectorize_term function, that we have defined previously\n",
        "# It tokenizes a string, applies word2vec on each token, and returns the average of each term\n",
        "\n",
        "def mean_w2v_vectorizer(input_series):\n",
        "  lst = [vectorize_term(text) for text in input_series] # create a list of vectors\n",
        "  output_df = pd.DataFrame(data = np.vstack(lst), index = input_series.index)\n",
        "  return output_df\n",
        "\n",
        "transformer = FunctionTransformer(mean_w2v_vectorizer)  # wrap our function in FunctionTransformer class\n",
        "\n",
        "lr_mean_w2v_pipe = Pipeline([\n",
        "     ('vect', transformer),\n",
        "     ('clf', LogisticRegression(random_state=1, max_iter=300))\n",
        " ])\n",
        "\n",
        "lr_mean_w2v_pipe.fit(X_train, y_train) # train the pipeline\n",
        "print(f'Test accuracy is: {lr_mean_w2v_pipe.score(X_test, y_test):.3f}')"
      ],
      "execution_count": 47,
      "outputs": [
        {
          "output_type": "stream",
          "text": [
            "Test accuracy is: 0.596\n"
          ],
          "name": "stdout"
        }
      ]
    },
    {
      "cell_type": "code",
      "metadata": {
        "colab": {
          "base_uri": "https://localhost:8080/",
          "height": 441
        },
        "id": "jHYIH99lnuqK",
        "outputId": "a1a723b2-35d3-41ff-ff01-059c2788ec79"
      },
      "source": [
        "y_pred = lr_mean_w2v_pipe.predict(X_test)\n",
        "draw_cm(y_test, y_pred, lr_mean_w2v_pipe.classes_, 'Confusion Matrix - Logistic Regresion Word2Vec')"
      ],
      "execution_count": 50,
      "outputs": [
        {
          "output_type": "display_data",
          "data": {
            "image/png": "[encoded data removed]",
            "text/plain": [
              "<Figure size 504x432 with 2 Axes>"
            ]
          },
          "metadata": {
            "tags": [],
            "needs_background": "light"
          }
        }
      ]
    },
    {
      "cell_type": "markdown",
      "metadata": {
        "id": "_ZbPH_rwe9sn"
      },
      "source": [
        "Word2vec results are a bit better than BoW. "
      ]
    },
    {
      "cell_type": "markdown",
      "metadata": {
        "id": "rvjHofVrjXlx"
      },
      "source": [
        "#### TfIdf Weighting\n",
        "Do the same, using a classifier that averages the word vectors of words in the document, weighting each word by its TfIdf.\n"
      ]
    },
    {
      "cell_type": "code",
      "metadata": {
        "id": "uNYqE5TOkrJ9"
      },
      "source": [
        "# create tfidf vectorizer and train it\n",
        "tfidf = TfidfVectorizer(min_df=10, max_features = 10000, stop_words = 'english')                                                    \n",
        "X_train_tfidf = tfidf.fit_transform(X_train)   # Learn vocabulary and idf, return sparce term-document matrix\n",
        "\n",
        "# create word2vec vector matrix for 10K relevant terms\n",
        "token_vectors = []\n",
        "for term in tfidf.get_feature_names():\n",
        "    if term in word2vec_model.wv.vocab: # if the token is in vocabulary, append it\n",
        "        token_vectors.append(word2vec_model.wv[term])\n",
        "    else: # if the token is not in vocabulary, append a zero vector\n",
        "        token_vectors.append(np.zeros(300))\n",
        "word2vec_encoding_matrix = np.vstack(token_vectors)\n",
        "\n",
        "# matrix multiplication of tfidf matrix (samples, 10K terms) and term word2vec matrix (10K terms, 300) results in (samples, 300) matrix of word vectors weighted by tfidf\n",
        "X_train_tfidf_w2v = X_train_tfidf @ word2vec_encoding_matrix "
      ],
      "execution_count": 51,
      "outputs": []
    },
    {
      "cell_type": "code",
      "metadata": {
        "colab": {
          "base_uri": "https://localhost:8080/"
        },
        "id": "voiVwgzCnuqL",
        "outputId": "69d19015-c6be-4675-d3e0-cdcad8b94116"
      },
      "source": [
        "# create LinReg model and train it\n",
        "lr_w2v_tfidf = LogisticRegression(random_state=1, max_iter=1000)\n",
        "lr_w2v_tfidf.fit(X_train_tfidf_w2v, y_train)"
      ],
      "execution_count": 53,
      "outputs": [
        {
          "output_type": "execute_result",
          "data": {
            "text/plain": [
              "LogisticRegression(C=1.0, class_weight=None, dual=False, fit_intercept=True,\n",
              "                   intercept_scaling=1, l1_ratio=None, max_iter=1000,\n",
              "                   multi_class='auto', n_jobs=None, penalty='l2',\n",
              "                   random_state=1, solver='lbfgs', tol=0.0001, verbose=0,\n",
              "                   warm_start=False)"
            ]
          },
          "metadata": {
            "tags": []
          },
          "execution_count": 53
        }
      ]
    },
    {
      "cell_type": "code",
      "metadata": {
        "colab": {
          "base_uri": "https://localhost:8080/"
        },
        "id": "sAE5A8KJnuqL",
        "outputId": "1709daf5-de63-4665-f54c-44bd3e4c3099"
      },
      "source": [
        "# inference and evaluation\n",
        "X_test_tfidf = tfidf.transform(X_test) # apply trained tfidf transform on testset\n",
        "X_test_tfidf_w2v = X_test_tfidf @ word2vec_encoding_matrix  # calculate average word vector weighted by tfidf\n",
        "print(f'Test accuracy is: {lr_w2v_tfidf.score(X_test_tfidf_w2v, y_test):.3f}') # inference on test and compute accuracy"
      ],
      "execution_count": 54,
      "outputs": [
        {
          "output_type": "stream",
          "text": [
            "Test accuracy is: 0.605\n"
          ],
          "name": "stdout"
        }
      ]
    },
    {
      "cell_type": "markdown",
      "metadata": {
        "id": "Fx4RAKBznuqM"
      },
      "source": [
        "Weighted average using tfidf managed to improve the accuracy by another 1 percent."
      ]
    },
    {
      "cell_type": "markdown",
      "metadata": {
        "id": "jFf89cmbjXlx"
      },
      "source": [
        "### Text classification using ConvNet\n",
        "Do the same, using a ConvNet.  \n",
        "The ConvNet should get as input a 2D matrix where each column is an embedding vector of a single word, and words are in order. Use zero padding so that all matrices have a similar length.  \n",
        "Some songs might be very long. Trim them so you keep a maximum of 128 words (after cleaning stop words and rare words).  \n",
        "Initialize the embedding layer using the word vectors that you've trained before, but allow them to change during training.  \n",
        "\n",
        "Extra: Try training the ConvNet with 2 slight modifications:\n",
        "1. freezing the the weights trained using Word2vec (preventing it from updating)\n",
        "1. random initialization of the embedding layer"
      ]
    },
    {
      "cell_type": "markdown",
      "metadata": {
        "id": "mBVM10KyjXly"
      },
      "source": [
        "You are encouraged to try this question on your own.  \n",
        "\n",
        "You might prefer to get ideas from the paper \"Convolutional Neural Networks for Sentence Classification\" (Kim 2014, [link](https://arxiv.org/abs/1408.5882)).\n",
        "\n",
        "There are several implementations of the paper code in PyTorch online (see for example [this repo](https://github.com/prakashpandey9/Text-Classification-Pytorch) for a PyTorch implementation of CNN and other architectures for text classification). If you get stuck, they might provide you with a reference for your own code."
      ]
    },
    {
      "cell_type": "code",
      "metadata": {
        "id": "hiufbiXeLta_"
      },
      "source": [
        "idx2sent = dict(enumerate(songs_df.sent))\n",
        "sent2idx = {v:k for k,v in idx2sent.items()}\n",
        "vector_size = word2vec_model.vector_size"
      ],
      "execution_count": 55,
      "outputs": []
    },
    {
      "cell_type": "code",
      "metadata": {
        "id": "iEIq1VhMnuqN"
      },
      "source": [
        "import gensim\n",
        "from sklearn.preprocessing import LabelEncoder"
      ],
      "execution_count": 56,
      "outputs": []
    },
    {
      "cell_type": "code",
      "metadata": {
        "colab": {
          "base_uri": "https://localhost:8080/"
        },
        "id": "bwYFKPr7nuqN",
        "outputId": "249001fd-305d-40f3-90e6-e92df6bea87c"
      },
      "source": [
        "import nltk\n",
        "nltk.download('wordnet')"
      ],
      "execution_count": 57,
      "outputs": [
        {
          "output_type": "stream",
          "text": [
            "[nltk_data] Downloading package wordnet to /root/nltk_data...\n",
            "[nltk_data]   Unzipping corpora/wordnet.zip.\n"
          ],
          "name": "stdout"
        },
        {
          "output_type": "execute_result",
          "data": {
            "text/plain": [
              "True"
            ]
          },
          "metadata": {
            "tags": []
          },
          "execution_count": 57
        }
      ]
    },
    {
      "cell_type": "code",
      "metadata": {
        "id": "WpsPyc3GnuqO"
      },
      "source": [
        "class LyricsGenreDataset(Dataset):\n",
        "    def __init__(self, data: pd.DataFrame, feature_column: str, target_column: str, word2vec: gensim.models.Word2Vec, label_encoder):\n",
        "        self.tokenizer = nltk.WordPunctTokenizer()\n",
        "\n",
        "        self.data = data\n",
        "\n",
        "        self.feature_column = feature_column\n",
        "        self.target_column = target_column\n",
        "\n",
        "        self.word2vec = word2vec.wv\n",
        "\n",
        "        self.mean = np.mean(word2vec.wv.vectors, axis=0)\n",
        "        self.std = np.std(word2vec.wv.vectors, axis=0)\n",
        "\n",
        "        self.label_encoder = label_encoder\n",
        "\n",
        "    def __getitem__(self, item):\n",
        "        text = self.data[self.feature_column].values[item]\n",
        "        if not isinstance(text, str):\n",
        "            text = \"\"\n",
        "        tokens = self.get_tokens_(text)\n",
        "        embeddings = self.get_embeddings_(tokens)\n",
        "        return {\"features\": embeddings, \"targets\": self.label_encoder.transform([self.data[self.target_column].values[item]])}\n",
        "\n",
        "    def get_tokens_(self, text):\n",
        "        return [lemmatizer.lemmatize(w) for w in self.tokenizer.tokenize(text.strip()) if not any(c in string.punctuation for c in w) and len(w) > 3]\n",
        "\n",
        "    def get_embeddings_(self, tokens):\n",
        "        embeddings = [(self.word2vec.get_vector(token) - self.mean) / self.std for token in tokens if\n",
        "                      token in self.word2vec]\n",
        "\n",
        "        if len(embeddings) == 0:\n",
        "            embeddings = np.zeros((1, self.word2vec.vector_size))\n",
        "        else:\n",
        "            embeddings = np.array(embeddings)\n",
        "            embeddings = np.mean(embeddings, axis=0, keepdims=True)\n",
        "            if len(embeddings.shape) == 1:\n",
        "                embeddings = embeddings.reshape(-1, 1)\n",
        "\n",
        "        return embeddings\n",
        "\n",
        "    def __len__(self):\n",
        "        return self.data.shape[0]"
      ],
      "execution_count": 58,
      "outputs": []
    },
    {
      "cell_type": "code",
      "metadata": {
        "id": "7jwMLl1inuqO"
      },
      "source": [
        "class LyricsGenreDatasetTfIdf(LyricsGenreDataset):\n",
        "    def __init__(self, data: pd.DataFrame, feature_column: str, target_column: str, word2vec: gensim.models.Word2Vec, labels_encoder, weights = None):\n",
        "        super().__init__(data, feature_column, target_column, word2vec, labels_encoder)\n",
        "\n",
        "        if weights is None:\n",
        "            self.weights = self.get_tf_idf_()\n",
        "        else:\n",
        "            self.weights = weights\n",
        "\n",
        "    def get_embeddings_(self, tokens):\n",
        "        embeddings = [(self.word2vec.get_vector(token) - self.mean) / self.std  * self.weights.get(token, 1) for token in tokens if token in self.word2vec and len(token) > 3]\n",
        "\n",
        "        if len(embeddings) == 0:\n",
        "            embeddings = np.zeros((1, self.word2vec.vector_size))\n",
        "        else:\n",
        "            embeddings = np.array(embeddings)\n",
        "            embeddings = np.mean(embeddings, axis=0, keepdims=True)\n",
        "            if len(embeddings.shape) == 1:\n",
        "                embeddings = embeddings.reshape(-1, 1)\n",
        "\n",
        "        return embeddings\n",
        "\n",
        "    def get_tf_idf_(self):\n",
        "        tokenized_texts = self.data[self.feature_column].tolist()\n",
        "        tf_idf = TfidfVectorizer(min_df=10, max_features = 10000, stop_words = 'english').fit(tokenized_texts)\n",
        "        return dict(zip(tf_idf.get_feature_names(), tf_idf.idf_))"
      ],
      "execution_count": 59,
      "outputs": []
    },
    {
      "cell_type": "code",
      "metadata": {
        "id": "9XiV3he7nuqP"
      },
      "source": [
        "X_train, X_test, y_train, y_test = train_test_split(songs_df, songs_df.genre, test_size=0.2, random_state=42) # 80% / 20% split"
      ],
      "execution_count": 60,
      "outputs": []
    },
    {
      "cell_type": "code",
      "metadata": {
        "id": "OvoYeNMq59ss"
      },
      "source": [
        "class GenreClassifierCNN(nn.Module):\n",
        "    def __init__(\n",
        "        self,\n",
        "        emb_dim,\n",
        "        out_channels,\n",
        "        kernel_sizes,\n",
        "        embedding_weights,\n",
        "        dropout = 0.5,\n",
        "        dim = 300,\n",
        "        num_classes=5,\n",
        "        freeze=True\n",
        "    ):\n",
        "        super().__init__()\n",
        "\n",
        "        self.embedding = nn.Embedding.from_pretrained(embedding_weights, freeze=freeze)\n",
        "        self.conv_0 = nn.Conv2d(in_channels = 1, out_channels = out_channels, kernel_size = (kernel_sizes[0], dim))\n",
        "        self.conv_1 = nn.Conv2d(in_channels = 1, out_channels = out_channels, kernel_size = (kernel_sizes[1], dim))\n",
        "        self.conv_2 = nn.Conv2d(in_channels = 1, out_channels = out_channels, kernel_size = (kernel_sizes[2], dim))\n",
        "        self.fc = nn.Linear(len(kernel_sizes) * out_channels, num_classes)\n",
        "        \n",
        "        self.dropout = nn.Dropout(dropout)\n",
        "        self.init_weights()\n",
        "        \n",
        "    def forward(self, text):\n",
        "        \n",
        "        embedded = self.embedding(text)\n",
        "        embedded = embedded.unsqueeze(1)\n",
        "        \n",
        "        conved_0 = F.relu(self.conv_0(embedded).squeeze(3))\n",
        "        conved_1 = F.relu(self.conv_1(embedded).squeeze(3))\n",
        "        conved_2 = F.relu(self.conv_2(embedded).squeeze(3))\n",
        "        \n",
        "        pooled_0 = F.max_pool1d(conved_0, conved_0.shape[2]).squeeze(2)\n",
        "        pooled_1 = F.max_pool1d(conved_1, conved_1.shape[2]).squeeze(2)\n",
        "        pooled_2 = F.max_pool1d(conved_2, conved_2.shape[2]).squeeze(2)\n",
        "        \n",
        "        cat = self.dropout(torch.cat((pooled_0, pooled_1, pooled_2), dim=1))\n",
        "            \n",
        "        return self.fc(cat)\n",
        "    \n",
        "    def init_weights(self):\n",
        "        for m in self.modules():\n",
        "            if isinstance(m, nn.Conv2d):\n",
        "                nn.init.xavier_uniform_(m.weight.data)\n",
        "                if m.bias is not None:\n",
        "                    m.bias.data.zero_()\n",
        "            elif isinstance(m, nn.BatchNorm2d):\n",
        "                m.weight.data.fill_(1)\n",
        "                m.bias.data.zero_()\n",
        "            elif isinstance(m, nn.Linear):\n",
        "                m.weight.data.normal_(0, 0.01)\n",
        "                m.bias.data.zero_()"
      ],
      "execution_count": 61,
      "outputs": []
    },
    {
      "cell_type": "code",
      "metadata": {
        "id": "Ttgp_ICXOxmA"
      },
      "source": [
        "# create an embedding weights tensor with one additional value for Out of Vocabulary terms\n",
        "vocab = list(word2vec_model.wv.vocab.keys())\n",
        "word2idx = {w:idx  for idx, w in enumerate(vocab)}\n",
        "OOV_TOKEN = \"[OOV]\"\n",
        "OOV_IDX = len(vocab)\n",
        "word2idx[OOV_TOKEN] = OOV_IDX\n",
        "embedding_weights = torch.zeros(len(word2vec_model.wv.vectors)+1, vector_size)\n",
        "embedding_weights[:-1] = torch.FloatTensor(word2vec_model.wv.vectors)\n",
        "embedding_weights[-1] = torch.zeros(vector_size,)"
      ],
      "execution_count": 62,
      "outputs": []
    },
    {
      "cell_type": "code",
      "metadata": {
        "id": "8X1w0lA_PWh3",
        "colab": {
          "base_uri": "https://localhost:8080/"
        },
        "outputId": "c9f98cef-291c-4382-d0d9-bed7361f6437"
      },
      "source": [
        "MAX_LEN = 128  \n",
        "dict(enumerate(songs_df.genre.unique()))"
      ],
      "execution_count": 82,
      "outputs": [
        {
          "output_type": "execute_result",
          "data": {
            "text/plain": [
              "{0: 'Pop', 1: 'Hip-Hop', 2: 'Rock', 3: 'Country', 4: 'Metal'}"
            ]
          },
          "metadata": {
            "tags": []
          },
          "execution_count": 82
        }
      ]
    },
    {
      "cell_type": "code",
      "metadata": {
        "id": "l4N1eiicVDaQ"
      },
      "source": [
        "idx2cls = {0: 'Pop', 1: 'Hip-Hop', 2: 'Rock', 3: 'Country', 4: 'Metal'}\n",
        "cls2idx = {idx:cls for cls, idx in idx2cls.items()}"
      ],
      "execution_count": 64,
      "outputs": []
    },
    {
      "cell_type": "code",
      "metadata": {
        "id": "1HnDEb94TxdO"
      },
      "source": [
        "class SimpleIndicesDataset(Dataset):\n",
        "    def __init__(self, data: pd.DataFrame, feature_column: str, target_column: str, cls2idx, max_len=128):\n",
        "        self.tokenizer = nltk.WordPunctTokenizer()\n",
        "        self.data = data\n",
        "        self.feature_column = feature_column\n",
        "        self.target_column = target_column\n",
        "        self.max_len = max_len\n",
        "        self.cls2idx = cls2idx\n",
        "\n",
        "    def __getitem__(self, item):\n",
        "        text = self.data[self.feature_column].values[item]\n",
        "        if not isinstance(text, str):\n",
        "            text = \"\"\n",
        "        return {\"features\": self.get_tokens_(text), \"targets\": torch.tensor([cls2idx[self.data[self.target_column].values[item]]], dtype=torch.float)}\n",
        "\n",
        "    def get_tokens_(self, text):\n",
        "        a = []\n",
        "        for w in self.tokenizer.tokenize(text.strip())[:MAX_LEN]:\n",
        "          if w in word2idx:\n",
        "            a.append(word2idx[w])\n",
        "          else:\n",
        "            a.append(word2idx[OOV_TOKEN])\n",
        "          ret = torch.zeros((MAX_LEN)).long()\n",
        "          ret[:len(a)] = torch.tensor(a)\n",
        "        return ret\n",
        "        \n",
        "    def __len__(self):\n",
        "        return self.data.shape[0]"
      ],
      "execution_count": 65,
      "outputs": []
    },
    {
      "cell_type": "code",
      "metadata": {
        "id": "-9UuatSGF9ZI"
      },
      "source": [
        "from torch.utils.data import TensorDataset, DataLoader\n",
        "from torch.nn import functional as F\n",
        "\n",
        "train_dataset = SimpleIndicesDataset(X_train, \"sent\", \"genre\", cls2idx)\n",
        "train_dataloader = DataLoader(train_dataset, batch_size=32, shuffle=True)\n",
        "\n",
        "test_dataset = SimpleIndicesDataset(X_test, \"sent\", \"genre\", cls2idx)\n",
        "test_dataloader = DataLoader(test_dataset, batch_size=32, shuffle=False)"
      ],
      "execution_count": 79,
      "outputs": []
    },
    {
      "cell_type": "code",
      "metadata": {
        "id": "aAAj5-mndtys"
      },
      "source": [
        "%%capture\n",
        "!pip install pytorch_lightning"
      ],
      "execution_count": 67,
      "outputs": []
    },
    {
      "cell_type": "markdown",
      "metadata": {
        "id": "QC3-DcSG_z1W"
      },
      "source": [
        "#### Frozen embedding weights"
      ]
    },
    {
      "cell_type": "code",
      "metadata": {
        "colab": {
          "base_uri": "https://localhost:8080/",
          "height": 119,
          "referenced_widgets": [
            "c395fa1560344eda8a7463f645f9b84f",
            "1e4ed569175d4fcca293b56d0e1013a8",
            "bb32f2a11ab84b84ac5038301ee7217e",
            "7f82f1dae4f4462999c447be86563bce",
            "b48e9e7ea3344795bd88d41137264d52",
            "a83a37bd78a941c8984ad612babee55f",
            "820076eb4bd5487782a74b65736b3289",
            "52ab876f26ea48d4809ebfa8b53db936",
            "a04c60529cd14713ab64abb21913ff41",
            "c6d7038b6bab46e5a5437420d9337b8a",
            "42d65ca201114fed9642017d12f237da",
            "7c14fe7372454c64b5be1dc7b9a11800",
            "b506ca10310f447ca1b88b6e6acb5196",
            "bab2fa622a034743a3b177273ec7b7c3",
            "23a0bc6229534c98b043a123463ecfc3",
            "9d55a34647d543808b97a0880a1a224b",
            "32d11ffc53f642b1987215223fc3e18c",
            "cba9076432724839ba28a411d9603034",
            "8371cbf91f1d44698642b7d51ed1af54",
            "8b2003ad9f9e4b90962509adcf16c235",
            "c101fc0e6b2345e3a339c3601d05ee7d",
            "011d70dafffa4fad98eb1422c8a8dd24",
            "74f2b22536864fd19419e0d1d0d536f4",
            "a3d8d0f4275f497b868027f91e349691",
            "c2a40cb5274c4c7da2548da3b8894c4a",
            "eb9efc99eae24b238c09a4935243c154",
            "87ba5afa589a4e74a74af2dab853605b",
            "2ebc15d0722140898baa808eb7a294fc",
            "dae5da17a38744858e907de9c11cf807",
            "c7ea8443d73548269b5a995a7d94d007",
            "c88274b2c21840ca950ccaeaa48d9947",
            "f5cc0769b5b74f9780f44e8e4abd5c9b",
            "f90a86292dd44f61b5ce18af84d73b86",
            "7ee8273cd7fd40a8918fb9ec0b2492bd",
            "36d90c2d5f4949d0aef745610eadbc8b",
            "2f5e4df9058f4dff958c51c896114c61",
            "b203a86506ad472c945d738125e603f7",
            "c8d66b8f9519471bb5e950a8ea0d2af7",
            "6387116c7ed84d69a5ad01ea904ec67d",
            "9e8c390ca47049f9951ccc055faa5b65",
            "bccc5ef4b0d241c699b595e70db309bb",
            "469e4506857a4f87839f0bf82d261f2f",
            "aba7bbe236754c2bb43d3cba53f41972",
            "936390532386447182096c84e260d520",
            "c5efc67353914fc6823359809337b56e",
            "b4d05f07328c486c842a0b616541fb18",
            "cb6cb88ac52e4572a118e37668ec33bd",
            "e4fa45d32a224177a8313831c896e2b3",
            "c5eaeb6ab1f14568a79b88ae31d2164a",
            "4f3646676e4841d1916b0137faa40592",
            "cdb390a6206d40e4b14fd77b7121b357",
            "31e5b5081b5247818dc9812cc0c849a8",
            "34473c57fb164493a13e5d1ceefd20b4",
            "864b0dfc06934a448f2433e6866ad34b",
            "bcd1216faac440dd9820e5ad64b0b711",
            "bfd5cc6897c74c6897652db3a8557ba4",
            "3a4dd0c7279741109bbde6465472785d",
            "194410d790a04f16b281fff80251d912",
            "faa47d0fbf044af6aa8816fb6baeff30",
            "c342527d884b43dd9076d28f0ccf5589",
            "a9bf7e032b7e4f04b86a842827e1b864",
            "6a88c9dfa893401bb96c5336f374898c",
            "6fa1376cd0c5408ab3542cf369a2dd13",
            "3a194976b9524e84a7d38f87ac6f1660",
            "3318eb93075a4899947e592011aa1a79",
            "b0990c1de3d944a4a82048bc69d86cd8",
            "d0af3622e32449458456d786ddde4eb2",
            "1106c849f3b146e5adc389a689eab8fe",
            "5698832b336e4ce799f73d61f73bd906",
            "027f2c0ec94c4349acf05c49c1b6f387",
            "16e662540fea4f56bf615c29b1f8c945",
            "4dd751deef94494a98a48f4dc7540298",
            "03df7560b23a40e4a6b54180073ed6e4",
            "0945c58e47d24e0a83f9f91c456ed676",
            "fa6665c6a7214f9089b76481cc0e293e",
            "fb4dc7b362b74812a78fc13c2a827682",
            "d9b0a6e27e38489c8d9caafc07e56d87",
            "457b2e4271324a3282be222dbaac5921",
            "6d1cdf74ed6747a8a8d6b188694c982b",
            "0b4c0230b6eb43218e0968071bb3f31e"
          ]
        },
        "id": "NmXhBzvs59st",
        "outputId": "04347b10-3d17-4117-f758-ec6acf759879"
      },
      "source": [
        "from tqdm.autonotebook import tqdm\n",
        "from pytorch_lightning import metrics\n",
        "\n",
        "min_loss = np.inf\n",
        "metric_history = {\"train\":[], \"val\":[]} \n",
        "cur_patience = 0\n",
        "cnn_model = GenreClassifierCNN(emb_dim=vector_size, out_channels=64, kernel_sizes=[3, 4, 5], embedding_weights=embedding_weights, dropout=0.5).to(device)\n",
        "optimizer = torch.optim.Adam(cnn_model.parameters())\n",
        "max_epochs = 5\n",
        "loss_func = nn.CrossEntropyLoss()\n",
        "patience = 5\n",
        "max_acc = 0.0\n",
        "train_acc = 0.0\n",
        "val_acc = 0.0\n",
        "\n",
        "for epoch in range(1, max_epochs + 1):\n",
        "    train_loss = 0.0\n",
        "    train_accuracy = metrics.Accuracy().to(device)\n",
        "    cnn_model.train()\n",
        "    pbar = tqdm(enumerate(train_dataloader), total=len(train_dataloader), leave=False)\n",
        "    pbar.set_description(f\"Epoch {epoch}\")\n",
        "    for it, batch in pbar: \n",
        "        optimizer.zero_grad()\n",
        "        features = batch[\"features\"].to(device)\n",
        "        logits = F.softmax(cnn_model(features), dim=1)\n",
        "        targets = batch[\"targets\"].squeeze().long().to(device)\n",
        "        batch_acc = train_accuracy(logits, targets)\n",
        "        loss = loss_func(logits, targets)\n",
        "        loss.backward()\n",
        "        optimizer.step()\n",
        "        train_loss += loss.item()\n",
        "        train_acc += batch_acc.item()\n",
        "\n",
        "    train_loss /= len(train_dataloader)\n",
        "    train_acc = train_accuracy.compute()\n",
        "    metric_history[\"train\"].append({\"epoch\": epoch,\"loss\":train_loss, \"acc\":train_acc.item()})\n",
        "    \n",
        "    val_loss = 0.0\n",
        "    val_accuracy = metrics.Accuracy().to(device)\n",
        "    cnn_model.eval()\n",
        "    pbar = tqdm(enumerate(test_dataloader), total=len(test_dataloader), leave=False)\n",
        "    pbar.set_description(f\"Epoch {epoch}\")\n",
        "    for it, batch in pbar:\n",
        "        features = batch[\"features\"].to(device)\n",
        "        predictions = cnn_model(features)\n",
        "        targets = batch[\"targets\"].squeeze().long().to(device)\n",
        "        logits = F.softmax(predictions, dim=1)\n",
        "        batch_acc = val_accuracy(logits, targets)\n",
        "        loss = loss_func(logits, targets)\n",
        "        val_loss += loss.item()\n",
        "        val_acc += batch_acc.item()\n",
        "    \n",
        "    val_loss /= len(test_dataloader)\n",
        "    val_acc = val_accuracy.compute()\n",
        "    metric_history[\"val\"].append({\"epoch\": epoch,\"loss\":val_loss, \"acc\":val_acc.item()})\n",
        "    if val_acc > max_acc:\n",
        "        max_acc = val_acc\n",
        "        best_model = cnn_model.state_dict()\n",
        "    else:\n",
        "        cur_patience += 1\n",
        "        if cur_patience == patience:\n",
        "            cur_patience = 0\n",
        "            break\n",
        "    \n",
        "    print('Epoch: {}, train loss: {:.3f}, val loss: {:.3f}, train acc: {:.4f}, val acc: {:.4f}'.format(epoch, train_loss, val_loss, train_acc, val_acc))\n",
        "cnn_model.load_state_dict(best_model)"
      ],
      "execution_count": 80,
      "outputs": [
        {
          "output_type": "display_data",
          "data": {
            "application/vnd.jupyter.widget-view+json": {
              "model_id": "c395fa1560344eda8a7463f645f9b84f",
              "version_minor": 0,
              "version_major": 2
            },
            "text/plain": [
              "HBox(children=(FloatProgress(value=0.0, max=1250.0), HTML(value='')))"
            ]
          },
          "metadata": {
            "tags": []
          }
        },
        {
          "output_type": "display_data",
          "data": {
            "application/vnd.jupyter.widget-view+json": {
              "model_id": "a04c60529cd14713ab64abb21913ff41",
              "version_minor": 0,
              "version_major": 2
            },
            "text/plain": [
              "HBox(children=(FloatProgress(value=0.0, max=313.0), HTML(value='')))"
            ]
          },
          "metadata": {
            "tags": []
          }
        },
        {
          "output_type": "stream",
          "text": [
            "Epoch: 1, train loss: 1.475, val loss: 1.423, train acc: 0.4107, val acc: 0.4701\n"
          ],
          "name": "stdout"
        },
        {
          "output_type": "display_data",
          "data": {
            "application/vnd.jupyter.widget-view+json": {
              "model_id": "32d11ffc53f642b1987215223fc3e18c",
              "version_minor": 0,
              "version_major": 2
            },
            "text/plain": [
              "HBox(children=(FloatProgress(value=0.0, max=1250.0), HTML(value='')))"
            ]
          },
          "metadata": {
            "tags": []
          }
        },
        {
          "output_type": "display_data",
          "data": {
            "application/vnd.jupyter.widget-view+json": {
              "model_id": "c2a40cb5274c4c7da2548da3b8894c4a",
              "version_minor": 0,
              "version_major": 2
            },
            "text/plain": [
              "HBox(children=(FloatProgress(value=0.0, max=313.0), HTML(value='')))"
            ]
          },
          "metadata": {
            "tags": []
          }
        },
        {
          "output_type": "stream",
          "text": [
            "Epoch: 2, train loss: 1.413, val loss: 1.393, train acc: 0.4807, val acc: 0.5062\n"
          ],
          "name": "stdout"
        },
        {
          "output_type": "display_data",
          "data": {
            "application/vnd.jupyter.widget-view+json": {
              "model_id": "f90a86292dd44f61b5ce18af84d73b86",
              "version_minor": 0,
              "version_major": 2
            },
            "text/plain": [
              "HBox(children=(FloatProgress(value=0.0, max=1250.0), HTML(value='')))"
            ]
          },
          "metadata": {
            "tags": []
          }
        },
        {
          "output_type": "display_data",
          "data": {
            "application/vnd.jupyter.widget-view+json": {
              "model_id": "bccc5ef4b0d241c699b595e70db309bb",
              "version_minor": 0,
              "version_major": 2
            },
            "text/plain": [
              "HBox(children=(FloatProgress(value=0.0, max=313.0), HTML(value='')))"
            ]
          },
          "metadata": {
            "tags": []
          }
        },
        {
          "output_type": "stream",
          "text": [
            "Epoch: 3, train loss: 1.388, val loss: 1.372, train acc: 0.5072, val acc: 0.5243\n"
          ],
          "name": "stdout"
        },
        {
          "output_type": "display_data",
          "data": {
            "application/vnd.jupyter.widget-view+json": {
              "model_id": "c5eaeb6ab1f14568a79b88ae31d2164a",
              "version_minor": 0,
              "version_major": 2
            },
            "text/plain": [
              "HBox(children=(FloatProgress(value=0.0, max=1250.0), HTML(value='')))"
            ]
          },
          "metadata": {
            "tags": []
          }
        },
        {
          "output_type": "display_data",
          "data": {
            "application/vnd.jupyter.widget-view+json": {
              "model_id": "3a4dd0c7279741109bbde6465472785d",
              "version_minor": 0,
              "version_major": 2
            },
            "text/plain": [
              "HBox(children=(FloatProgress(value=0.0, max=313.0), HTML(value='')))"
            ]
          },
          "metadata": {
            "tags": []
          }
        },
        {
          "output_type": "stream",
          "text": [
            "Epoch: 4, train loss: 1.366, val loss: 1.355, train acc: 0.5321, val acc: 0.5496\n"
          ],
          "name": "stdout"
        },
        {
          "output_type": "display_data",
          "data": {
            "application/vnd.jupyter.widget-view+json": {
              "model_id": "3318eb93075a4899947e592011aa1a79",
              "version_minor": 0,
              "version_major": 2
            },
            "text/plain": [
              "HBox(children=(FloatProgress(value=0.0, max=1250.0), HTML(value='')))"
            ]
          },
          "metadata": {
            "tags": []
          }
        },
        {
          "output_type": "display_data",
          "data": {
            "application/vnd.jupyter.widget-view+json": {
              "model_id": "03df7560b23a40e4a6b54180073ed6e4",
              "version_minor": 0,
              "version_major": 2
            },
            "text/plain": [
              "HBox(children=(FloatProgress(value=0.0, max=313.0), HTML(value='')))"
            ]
          },
          "metadata": {
            "tags": []
          }
        },
        {
          "output_type": "stream",
          "text": [
            "Epoch: 5, train loss: 1.349, val loss: 1.348, train acc: 0.5500, val acc: 0.5517\n"
          ],
          "name": "stdout"
        },
        {
          "output_type": "execute_result",
          "data": {
            "text/plain": [
              "<All keys matched successfully>"
            ]
          },
          "metadata": {
            "tags": []
          },
          "execution_count": 80
        }
      ]
    },
    {
      "cell_type": "code",
      "metadata": {
        "id": "Og1pUTyq59ss",
        "colab": {
          "base_uri": "https://localhost:8080/",
          "height": 400
        },
        "outputId": "d9935543-6c25-47ab-9a13-7bf85999441e"
      },
      "source": [
        "def plot_learning_curves(metric_history, title=\"\"):\n",
        "    with plt.style.context('seaborn-whitegrid'):\n",
        "      fig,ax = plt.subplots(1,2, figsize=(16, 6))\n",
        "      train_history = pd.DataFrame(metric_history[\"train\"]).reset_index()\n",
        "      val_history = pd.DataFrame(metric_history[\"val\"]).reset_index()\n",
        "      train_history.plot(x=\"epoch\", y=\"acc\", ax=ax[0], color=\"r\", label=\"acc_train\") \n",
        "      val_history.plot(x=\"epoch\", y=\"acc\", ax=ax[0], color=\"b\", label=\"acc_val\")\n",
        "      train_history.plot(x=\"epoch\", y=\"loss\", color=\"r\", ax=ax[1], label=\"loss_train\")\n",
        "      val_history.plot(x=\"epoch\", y=\"loss\", color=\"b\", ax=ax[1], label=\"loss_val\")\n",
        "      ax[0].set_title(f'Train Acc: {train_history.iloc[-1][\"acc\"]:.4f} Val Acc: {val_history.iloc[-1][\"acc\"]:.4f}')\n",
        "      ax[1].set_title(f'Train Loss: {train_history.iloc[-1][\"loss\"]:.4f} Val Loss: {val_history.iloc[-1][\"loss\"]:.4f}')\n",
        "      if not title:\n",
        "        fig.suptitle(title)\n",
        "      plt.show();\n",
        "\n",
        "plot_learning_curves(metric_history)"
      ],
      "execution_count": 81,
      "outputs": [
        {
          "output_type": "display_data",
          "data": {
            "image/png": "[encoded data removed]",
            "text/plain": [
              "<Figure size 1152x432 with 2 Axes>"
            ]
          },
          "metadata": {
            "tags": []
          }
        }
      ]
    },
    {
      "cell_type": "markdown",
      "metadata": {
        "id": "YgVO8VDly32l"
      },
      "source": [
        "We can see that CNN trained on word vectors with frozen embedding layer. It reached accuracy of 55% on epoch 5. It would probably continue improving, if we would have more time to train and and wouldn't have to meet the due-date of exercise submission :-)"
      ]
    },
    {
      "cell_type": "markdown",
      "metadata": {
        "id": "XKQ4f-DCAGrB"
      },
      "source": [
        "#### Unfreeze embedding weights\n"
      ]
    },
    {
      "cell_type": "code",
      "metadata": {
        "colab": {
          "base_uri": "https://localhost:8080/",
          "height": 439,
          "referenced_widgets": [
            "3651428351de4136bb9524f62fbe1356",
            "21119148e3a04ff6baf008a8bf878549",
            "77261b333fc0491496045a454a77f64f",
            "be25a1dad9d14d5490f6a118c1d79a2e",
            "91112d3fb4e64ea3924a4163da25ace0",
            "c974961914b140c8842d763e9811f95a",
            "b23a300df2fe4c2ca3c18a9c10f071b7",
            "aaf94d89d0ba43e38b3e22eb1d779bfc",
            "e869be3f760e43f3ae322c513181ac47",
            "ff28c4478f8c4e9bba037554f1827d4e",
            "e1314b600f8f466791ff6d07119205b5",
            "7d12d29eee1543018815904246849658",
            "875caba3dd9f469eb9596c4b27bd4353",
            "3069669e23184ab6a0b346dd82a8ccf7",
            "1f035a8d9f9341388f5d3ebd2d97be54",
            "264c3f756c0c42b6926bd8272cb3bf86",
            "3d531505f0c74b0b8886e82819ca1609",
            "45fccdc5273742dda3f4ea327bcab0ce",
            "7ea061262b67409b8b9c89276aa8ef06",
            "c05c6f76a3a747f4b62e2a8f404b2082",
            "be09d80588514aca80cb630cefbf72d8",
            "6c83b99e769a4ac9a0fd46507ffd18b5",
            "e69a8a67183947c9a1a24798430d9c0e",
            "27b49442ea2d4a50a13f6807ac000a5b",
            "99e6c55590aa4515b2485d5e9a421b72",
            "8f2c73484fdb4596a2fe9de459a47554",
            "f547d9af73e14f70bec01dcfb212964d",
            "9603c9de30454b0bb182d5e886860d0a",
            "01d340d3f61f4a6ebebce5f61ce10861",
            "12076b0468d9489d982ae845ccea63ce",
            "4b7631c39bc141dbbf614c40f3ccff83",
            "d27031d4a9914b25a4df65f6a80d23d8",
            "38ed7e5f090e4f8db5f472e345243ede",
            "4ac2a5e408d64b2cbf1f11e6301c665c",
            "35d0ff127be44aa897478aede862b0cd",
            "65c9fff1ca9a430cbdc0f5f4404d0c39",
            "de7a113ff236458da27c94b4c959d543",
            "4a47035ed8384f2391af96296eaaef7c",
            "ae5a6be1170c4fb48e7d9aedc60d710e",
            "0e641d458efa454993f9d0a685a9d901",
            "9732287556784e9fb68e2df9367e57cb",
            "f1ce548d38d840ce906ef968fcf8d641",
            "c1cc925ea8734ce4ae8fb82a2cf7dd4b",
            "2e624955bf944ea390d388df8ae503b8",
            "5eed5797f67046d99c3a84965ab6001b",
            "17360a9512dc47b3ae7b229008e584df",
            "dfbd24b36fe442ffada4eae8f5d24041",
            "3cef0b2c6cb74266ac6514aa9bd9c4fd",
            "3e03b2c3967645db8798143d750412d2",
            "31ee5a5f89d74b18b4310de273c35aa4",
            "1b7d3310e204444285f21e4ecf6e2683",
            "98665654b34c4a9e9046bc699a374804",
            "44518b145754478eadbdbe56936453e6",
            "869ebddc056046f190eca63d8b6519ac",
            "e38acf2943a749ccab7c7747afe0b55c",
            "0e7c081319d94f57a6f7db744d380d19",
            "cb2e8bcb2f494e5f9fef8d797e641f27",
            "ed29850f2bbc4e30b0fc95844b1ad51f",
            "c3e70ac1fbc84c8fa6a29940850161d5",
            "9bbe96c09f8449019852809e7b219d31",
            "3767179075b04be1904d1f90ebe47f4c",
            "a54f95cb232548d4ab7fe357f03e9fcd",
            "800e368a71fa4f0cb065dc3eb33015b8",
            "0a63875edbf74345a0d0993a533af748",
            "d17c0f8aeeb3473e8a5d1195ca58fde7",
            "e15df8c982e24682b3e574a34d4f818d",
            "cd3d75a5eb954bd9816d3146aba654d9",
            "12f81d09def34583b4abf4f55ecfea9d",
            "36a98cda791a4ef3894cd125acdd23e1",
            "0a8110334a2d46c9a360ed6ff1770e42",
            "782a16591d92401185e99f353458ef3e",
            "6e78f21e510c45449d0b2384f43e4ddd",
            "c2c5d773feb14fd0b8f581e621e4390d",
            "47d54e2ce51e4d71bbb0a620e64fca5f",
            "5d2441b18d3b4299af3064d890e86a8a",
            "bff429a001b34401ace1ada6aa82e697",
            "b9bc628b36c349ffa8de9f7db6588074",
            "a08181f557334e4fb1883d3698a551c2",
            "2ca98834d7fd471fa0054d207b54bf4b",
            "b14e53d422ad44588002973f1b77327f"
          ]
        },
        "id": "YqdqLtKNCdaE",
        "outputId": "94a587c0-0b3d-4b94-97c3-e64c4c207f13"
      },
      "source": [
        "min_loss = np.inf\n",
        "metric_history = {\"train\":[], \"val\":[]} \n",
        "cur_patience = 0\n",
        "cnn_model = GenreClassifierCNN(emb_dim=vector_size, out_channels=64, kernel_sizes=[3, 4, 5], embedding_weights=embedding_weights, dropout=0.5, freeze=False).to(device)\n",
        "optimizer = torch.optim.Adam(cnn_model.parameters())\n",
        "max_epochs = 5\n",
        "loss_func = nn.CrossEntropyLoss()\n",
        "patience = 5\n",
        "max_acc = 0.0\n",
        "train_acc = 0.0\n",
        "val_acc = 0.0\n",
        "\n",
        "for epoch in range(1, max_epochs + 1):\n",
        "    train_loss = 0.0\n",
        "    train_accuracy = metrics.Accuracy().to(device)\n",
        "    cnn_model.train()\n",
        "    pbar = tqdm(enumerate(train_dataloader), total=len(train_dataloader), leave=False)\n",
        "    pbar.set_description(f\"Epoch {epoch}\")\n",
        "    for it, batch in pbar: \n",
        "        optimizer.zero_grad()\n",
        "        features = batch[\"features\"].to(device)\n",
        "        logits = F.softmax(cnn_model(features), dim=1)\n",
        "        targets = batch[\"targets\"].squeeze().long().to(device)\n",
        "        batch_acc = train_accuracy(logits, targets)\n",
        "        loss = loss_func(logits, targets)\n",
        "        loss.backward()\n",
        "        optimizer.step()\n",
        "        train_loss += loss.item()\n",
        "        train_acc += batch_acc.item()\n",
        "\n",
        "    train_loss /= len(train_dataloader)\n",
        "    train_acc = train_accuracy.compute()\n",
        "    metric_history[\"train\"].append({\"epoch\": epoch,\"loss\":train_loss, \"acc\":train_acc.item()})\n",
        "    \n",
        "    val_loss = 0.0\n",
        "    val_accuracy = metrics.Accuracy().to(device)\n",
        "    cnn_model.eval()\n",
        "    pbar = tqdm(enumerate(test_dataloader), total=len(test_dataloader), leave=False)\n",
        "    pbar.set_description(f\"Epoch {epoch}\")\n",
        "    for it, batch in pbar:\n",
        "        features = batch[\"features\"].to(device)\n",
        "        predictions = cnn_model(features)\n",
        "        targets = batch[\"targets\"].squeeze().long().to(device)\n",
        "        logits = F.softmax(predictions, dim=1)\n",
        "        batch_acc = val_accuracy(logits, targets)\n",
        "        loss = loss_func(logits, targets)\n",
        "        val_loss += loss.item()\n",
        "        val_acc += batch_acc.item()\n",
        "    \n",
        "    val_loss /= len(test_dataloader)\n",
        "    val_acc = val_accuracy.compute()\n",
        "    metric_history[\"val\"].append({\"epoch\": epoch,\"loss\":val_loss, \"acc\":val_acc.item()})\n",
        "    if val_acc > max_acc:\n",
        "        max_acc = val_acc\n",
        "        best_model = cnn_model.state_dict()\n",
        "    else:\n",
        "        cur_patience += 1\n",
        "        if cur_patience == patience:\n",
        "            cur_patience = 0\n",
        "            break\n",
        "    \n",
        "    print('Epoch: {}, train loss: {:.3f}, val loss: {:.3f}, train acc: {:.4f}, val acc: {:.4f}'.format(epoch, train_loss, val_loss, train_acc, val_acc))\n",
        "cnn_model.load_state_dict(best_model)"
      ],
      "execution_count": 85,
      "outputs": [
        {
          "output_type": "display_data",
          "data": {
            "application/vnd.jupyter.widget-view+json": {
              "model_id": "3651428351de4136bb9524f62fbe1356",
              "version_minor": 0,
              "version_major": 2
            },
            "text/plain": [
              "HBox(children=(FloatProgress(value=0.0, max=1250.0), HTML(value='')))"
            ]
          },
          "metadata": {
            "tags": []
          }
        },
        {
          "output_type": "display_data",
          "data": {
            "application/vnd.jupyter.widget-view+json": {
              "model_id": "e869be3f760e43f3ae322c513181ac47",
              "version_minor": 0,
              "version_major": 2
            },
            "text/plain": [
              "HBox(children=(FloatProgress(value=0.0, max=313.0), HTML(value='')))"
            ]
          },
          "metadata": {
            "tags": []
          }
        },
        {
          "output_type": "stream",
          "text": [
            "Epoch: 1, train loss: 1.389, val loss: 1.334, train acc: 0.4990, val acc: 0.5573\n"
          ],
          "name": "stdout"
        },
        {
          "output_type": "display_data",
          "data": {
            "application/vnd.jupyter.widget-view+json": {
              "model_id": "3d531505f0c74b0b8886e82819ca1609",
              "version_minor": 0,
              "version_major": 2
            },
            "text/plain": [
              "HBox(children=(FloatProgress(value=0.0, max=1250.0), HTML(value='')))"
            ]
          },
          "metadata": {
            "tags": []
          }
        },
        {
          "output_type": "display_data",
          "data": {
            "application/vnd.jupyter.widget-view+json": {
              "model_id": "99e6c55590aa4515b2485d5e9a421b72",
              "version_minor": 0,
              "version_major": 2
            },
            "text/plain": [
              "HBox(children=(FloatProgress(value=0.0, max=313.0), HTML(value='')))"
            ]
          },
          "metadata": {
            "tags": []
          }
        },
        {
          "output_type": "stream",
          "text": [
            "Epoch: 2, train loss: 1.286, val loss: 1.314, train acc: 0.6134, val acc: 0.5803\n"
          ],
          "name": "stdout"
        },
        {
          "output_type": "display_data",
          "data": {
            "application/vnd.jupyter.widget-view+json": {
              "model_id": "38ed7e5f090e4f8db5f472e345243ede",
              "version_minor": 0,
              "version_major": 2
            },
            "text/plain": [
              "HBox(children=(FloatProgress(value=0.0, max=1250.0), HTML(value='')))"
            ]
          },
          "metadata": {
            "tags": []
          }
        },
        {
          "output_type": "display_data",
          "data": {
            "application/vnd.jupyter.widget-view+json": {
              "model_id": "9732287556784e9fb68e2df9367e57cb",
              "version_minor": 0,
              "version_major": 2
            },
            "text/plain": [
              "HBox(children=(FloatProgress(value=0.0, max=313.0), HTML(value='')))"
            ]
          },
          "metadata": {
            "tags": []
          }
        },
        {
          "output_type": "stream",
          "text": [
            "Epoch: 3, train loss: 1.233, val loss: 1.303, train acc: 0.6672, val acc: 0.5915\n"
          ],
          "name": "stdout"
        },
        {
          "output_type": "display_data",
          "data": {
            "application/vnd.jupyter.widget-view+json": {
              "model_id": "3e03b2c3967645db8798143d750412d2",
              "version_minor": 0,
              "version_major": 2
            },
            "text/plain": [
              "HBox(children=(FloatProgress(value=0.0, max=1250.0), HTML(value='')))"
            ]
          },
          "metadata": {
            "tags": []
          }
        },
        {
          "output_type": "display_data",
          "data": {
            "application/vnd.jupyter.widget-view+json": {
              "model_id": "cb2e8bcb2f494e5f9fef8d797e641f27",
              "version_minor": 0,
              "version_major": 2
            },
            "text/plain": [
              "HBox(children=(FloatProgress(value=0.0, max=313.0), HTML(value='')))"
            ]
          },
          "metadata": {
            "tags": []
          }
        },
        {
          "output_type": "stream",
          "text": [
            "Epoch: 4, train loss: 1.195, val loss: 1.307, train acc: 0.7078, val acc: 0.5881\n"
          ],
          "name": "stdout"
        },
        {
          "output_type": "display_data",
          "data": {
            "application/vnd.jupyter.widget-view+json": {
              "model_id": "d17c0f8aeeb3473e8a5d1195ca58fde7",
              "version_minor": 0,
              "version_major": 2
            },
            "text/plain": [
              "HBox(children=(FloatProgress(value=0.0, max=1250.0), HTML(value='')))"
            ]
          },
          "metadata": {
            "tags": []
          }
        },
        {
          "output_type": "display_data",
          "data": {
            "application/vnd.jupyter.widget-view+json": {
              "model_id": "c2c5d773feb14fd0b8f581e621e4390d",
              "version_minor": 0,
              "version_major": 2
            },
            "text/plain": [
              "HBox(children=(FloatProgress(value=0.0, max=313.0), HTML(value='')))"
            ]
          },
          "metadata": {
            "tags": []
          }
        },
        {
          "output_type": "stream",
          "text": [
            "Epoch: 5, train loss: 1.169, val loss: 1.304, train acc: 0.7337, val acc: 0.5957\n"
          ],
          "name": "stdout"
        },
        {
          "output_type": "execute_result",
          "data": {
            "text/plain": [
              "<All keys matched successfully>"
            ]
          },
          "metadata": {
            "tags": []
          },
          "execution_count": 85
        }
      ]
    },
    {
      "cell_type": "code",
      "metadata": {
        "colab": {
          "base_uri": "https://localhost:8080/",
          "height": 400
        },
        "id": "X0Kbn5yyA9yY",
        "outputId": "a4bfb753-f036-458c-9fc5-f9a7a4ea4e69"
      },
      "source": [
        "plot_learning_curves(metric_history)"
      ],
      "execution_count": 86,
      "outputs": [
        {
          "output_type": "display_data",
          "data": {
            "image/png": "[encoded data removed]",
            "text/plain": [
              "<Figure size 1152x432 with 2 Axes>"
            ]
          },
          "metadata": {
            "tags": []
          }
        }
      ]
    },
    {
      "cell_type": "markdown",
      "metadata": {
        "id": "_Gh6HR7KBJYy"
      },
      "source": [
        "We can see that initializing embeddings layer with our pretrained embedding vectors but letting it change during training produces much better results, as it allows the model to fine-tune it for our specific task of genre classification. This model has managed to reach the accuracy of ~60%, which is very close to our best model so far (LogReg with tf-idf weighting of our embeddings).\n",
        "\n",
        "We think that with more time for architecture & hyperparameter tuning, we could've surpassed that result."
      ]
    },
    {
      "cell_type": "code",
      "metadata": {
        "id": "ZfjJc7vdDDhT"
      },
      "source": [
        ""
      ],
      "execution_count": null,
      "outputs": []
    }
  ]
}