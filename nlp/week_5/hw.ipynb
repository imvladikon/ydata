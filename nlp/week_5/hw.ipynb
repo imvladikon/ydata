{
  "nbformat": 4,
  "nbformat_minor": 0,
  "metadata": {
    "colab": {
      "name": "HW5_2021",
      "provenance": [],
      "collapsed_sections": []
    },
    "kernelspec": {
      "name": "python3",
      "display_name": "Python 3"
    },
    "language_info": {
      "name": "python"
    },
    "accelerator": "GPU"
  },
  "cells": [
    {
      "cell_type": "markdown",
      "metadata": {
        "id": "EhOUh0qzFFje"
      },
      "source": [
        "In this exercise, we are going to fine-tune a model on a supervised **relation extraction** dataset.\n",
        "\n",
        "The goal of the model is to predict, given a sentence and the character spans of two entities within the sentence, the relationship between the entities.\n",
        "\n",
        "For example given the sentence:\n",
        "\n",
        "\n",
        "**John, who played last night, is Doe's father.**\n",
        "\n",
        "\n",
        "The model given the sentence and the spans of the entities John a Doe the model will have to predict what is the relation between Dohn and Doe from a set of pre-defined relations in this case the relation is parents (please note that some of the relations are one-way relations)\n",
        "\n",
        "The dataset we will use is a subset of the [TACRED](https://nlp.stanford.edu/projects/tacred/) dataset, a supervised relation extraction dataset by Stanford University. \n"
      ]
    },
    {
      "cell_type": "markdown",
      "metadata": {
        "id": "FFLhifPY8V58"
      },
      "source": [
        "As you realize by now, the straight forward supervised approach is just to take one of the transformers and use the sentence and the entity spans as input. However, in this exercise we will try a different approach using **Question Answering (QA)**.\n",
        "\n",
        "Instead of just using the entities span and the sentence, we will train a model to answer the following questions \"Who are the parents of John?\",\"Who are the children of Doe?\". If the question answering model will be able to answer the question succusfully than we will be able to conclude that the relation between the two entites exists.\n",
        "\n",
        "In general **for each realtion** we will need to come up with template questions: In the example above the template questions corresponding to the parents relation are: \n",
        "\n",
        "*   Who are the parents of E1?\n",
        "*   Who are the children of E2?\n",
        "\n",
        "where E1 and E2 are the entities.\n",
        "\n",
        "\n",
        "\n",
        "# Your part\n",
        "\n",
        "You are required to fine-tune a model for relation extraction using the question answering framework.\n",
        "\n",
        "Notes:\n",
        "\n",
        "\n",
        "* In previous lectures we have seen a demo notebook demonstrating how to fine-tune a transformer on SQUAD, **from a technical prespective we are doing the same.**\n",
        "*   For each one of the seven relations in the dataset you will need to find appropriate questions (please note that the questions must be SQUAD-like, meaning that if the answer exists it must be contained within the sentence in a contiguous way.)\n",
        "* There are several issues that you will need to consider. Please provide a brief explanation whenever you tackle such issues\n"
      ]
    },
    {
      "cell_type": "markdown",
      "metadata": {
        "id": "bUE24XG63vPM"
      },
      "source": [
        "## Data\n",
        "\n",
        "Let's download the data from the web, hosted on Dropbox."
      ]
    },
    {
      "cell_type": "code",
      "metadata": {
        "id": "9sFqwmObswh9",
        "colab": {
          "base_uri": "https://localhost:8080/"
        },
        "outputId": "818a9aef-a740-4476-aa23-5b0e4072400b"
      },
      "source": [
        "!pip install -q transformers "
      ],
      "execution_count": null,
      "outputs": [
        {
          "output_type": "stream",
          "text": [
            "\u001b[K     |████████████████████████████████| 2.5MB 24.6MB/s \n",
            "\u001b[K     |████████████████████████████████| 901kB 50.5MB/s \n",
            "\u001b[K     |████████████████████████████████| 3.3MB 55.8MB/s \n",
            "\u001b[?25h"
          ],
          "name": "stdout"
        }
      ]
    },
    {
      "cell_type": "code",
      "metadata": {
        "id": "XeKagbUCNj05"
      },
      "source": [
        "import requests, zipfile, io\n",
        "\n",
        "def download_data():\n",
        "    url = \"https://www.dropbox.com/s/izi2x4sjohpzoot/relation_extraction_dataset.zip?dl=1\"\n",
        "    r = requests.get(url)\n",
        "    z = zipfile.ZipFile(io.BytesIO(r.content))\n",
        "    z.extractall()\n",
        "\n",
        "download_data()"
      ],
      "execution_count": null,
      "outputs": []
    },
    {
      "cell_type": "markdown",
      "metadata": {
        "id": "TG7bi0fYOfw2"
      },
      "source": [
        "Each row in the dataframe consists of a news article, and a sentence in which a certain relationship was found (just as \"invested_in\", or \"founded_by\"). There were some patterns used to gather the data, so it might contain some noise. "
      ]
    },
    {
      "cell_type": "code",
      "metadata": {
        "colab": {
          "base_uri": "https://localhost:8080/",
          "height": 379
        },
        "id": "hDkptorP9Koh",
        "outputId": "dd1e1a1b-ac69-4ce0-8d7d-c3cf8300eaa5"
      },
      "source": [
        "import pandas as pd\n",
        "\n",
        "df = pd.read_pickle(\"relation_extraction_dataset.pkl\")\n",
        "df.reset_index(drop=True, inplace=True)\n",
        "df.head()"
      ],
      "execution_count": null,
      "outputs": [
        {
          "output_type": "execute_result",
          "data": {
            "text/html": [
              "<div>\n",
              "<style scoped>\n",
              "    .dataframe tbody tr th:only-of-type {\n",
              "        vertical-align: middle;\n",
              "    }\n",
              "\n",
              "    .dataframe tbody tr th {\n",
              "        vertical-align: top;\n",
              "    }\n",
              "\n",
              "    .dataframe thead th {\n",
              "        text-align: right;\n",
              "    }\n",
              "</style>\n",
              "<table border=\"1\" class=\"dataframe\">\n",
              "  <thead>\n",
              "    <tr style=\"text-align: right;\">\n",
              "      <th></th>\n",
              "      <th>end_idx</th>\n",
              "      <th>entities</th>\n",
              "      <th>entity_spans</th>\n",
              "      <th>match</th>\n",
              "      <th>original_article</th>\n",
              "      <th>sentence</th>\n",
              "      <th>start_idx</th>\n",
              "      <th>string_id</th>\n",
              "    </tr>\n",
              "  </thead>\n",
              "  <tbody>\n",
              "    <tr>\n",
              "      <th>0</th>\n",
              "      <td>1024</td>\n",
              "      <td>[Lilium, Baillie Gifford]</td>\n",
              "      <td>[[3, 9], [151, 166]]</td>\n",
              "      <td>raising $35</td>\n",
              "      <td>Happy Friday!\\n\\nWe sincerely hope you and you...</td>\n",
              "      <td>3) Lilium, a German startup that’s making an a...</td>\n",
              "      <td>1013</td>\n",
              "      <td>invested_in</td>\n",
              "    </tr>\n",
              "    <tr>\n",
              "      <th>1</th>\n",
              "      <td>1762</td>\n",
              "      <td>[Facebook ’s, Giphy]</td>\n",
              "      <td>[[92, 102], [148, 153]]</td>\n",
              "      <td>acquisition</td>\n",
              "      <td>Happy Friday!\\n\\nWe sincerely hope you and you...</td>\n",
              "      <td>Meanwhile, the UK’s watchdog on Friday announc...</td>\n",
              "      <td>1751</td>\n",
              "      <td>acquired_by</td>\n",
              "    </tr>\n",
              "    <tr>\n",
              "      <th>2</th>\n",
              "      <td>2784</td>\n",
              "      <td>[Global-e, Vitruvian Partners]</td>\n",
              "      <td>[[27, 35], [94, 112]]</td>\n",
              "      <td>raised $60</td>\n",
              "      <td>Happy Friday!\\n\\nWe sincerely hope you and you...</td>\n",
              "      <td>Israeli e-commerce startup Global-e has raised...</td>\n",
              "      <td>2774</td>\n",
              "      <td>invested_in</td>\n",
              "    </tr>\n",
              "    <tr>\n",
              "      <th>3</th>\n",
              "      <td>680</td>\n",
              "      <td>[Joris Van Der Gucht, Silverfin]</td>\n",
              "      <td>[[0, 19], [35, 44]]</td>\n",
              "      <td>founder</td>\n",
              "      <td>Hg is a leading investor in tax and accounting...</td>\n",
              "      <td>Joris Van Der Gucht, co-founder at Silverfin c...</td>\n",
              "      <td>673</td>\n",
              "      <td>founded_by</td>\n",
              "    </tr>\n",
              "    <tr>\n",
              "      <th>4</th>\n",
              "      <td>2070</td>\n",
              "      <td>[Tim Vandecasteele, Silverfin]</td>\n",
              "      <td>[[0, 17], [71, 80]]</td>\n",
              "      <td>founder</td>\n",
              "      <td>Hg is a leading investor in tax and accounting...</td>\n",
              "      <td>Tim Vandecasteele, co-founder added: \"We want ...</td>\n",
              "      <td>2063</td>\n",
              "      <td>founded_by</td>\n",
              "    </tr>\n",
              "  </tbody>\n",
              "</table>\n",
              "</div>"
            ],
            "text/plain": [
              "  end_idx                          entities  ... start_idx    string_id\n",
              "0    1024         [Lilium, Baillie Gifford]  ...      1013  invested_in\n",
              "1    1762              [Facebook ’s, Giphy]  ...      1751  acquired_by\n",
              "2    2784    [Global-e, Vitruvian Partners]  ...      2774  invested_in\n",
              "3     680  [Joris Van Der Gucht, Silverfin]  ...       673   founded_by\n",
              "4    2070    [Tim Vandecasteele, Silverfin]  ...      2063   founded_by\n",
              "\n",
              "[5 rows x 8 columns]"
            ]
          },
          "metadata": {
            "tags": []
          },
          "execution_count": 3
        }
      ]
    },
    {
      "cell_type": "markdown",
      "metadata": {
        "id": "KOQ0StVfOEw0"
      },
      "source": [
        "Let's create 2 dictionaries, one that maps each label to a unique integer, and one that does it the other way around."
      ]
    },
    {
      "cell_type": "code",
      "metadata": {
        "id": "vDTHyKq2A8-d"
      },
      "source": [
        "id2label = dict()\n",
        "for idx, label in enumerate(df.string_id.value_counts().index):\n",
        "  id2label[idx] = label"
      ],
      "execution_count": null,
      "outputs": []
    },
    {
      "cell_type": "markdown",
      "metadata": {
        "id": "PIv9xV_eOthR"
      },
      "source": [
        "As we can see, there are 7 labels (7 unique relationships):"
      ]
    },
    {
      "cell_type": "code",
      "metadata": {
        "colab": {
          "base_uri": "https://localhost:8080/"
        },
        "id": "GhnbVGAZBW4B",
        "outputId": "edeb7469-0796-4f3d-c1cb-517a618d673d"
      },
      "source": [
        "id2label"
      ],
      "execution_count": null,
      "outputs": [
        {
          "output_type": "execute_result",
          "data": {
            "text/plain": [
              "{0: 'founded_by',\n",
              " 1: 'acquired_by',\n",
              " 2: 'invested_in',\n",
              " 3: 'CEO_of',\n",
              " 4: 'subsidiary_of',\n",
              " 5: 'partners_with',\n",
              " 6: 'owned_by'}"
            ]
          },
          "metadata": {
            "tags": []
          },
          "execution_count": 5
        }
      ]
    },
    {
      "cell_type": "code",
      "metadata": {
        "colab": {
          "base_uri": "https://localhost:8080/"
        },
        "id": "_ecDeeGVBYDM",
        "outputId": "df6cbe43-df77-4c2c-f06f-0ec092469ae3"
      },
      "source": [
        "label2id = {v:k for k,v in id2label.items()}\n",
        "label2id"
      ],
      "execution_count": null,
      "outputs": [
        {
          "output_type": "execute_result",
          "data": {
            "text/plain": [
              "{'CEO_of': 3,\n",
              " 'acquired_by': 1,\n",
              " 'founded_by': 0,\n",
              " 'invested_in': 2,\n",
              " 'owned_by': 6,\n",
              " 'partners_with': 5,\n",
              " 'subsidiary_of': 4}"
            ]
          },
          "metadata": {
            "tags": []
          },
          "execution_count": 6
        }
      ]
    },
    {
      "cell_type": "markdown",
      "metadata": {
        "id": "fgKl-ZVcANUb"
      },
      "source": [
        "## Good Luck\n",
        "\n",
        "\n"
      ]
    }
  ]
}